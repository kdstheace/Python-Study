{
 "cells": [
  {
   "cell_type": "markdown",
   "metadata": {},
   "source": [
    "# 주민번호 검증하기"
   ]
  },
  {
   "cell_type": "code",
   "execution_count": 12,
   "metadata": {},
   "outputs": [
    {
     "name": "stdout",
     "output_type": "stream",
     "text": [
      "주민번호를 -와 함께 입력하세요111111-1111118\n",
      "8\n"
     ]
    },
    {
     "ename": "TypeError",
     "evalue": "'bool' object is not subscriptable",
     "output_type": "error",
     "traceback": [
      "\u001b[1;31m---------------------------------------------------------------------------\u001b[0m",
      "\u001b[1;31mTypeError\u001b[0m                                 Traceback (most recent call last)",
      "\u001b[1;32m<ipython-input-12-4b3dfb09b4cf>\u001b[0m in \u001b[0;36m<module>\u001b[1;34m\u001b[0m\n\u001b[0;32m     34\u001b[0m \u001b[1;33m\u001b[0m\u001b[0m\n\u001b[0;32m     35\u001b[0m \u001b[1;32mif\u001b[0m \u001b[0mdata\u001b[0m \u001b[1;33m:\u001b[0m\u001b[1;33m\u001b[0m\u001b[1;33m\u001b[0m\u001b[0m\n\u001b[1;32m---> 36\u001b[1;33m     \u001b[0mprint\u001b[0m\u001b[1;33m(\u001b[0m\u001b[1;34m'당신은'\u001b[0m\u001b[1;33m,\u001b[0m \u001b[0mdata\u001b[0m\u001b[1;33m[\u001b[0m\u001b[1;36m1\u001b[0m\u001b[1;33m]\u001b[0m\u001b[1;33m,\u001b[0m \u001b[1;34m'년'\u001b[0m\u001b[1;33m,\u001b[0m \u001b[0mdata\u001b[0m\u001b[1;33m[\u001b[0m\u001b[1;36m2\u001b[0m\u001b[1;33m]\u001b[0m\u001b[1;33m,\u001b[0m \u001b[1;34m'월'\u001b[0m\u001b[1;33m,\u001b[0m \u001b[0mdata\u001b[0m\u001b[1;33m[\u001b[0m\u001b[1;36m3\u001b[0m\u001b[1;33m]\u001b[0m\u001b[1;33m,\u001b[0m \u001b[1;34m'일생'\u001b[0m\u001b[1;33m,\u001b[0m \u001b[0mdata\u001b[0m\u001b[1;33m[\u001b[0m\u001b[1;36m0\u001b[0m\u001b[1;33m]\u001b[0m\u001b[1;33m,\u001b[0m \u001b[1;34m'입니다.'\u001b[0m\u001b[1;33m)\u001b[0m\u001b[1;33m\u001b[0m\u001b[1;33m\u001b[0m\u001b[0m\n\u001b[0m\u001b[0;32m     37\u001b[0m \u001b[1;32melse\u001b[0m\u001b[1;33m:\u001b[0m\u001b[1;33m\u001b[0m\u001b[1;33m\u001b[0m\u001b[0m\n\u001b[0;32m     38\u001b[0m     \u001b[0mprint\u001b[0m\u001b[1;33m(\u001b[0m\u001b[1;34m\"잘못된 주민번호입니다.\"\u001b[0m\u001b[1;33m)\u001b[0m\u001b[1;33m\u001b[0m\u001b[1;33m\u001b[0m\u001b[0m\n",
      "\u001b[1;31mTypeError\u001b[0m: 'bool' object is not subscriptable"
     ]
    }
   ],
   "source": [
    "# 주민번호를 입력받아 유효성 검증하기 (pass 부분을 지우고 코드를 완성)\n",
    "# 검증해야 되는 내용은 문서 참고\n",
    "# 아래의 코드는 수정할 수 없음\n",
    "def validation(jumin):\n",
    "    if len(jumin) != 14 : return False\n",
    "    \n",
    "    position = jumin.find('-')\n",
    "    if jumin[6] != '-' : return False\n",
    "    \n",
    "    if not jumin[:position].isnumeric() or not jumin[position+1:].isnumeric() :\n",
    "        return False\n",
    "    \n",
    "    # 유효성 검증\n",
    "    total = 0\n",
    "    i = 2\n",
    "    \n",
    "    for digit in jumin[:-1] :\n",
    "        if not digit.isnumeric() : continue\n",
    "        \n",
    "        total += int(digit) * i\n",
    "        i += 1\n",
    "        if i== 10 : \n",
    "            i = 2\n",
    "            continue\n",
    "            \n",
    "    t1 = 11 - (total % 11)\n",
    "    t2 = jumin[-1]\n",
    "    \n",
    "    if t1 != int(t2) : return False\n",
    "    \n",
    "    gender = '여자' if int(jumin[7]) % 2 == 0 else '남자'\n",
    "    birthyear  = jumin[:2]\n",
    "    birthmonth = jumin[2:4]\n",
    "    birthday  =  jumin[4:6]\n",
    "    \n",
    "    return [gender, birthyear, birthmonth, birthday]\n",
    "\n",
    "jumin=input(\"주민번호를 -와 함께 입력하세요\")\n",
    "data=validation(jumin)\n",
    "\n",
    "if data :\n",
    "    print('당신은', data[1], '년', data[2], '월', data[3], '일생', data[0], '입니다.')\n",
    "else:\n",
    "    print(\"잘못된 주민번호입니다.\")\n"
   ]
  },
  {
   "cell_type": "code",
   "execution_count": null,
   "metadata": {},
   "outputs": [],
   "source": []
  },
  {
   "cell_type": "code",
   "execution_count": null,
   "metadata": {},
   "outputs": [],
   "source": []
  },
  {
   "cell_type": "code",
   "execution_count": null,
   "metadata": {},
   "outputs": [],
   "source": []
  },
  {
   "cell_type": "code",
   "execution_count": null,
   "metadata": {},
   "outputs": [],
   "source": []
  }
 ],
 "metadata": {
  "kernelspec": {
   "display_name": "Python 3",
   "language": "python",
   "name": "python3"
  },
  "language_info": {
   "codemirror_mode": {
    "name": "ipython",
    "version": 3
   },
   "file_extension": ".py",
   "mimetype": "text/x-python",
   "name": "python",
   "nbconvert_exporter": "python",
   "pygments_lexer": "ipython3",
   "version": "3.8.5"
  }
 },
 "nbformat": 4,
 "nbformat_minor": 4
}
