{
  "nbformat": 4,
  "nbformat_minor": 0,
  "metadata": {
    "colab": {
      "name": "[Review]Keras3_Boston.ipynb",
      "provenance": [],
      "collapsed_sections": [],
      "authorship_tag": "ABX9TyNM1yAxEved+4CGLulg1w0X",
      "include_colab_link": true
    },
    "kernelspec": {
      "name": "python3",
      "display_name": "Python 3"
    },
    "language_info": {
      "name": "python"
    }
  },
  "cells": [
    {
      "cell_type": "markdown",
      "metadata": {
        "id": "view-in-github",
        "colab_type": "text"
      },
      "source": [
        "<a href=\"https://colab.research.google.com/github/kdstheace/Study_Python_MachineLearning/blob/main/%5BReview%5DKeras3_Boston.ipynb\" target=\"_parent\"><img src=\"https://colab.research.google.com/assets/colab-badge.svg\" alt=\"Open In Colab\"/></a>"
      ]
    },
    {
      "cell_type": "code",
      "metadata": {
        "id": "Rta8_WGKjahq"
      },
      "source": [
        "import numpy as np \n",
        "import pandas as pd\n",
        "import matplotlib.pyplot as plt\n",
        "\n",
        "import tensorflow as tf\n",
        "\n",
        "from keras.models import Sequential\n",
        "from keras.layers import Dense\n",
        "\n",
        "from sklearn.datasets import load_boston\n",
        "from sklearn.preprocessing import StandardScaler\n",
        "from sklearn.model_selection import train_test_split #데이터 분할시킬 때 사용하는 함수"
      ],
      "execution_count": 19,
      "outputs": []
    },
    {
      "cell_type": "code",
      "metadata": {
        "colab": {
          "base_uri": "https://localhost:8080/"
        },
        "id": "YNibM8dnkNzR",
        "outputId": "b1194496-43f3-40d5-f354-84f51a830dba"
      },
      "source": [
        "#하이퍼파라미터(상수값으로)\n",
        "MY_EPOCH = 50\n",
        "MY_BATCH = 32\n",
        "boston = load_boston()\n",
        "title = boston['feature_names']\n",
        "X = boston['data']\n",
        "y = boston['target']\n",
        "\n",
        "#title에 'MEDV(타겟)'추가\n",
        "title = np.append(title, ['MEDV'])\n",
        "\n",
        "#DATA와 Target 합치기\n",
        "raw_data = np.append(X, y.reshape(-1, 1), axis = 1) #axis = 1안붙이면 카티젼조인이 된다. n*n개 생김.\n",
        "len(raw_data)"
      ],
      "execution_count": 2,
      "outputs": [
        {
          "output_type": "execute_result",
          "data": {
            "text/plain": [
              "506"
            ]
          },
          "metadata": {
            "tags": []
          },
          "execution_count": 2
        }
      ]
    },
    {
      "cell_type": "code",
      "metadata": {
        "id": "tCn0HNHTkNv3"
      },
      "source": [
        "\n",
        "#df = DataFrame으로 수정\n",
        "df = pd.DataFrame(raw_data, columns = title)\n",
        "\n",
        "#통계\n",
        "df.describe()\n",
        "\n",
        "#'crim'항목 누락\n",
        "df = df.drop('CRIM', axis=1) #df.drop(columns='CRIM'),  df.pop(0) 해도 괜찮아\n",
        "title=title[1:] #타이틀도 날려줘야지! 나중에 또 쓸지모르니까\n"
      ],
      "execution_count": 3,
      "outputs": []
    },
    {
      "cell_type": "code",
      "metadata": {
        "colab": {
          "base_uri": "https://localhost:8080/",
          "height": 402
        },
        "id": "yHyYebsqkNqF",
        "outputId": "2744bb17-d114-4040-94d6-5696a6f6557c"
      },
      "source": [
        "\n",
        "#스케일링  : 너무 크거나 너무 작은 데이터가 나오지 않도록.-1~1사이의 값으로 압축시켜버림.\n",
        "scaler = StandardScaler()\n",
        "scaled_DB = scaler.fit_transform(df)\n",
        "\n",
        "scaled_DB = pd.DataFrame(scaled_DB, columns=title)\n",
        "scaled_DB"
      ],
      "execution_count": 4,
      "outputs": [
        {
          "output_type": "execute_result",
          "data": {
            "text/html": [
              "<div>\n",
              "<style scoped>\n",
              "    .dataframe tbody tr th:only-of-type {\n",
              "        vertical-align: middle;\n",
              "    }\n",
              "\n",
              "    .dataframe tbody tr th {\n",
              "        vertical-align: top;\n",
              "    }\n",
              "\n",
              "    .dataframe thead th {\n",
              "        text-align: right;\n",
              "    }\n",
              "</style>\n",
              "<table border=\"1\" class=\"dataframe\">\n",
              "  <thead>\n",
              "    <tr style=\"text-align: right;\">\n",
              "      <th></th>\n",
              "      <th>ZN</th>\n",
              "      <th>INDUS</th>\n",
              "      <th>CHAS</th>\n",
              "      <th>NOX</th>\n",
              "      <th>RM</th>\n",
              "      <th>AGE</th>\n",
              "      <th>DIS</th>\n",
              "      <th>RAD</th>\n",
              "      <th>TAX</th>\n",
              "      <th>PTRATIO</th>\n",
              "      <th>B</th>\n",
              "      <th>LSTAT</th>\n",
              "      <th>MEDV</th>\n",
              "    </tr>\n",
              "  </thead>\n",
              "  <tbody>\n",
              "    <tr>\n",
              "      <th>0</th>\n",
              "      <td>0.284830</td>\n",
              "      <td>-1.287909</td>\n",
              "      <td>-0.272599</td>\n",
              "      <td>-0.144217</td>\n",
              "      <td>0.413672</td>\n",
              "      <td>-0.120013</td>\n",
              "      <td>0.140214</td>\n",
              "      <td>-0.982843</td>\n",
              "      <td>-0.666608</td>\n",
              "      <td>-1.459000</td>\n",
              "      <td>0.441052</td>\n",
              "      <td>-1.075562</td>\n",
              "      <td>0.159686</td>\n",
              "    </tr>\n",
              "    <tr>\n",
              "      <th>1</th>\n",
              "      <td>-0.487722</td>\n",
              "      <td>-0.593381</td>\n",
              "      <td>-0.272599</td>\n",
              "      <td>-0.740262</td>\n",
              "      <td>0.194274</td>\n",
              "      <td>0.367166</td>\n",
              "      <td>0.557160</td>\n",
              "      <td>-0.867883</td>\n",
              "      <td>-0.987329</td>\n",
              "      <td>-0.303094</td>\n",
              "      <td>0.441052</td>\n",
              "      <td>-0.492439</td>\n",
              "      <td>-0.101524</td>\n",
              "    </tr>\n",
              "    <tr>\n",
              "      <th>2</th>\n",
              "      <td>-0.487722</td>\n",
              "      <td>-0.593381</td>\n",
              "      <td>-0.272599</td>\n",
              "      <td>-0.740262</td>\n",
              "      <td>1.282714</td>\n",
              "      <td>-0.265812</td>\n",
              "      <td>0.557160</td>\n",
              "      <td>-0.867883</td>\n",
              "      <td>-0.987329</td>\n",
              "      <td>-0.303094</td>\n",
              "      <td>0.396427</td>\n",
              "      <td>-1.208727</td>\n",
              "      <td>1.324247</td>\n",
              "    </tr>\n",
              "    <tr>\n",
              "      <th>3</th>\n",
              "      <td>-0.487722</td>\n",
              "      <td>-1.306878</td>\n",
              "      <td>-0.272599</td>\n",
              "      <td>-0.835284</td>\n",
              "      <td>1.016303</td>\n",
              "      <td>-0.809889</td>\n",
              "      <td>1.077737</td>\n",
              "      <td>-0.752922</td>\n",
              "      <td>-1.106115</td>\n",
              "      <td>0.113032</td>\n",
              "      <td>0.416163</td>\n",
              "      <td>-1.361517</td>\n",
              "      <td>1.182758</td>\n",
              "    </tr>\n",
              "    <tr>\n",
              "      <th>4</th>\n",
              "      <td>-0.487722</td>\n",
              "      <td>-1.306878</td>\n",
              "      <td>-0.272599</td>\n",
              "      <td>-0.835284</td>\n",
              "      <td>1.228577</td>\n",
              "      <td>-0.511180</td>\n",
              "      <td>1.077737</td>\n",
              "      <td>-0.752922</td>\n",
              "      <td>-1.106115</td>\n",
              "      <td>0.113032</td>\n",
              "      <td>0.441052</td>\n",
              "      <td>-1.026501</td>\n",
              "      <td>1.487503</td>\n",
              "    </tr>\n",
              "    <tr>\n",
              "      <th>...</th>\n",
              "      <td>...</td>\n",
              "      <td>...</td>\n",
              "      <td>...</td>\n",
              "      <td>...</td>\n",
              "      <td>...</td>\n",
              "      <td>...</td>\n",
              "      <td>...</td>\n",
              "      <td>...</td>\n",
              "      <td>...</td>\n",
              "      <td>...</td>\n",
              "      <td>...</td>\n",
              "      <td>...</td>\n",
              "      <td>...</td>\n",
              "    </tr>\n",
              "    <tr>\n",
              "      <th>501</th>\n",
              "      <td>-0.487722</td>\n",
              "      <td>0.115738</td>\n",
              "      <td>-0.272599</td>\n",
              "      <td>0.158124</td>\n",
              "      <td>0.439316</td>\n",
              "      <td>0.018673</td>\n",
              "      <td>-0.625796</td>\n",
              "      <td>-0.982843</td>\n",
              "      <td>-0.803212</td>\n",
              "      <td>1.176466</td>\n",
              "      <td>0.387217</td>\n",
              "      <td>-0.418147</td>\n",
              "      <td>-0.014454</td>\n",
              "    </tr>\n",
              "    <tr>\n",
              "      <th>502</th>\n",
              "      <td>-0.487722</td>\n",
              "      <td>0.115738</td>\n",
              "      <td>-0.272599</td>\n",
              "      <td>0.158124</td>\n",
              "      <td>-0.234548</td>\n",
              "      <td>0.288933</td>\n",
              "      <td>-0.716639</td>\n",
              "      <td>-0.982843</td>\n",
              "      <td>-0.803212</td>\n",
              "      <td>1.176466</td>\n",
              "      <td>0.441052</td>\n",
              "      <td>-0.500850</td>\n",
              "      <td>-0.210362</td>\n",
              "    </tr>\n",
              "    <tr>\n",
              "      <th>503</th>\n",
              "      <td>-0.487722</td>\n",
              "      <td>0.115738</td>\n",
              "      <td>-0.272599</td>\n",
              "      <td>0.158124</td>\n",
              "      <td>0.984960</td>\n",
              "      <td>0.797449</td>\n",
              "      <td>-0.773684</td>\n",
              "      <td>-0.982843</td>\n",
              "      <td>-0.803212</td>\n",
              "      <td>1.176466</td>\n",
              "      <td>0.441052</td>\n",
              "      <td>-0.983048</td>\n",
              "      <td>0.148802</td>\n",
              "    </tr>\n",
              "    <tr>\n",
              "      <th>504</th>\n",
              "      <td>-0.487722</td>\n",
              "      <td>0.115738</td>\n",
              "      <td>-0.272599</td>\n",
              "      <td>0.158124</td>\n",
              "      <td>0.725672</td>\n",
              "      <td>0.736996</td>\n",
              "      <td>-0.668437</td>\n",
              "      <td>-0.982843</td>\n",
              "      <td>-0.803212</td>\n",
              "      <td>1.176466</td>\n",
              "      <td>0.403225</td>\n",
              "      <td>-0.865302</td>\n",
              "      <td>-0.057989</td>\n",
              "    </tr>\n",
              "    <tr>\n",
              "      <th>505</th>\n",
              "      <td>-0.487722</td>\n",
              "      <td>0.115738</td>\n",
              "      <td>-0.272599</td>\n",
              "      <td>0.158124</td>\n",
              "      <td>-0.362767</td>\n",
              "      <td>0.434732</td>\n",
              "      <td>-0.613246</td>\n",
              "      <td>-0.982843</td>\n",
              "      <td>-0.803212</td>\n",
              "      <td>1.176466</td>\n",
              "      <td>0.441052</td>\n",
              "      <td>-0.669058</td>\n",
              "      <td>-1.157248</td>\n",
              "    </tr>\n",
              "  </tbody>\n",
              "</table>\n",
              "<p>506 rows × 13 columns</p>\n",
              "</div>"
            ],
            "text/plain": [
              "           ZN     INDUS      CHAS  ...         B     LSTAT      MEDV\n",
              "0    0.284830 -1.287909 -0.272599  ...  0.441052 -1.075562  0.159686\n",
              "1   -0.487722 -0.593381 -0.272599  ...  0.441052 -0.492439 -0.101524\n",
              "2   -0.487722 -0.593381 -0.272599  ...  0.396427 -1.208727  1.324247\n",
              "3   -0.487722 -1.306878 -0.272599  ...  0.416163 -1.361517  1.182758\n",
              "4   -0.487722 -1.306878 -0.272599  ...  0.441052 -1.026501  1.487503\n",
              "..        ...       ...       ...  ...       ...       ...       ...\n",
              "501 -0.487722  0.115738 -0.272599  ...  0.387217 -0.418147 -0.014454\n",
              "502 -0.487722  0.115738 -0.272599  ...  0.441052 -0.500850 -0.210362\n",
              "503 -0.487722  0.115738 -0.272599  ...  0.441052 -0.983048  0.148802\n",
              "504 -0.487722  0.115738 -0.272599  ...  0.403225 -0.865302 -0.057989\n",
              "505 -0.487722  0.115738 -0.272599  ...  0.441052 -0.669058 -1.157248\n",
              "\n",
              "[506 rows x 13 columns]"
            ]
          },
          "metadata": {
            "tags": []
          },
          "execution_count": 4
        }
      ]
    },
    {
      "cell_type": "code",
      "metadata": {
        "colab": {
          "base_uri": "https://localhost:8080/",
          "height": 265
        },
        "id": "cZu1Wql_kNnR",
        "outputId": "53aac769-532a-473b-b8e1-0bbc0890b0c6"
      },
      "source": [
        "bp = df.boxplot()"
      ],
      "execution_count": 5,
      "outputs": [
        {
          "output_type": "display_data",
          "data": {
            "image/png": "[encoded data removed]",
            "text/plain": [
              "<Figure size 432x288 with 1 Axes>"
            ]
          },
          "metadata": {
            "tags": [],
            "needs_background": "light"
          }
        }
      ]
    },
    {
      "cell_type": "code",
      "metadata": {
        "colab": {
          "base_uri": "https://localhost:8080/",
          "height": 265
        },
        "id": "XWH78E7JkNkJ",
        "outputId": "99896273-bebd-4195-9770-5e8d314cde3b"
      },
      "source": [
        "bp2 = scaled_DB.boxplot()\n",
        "#보면 이상치가 많은 Zn, RM, B는 누락시켜도 된다. MEDV는 결과값이니까 안없애도 괜찮아."
      ],
      "execution_count": 6,
      "outputs": [
        {
          "output_type": "display_data",
          "data": {
            "image/png": "[encoded data removed]",
            "text/plain": [
              "<Figure size 432x288 with 1 Axes>"
            ]
          },
          "metadata": {
            "tags": [],
            "needs_background": "light"
          }
        }
      ]
    },
    {
      "cell_type": "code",
      "metadata": {
        "colab": {
          "base_uri": "https://localhost:8080/"
        },
        "id": "mTXB752GkNhH",
        "outputId": "00d1a28e-9f81-45f2-8bcb-6b11904c6328"
      },
      "source": [
        "#X, y로 분리\n",
        "X = scaled_DB.drop('MEDV', axis=1)\n",
        "y = scaled_DB['MEDV']\n",
        "print(scaled_DB.shape)\n",
        "print(X.shape)\n",
        "print(y.shape)"
      ],
      "execution_count": 7,
      "outputs": [
        {
          "output_type": "stream",
          "text": [
            "(506, 13)\n",
            "(506, 12)\n",
            "(506,)\n"
          ],
          "name": "stdout"
        }
      ]
    },
    {
      "cell_type": "code",
      "metadata": {
        "colab": {
          "base_uri": "https://localhost:8080/"
        },
        "id": "8ya_eibvkNeZ",
        "outputId": "e38df3b4-0c7d-4fdd-f61a-368daf23d44c"
      },
      "source": [
        "#데이터 분할하기 (train, test 데이터를 분할 - 분할방식:랜덤하게 or 위에서부터 순차적으로)\n",
        "X_train, X_test, y_train, y_test = train_test_split(X, y, test_size=0.30, random_state=5) #여기서 5는 random seed값이다\n",
        "print(X_train.shape)\n",
        "print(X_test.shape)\n",
        "print(y_train.shape)\n",
        "print(y_test.shape)"
      ],
      "execution_count": 8,
      "outputs": [
        {
          "output_type": "stream",
          "text": [
            "(354, 12)\n",
            "(152, 12)\n",
            "(354,)\n",
            "(152,)\n"
          ],
          "name": "stdout"
        }
      ]
    },
    {
      "cell_type": "code",
      "metadata": {
        "colab": {
          "base_uri": "https://localhost:8080/"
        },
        "id": "V6FFEL9SkNbj",
        "outputId": "89ade6ff-a97b-47a1-bc99-e38231a2b73b"
      },
      "source": [
        "# 뉴런 생성하여 학습시키기\n",
        "#1) 모델 생성하기\n",
        "model = Sequential()\n",
        "model.add(Dense(units=200, activation='relu', input_dim=12))\n",
        "model.add(Dense(units=1000, activation='relu'))\n",
        "model.add(Dense(units=300, activation='relu'))\n",
        "model.add(Dense(units=900, activation='relu'))\n",
        "model.add(Dense(units=500, activation='relu'))\n",
        "model.add(Dense(units=1, activation='linear'))\n",
        "\n",
        "model.summary()"
      ],
      "execution_count": 9,
      "outputs": [
        {
          "output_type": "stream",
          "text": [
            "Model: \"sequential\"\n",
            "_________________________________________________________________\n",
            "Layer (type)                 Output Shape              Param #   \n",
            "=================================================================\n",
            "dense (Dense)                (None, 200)               2600      \n",
            "_________________________________________________________________\n",
            "dense_1 (Dense)              (None, 1000)              201000    \n",
            "_________________________________________________________________\n",
            "dense_2 (Dense)              (None, 300)               300300    \n",
            "_________________________________________________________________\n",
            "dense_3 (Dense)              (None, 900)               270900    \n",
            "_________________________________________________________________\n",
            "dense_4 (Dense)              (None, 500)               450500    \n",
            "_________________________________________________________________\n",
            "dense_5 (Dense)              (None, 1)                 501       \n",
            "=================================================================\n",
            "Total params: 1,225,801\n",
            "Trainable params: 1,225,801\n",
            "Non-trainable params: 0\n",
            "_________________________________________________________________\n"
          ],
          "name": "stdout"
        }
      ]
    },
    {
      "cell_type": "code",
      "metadata": {
        "id": "jsAz_ZltkNY4"
      },
      "source": [
        "#컴파일: 손실함수, 최적화함수 어떤 것을 쓸 것인가?\n",
        "model.compile(optimizer = 'sgd', loss='mse', metrics=['accuracy'])"
      ],
      "execution_count": 10,
      "outputs": []
    },
    {
      "cell_type": "code",
      "metadata": {
        "colab": {
          "base_uri": "https://localhost:8080/"
        },
        "id": "JPfuJw9VkNV_",
        "outputId": "66f05991-87da-4ae1-df31-4ca7f7a9cade"
      },
      "source": [
        "model.fit(X_train, y_train, epochs = MY_EPOCH, batch_size=MY_BATCH, verbose=1)\n",
        "#accuracy 말고 loss가 0.01이하로 나오면 된다. 즉 10%오차 이하로 나오면 된다.\n",
        "#분류하는 작업은 accuracy가 중요한데, 값을 추정하는 것은 loss가 중요하다."
      ],
      "execution_count": 11,
      "outputs": [
        {
          "output_type": "stream",
          "text": [
            "Epoch 1/50\n",
            "12/12 [==============================] - 1s 16ms/step - loss: 0.8222 - accuracy: 0.0000e+00\n",
            "Epoch 2/50\n",
            "12/12 [==============================] - 0s 15ms/step - loss: 0.7295 - accuracy: 0.0000e+00\n",
            "Epoch 3/50\n",
            "12/12 [==============================] - 0s 15ms/step - loss: 0.5629 - accuracy: 0.0000e+00\n",
            "Epoch 4/50\n",
            "12/12 [==============================] - 0s 17ms/step - loss: 0.4650 - accuracy: 0.0000e+00\n",
            "Epoch 5/50\n",
            "12/12 [==============================] - 0s 21ms/step - loss: 0.3501 - accuracy: 0.0000e+00\n",
            "Epoch 6/50\n",
            "12/12 [==============================] - 0s 21ms/step - loss: 0.3187 - accuracy: 0.0000e+00\n",
            "Epoch 7/50\n",
            "12/12 [==============================] - 0s 21ms/step - loss: 0.2288 - accuracy: 0.0000e+00\n",
            "Epoch 8/50\n",
            "12/12 [==============================] - 0s 24ms/step - loss: 0.2732 - accuracy: 0.0000e+00\n",
            "Epoch 9/50\n",
            "12/12 [==============================] - 0s 22ms/step - loss: 0.4526 - accuracy: 0.0000e+00\n",
            "Epoch 10/50\n",
            "12/12 [==============================] - 0s 23ms/step - loss: 0.1989 - accuracy: 0.0000e+00\n",
            "Epoch 11/50\n",
            "12/12 [==============================] - 0s 21ms/step - loss: 0.1424 - accuracy: 0.0000e+00\n",
            "Epoch 12/50\n",
            "12/12 [==============================] - 0s 23ms/step - loss: 0.2076 - accuracy: 0.0000e+00\n",
            "Epoch 13/50\n",
            "12/12 [==============================] - 0s 24ms/step - loss: 0.1925 - accuracy: 0.0000e+00\n",
            "Epoch 14/50\n",
            "12/12 [==============================] - 0s 21ms/step - loss: 0.2008 - accuracy: 0.0000e+00\n",
            "Epoch 15/50\n",
            "12/12 [==============================] - 0s 21ms/step - loss: 0.1533 - accuracy: 0.0000e+00\n",
            "Epoch 16/50\n",
            "12/12 [==============================] - 0s 17ms/step - loss: 0.1380 - accuracy: 0.0000e+00\n",
            "Epoch 17/50\n",
            "12/12 [==============================] - 0s 15ms/step - loss: 0.1571 - accuracy: 0.0000e+00\n",
            "Epoch 18/50\n",
            "12/12 [==============================] - 0s 15ms/step - loss: 0.1300 - accuracy: 0.0000e+00\n",
            "Epoch 19/50\n",
            "12/12 [==============================] - 0s 14ms/step - loss: 0.1256 - accuracy: 0.0000e+00\n",
            "Epoch 20/50\n",
            "12/12 [==============================] - 0s 16ms/step - loss: 0.1097 - accuracy: 0.0000e+00\n",
            "Epoch 21/50\n",
            "12/12 [==============================] - 0s 15ms/step - loss: 0.1328 - accuracy: 0.0000e+00\n",
            "Epoch 22/50\n",
            "12/12 [==============================] - 0s 17ms/step - loss: 0.1069 - accuracy: 0.0000e+00\n",
            "Epoch 23/50\n",
            "12/12 [==============================] - 0s 15ms/step - loss: 0.1034 - accuracy: 0.0000e+00\n",
            "Epoch 24/50\n",
            "12/12 [==============================] - 0s 15ms/step - loss: 0.1054 - accuracy: 0.0000e+00\n",
            "Epoch 25/50\n",
            "12/12 [==============================] - 0s 16ms/step - loss: 0.1175 - accuracy: 0.0000e+00\n",
            "Epoch 26/50\n",
            "12/12 [==============================] - 0s 15ms/step - loss: 0.1209 - accuracy: 0.0000e+00\n",
            "Epoch 27/50\n",
            "12/12 [==============================] - 0s 16ms/step - loss: 0.0967 - accuracy: 0.0000e+00\n",
            "Epoch 28/50\n",
            "12/12 [==============================] - 0s 15ms/step - loss: 0.1406 - accuracy: 0.0000e+00\n",
            "Epoch 29/50\n",
            "12/12 [==============================] - 0s 17ms/step - loss: 0.1033 - accuracy: 0.0000e+00\n",
            "Epoch 30/50\n",
            "12/12 [==============================] - 0s 15ms/step - loss: 0.0847 - accuracy: 0.0000e+00\n",
            "Epoch 31/50\n",
            "12/12 [==============================] - 0s 16ms/step - loss: 0.1093 - accuracy: 0.0000e+00\n",
            "Epoch 32/50\n",
            "12/12 [==============================] - 0s 16ms/step - loss: 0.1240 - accuracy: 0.0000e+00\n",
            "Epoch 33/50\n",
            "12/12 [==============================] - 0s 16ms/step - loss: 0.1045 - accuracy: 0.0000e+00\n",
            "Epoch 34/50\n",
            "12/12 [==============================] - 0s 15ms/step - loss: 0.0875 - accuracy: 0.0000e+00\n",
            "Epoch 35/50\n",
            "12/12 [==============================] - 0s 17ms/step - loss: 0.0773 - accuracy: 0.0000e+00\n",
            "Epoch 36/50\n",
            "12/12 [==============================] - 0s 15ms/step - loss: 0.1565 - accuracy: 0.0000e+00\n",
            "Epoch 37/50\n",
            "12/12 [==============================] - 0s 15ms/step - loss: 0.1295 - accuracy: 0.0000e+00\n",
            "Epoch 38/50\n",
            "12/12 [==============================] - 0s 15ms/step - loss: 0.1019 - accuracy: 0.0000e+00\n",
            "Epoch 39/50\n",
            "12/12 [==============================] - 0s 14ms/step - loss: 0.0965 - accuracy: 0.0000e+00\n",
            "Epoch 40/50\n",
            "12/12 [==============================] - 0s 15ms/step - loss: 0.1008 - accuracy: 0.0000e+00\n",
            "Epoch 41/50\n",
            "12/12 [==============================] - 0s 16ms/step - loss: 0.1138 - accuracy: 0.0000e+00\n",
            "Epoch 42/50\n",
            "12/12 [==============================] - 0s 16ms/step - loss: 0.1081 - accuracy: 0.0000e+00\n",
            "Epoch 43/50\n",
            "12/12 [==============================] - 0s 19ms/step - loss: 0.0919 - accuracy: 0.0000e+00\n",
            "Epoch 44/50\n",
            "12/12 [==============================] - 0s 19ms/step - loss: 0.0672 - accuracy: 0.0000e+00\n",
            "Epoch 45/50\n",
            "12/12 [==============================] - 0s 21ms/step - loss: 0.1040 - accuracy: 0.0000e+00\n",
            "Epoch 46/50\n",
            "12/12 [==============================] - 0s 20ms/step - loss: 0.1011 - accuracy: 0.0000e+00\n",
            "Epoch 47/50\n",
            "12/12 [==============================] - 0s 20ms/step - loss: 0.0659 - accuracy: 0.0000e+00\n",
            "Epoch 48/50\n",
            "12/12 [==============================] - 0s 20ms/step - loss: 0.0739 - accuracy: 0.0000e+00\n",
            "Epoch 49/50\n",
            "12/12 [==============================] - 0s 20ms/step - loss: 0.0829 - accuracy: 0.0000e+00\n",
            "Epoch 50/50\n",
            "12/12 [==============================] - 0s 20ms/step - loss: 0.1022 - accuracy: 0.0000e+00\n"
          ],
          "name": "stdout"
        },
        {
          "output_type": "execute_result",
          "data": {
            "text/plain": [
              "<tensorflow.python.keras.callbacks.History at 0x7fd67c663f10>"
            ]
          },
          "metadata": {
            "tags": []
          },
          "execution_count": 11
        }
      ]
    },
    {
      "cell_type": "code",
      "metadata": {
        "colab": {
          "base_uri": "https://localhost:8080/"
        },
        "id": "jvHoZOPKkNTN",
        "outputId": "4dcd3c79-0753-487a-e5b5-93aae0dcf696"
      },
      "source": [
        "#평가 evaluate\n",
        "loss, acc = model.evaluate(X_test, y_test, verbose=1)\n",
        "loss,_ =model.evaluate(X_test, y_test, verbose=1) #두번째 acc는 받지 않을경우\n",
        "print(loss)\n",
        "print(acc)"
      ],
      "execution_count": 12,
      "outputs": [
        {
          "output_type": "stream",
          "text": [
            "5/5 [==============================] - 0s 7ms/step - loss: 0.1739 - accuracy: 0.0000e+00\n",
            "5/5 [==============================] - 0s 7ms/step - loss: 0.1739 - accuracy: 0.0000e+00\n",
            "0.17385612428188324\n",
            "0.0\n"
          ],
          "name": "stdout"
        }
      ]
    },
    {
      "cell_type": "code",
      "metadata": {
        "id": "n_izLdQWkNQj",
        "colab": {
          "base_uri": "https://localhost:8080/"
        },
        "outputId": "d7998f86-cdd2-4676-f477-6e6f87fc1731"
      },
      "source": [
        "#예측 predict: 예측하는 것이라 y값을 주면 오류\n",
        "pred = model.predict(X_test) #모델에 완전히 새로운 데이터를 주어서 CNN을 이용해 얻어진 모델을 통해 답을 유추\n",
        "print(pred.shape)\n"
      ],
      "execution_count": 15,
      "outputs": [
        {
          "output_type": "stream",
          "text": [
            "(152, 1)\n"
          ],
          "name": "stdout"
        }
      ]
    },
    {
      "cell_type": "code",
      "metadata": {
        "id": "QID86Qg_kNNy",
        "colab": {
          "base_uri": "https://localhost:8080/",
          "height": 295
        },
        "outputId": "93195398-1262-4bfe-c8b1-a58ab0d5d62e"
      },
      "source": [
        "#그래프 작성해보기\n",
        "plt.scatter(y_test, pred)\n",
        "plt.xlabel('Actual Values')\n",
        "plt.ylabel('Predicted Values')\n",
        "plt.title('Boston Housing')\n",
        "plt.show()"
      ],
      "execution_count": 22,
      "outputs": [
        {
          "output_type": "display_data",
          "data": {
            "image/png": "[encoded data removed]",
            "text/plain": [
              "<Figure size 432x288 with 1 Axes>"
            ]
          },
          "metadata": {
            "tags": [],
            "needs_background": "light"
          }
        }
      ]
    }
  ]
}