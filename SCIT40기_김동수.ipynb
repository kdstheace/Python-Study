{
  "nbformat": 4,
  "nbformat_minor": 0,
  "metadata": {
    "colab": {
      "name": "SCIT40기_김동수.ipynb",
      "provenance": [],
      "collapsed_sections": [],
      "include_colab_link": true
    },
    "kernelspec": {
      "name": "python3",
      "display_name": "Python 3"
    },
    "language_info": {
      "name": "python"
    },
    "accelerator": "GPU"
  },
  "cells": [
    {
      "cell_type": "markdown",
      "metadata": {
        "id": "view-in-github",
        "colab_type": "text"
      },
      "source": [
        "<a href=\"https://colab.research.google.com/github/kdstheace/Study_Python_MachineLearning/blob/main/SCIT40%EA%B8%B0_%EA%B9%80%EB%8F%99%EC%88%98.ipynb\" target=\"_parent\"><img src=\"https://colab.research.google.com/assets/colab-badge.svg\" alt=\"Open In Colab\"/></a>"
      ]
    },
    {
      "cell_type": "markdown",
      "metadata": {
        "id": "_aUHl6SqFkZl"
      },
      "source": [
        "1. 당뇨병 데이터 읽기\n",
        "2. 데이터 전처리 (8:2) 분할\n",
        "3. 데이터 스케일링(범위가 너무큼)\n",
        "4. 임의로 학습\n",
        "5. acc ==> 85%\n",
        "6. 선형그래프 그리기\n",
        "\n",
        "\n"
      ]
    },
    {
      "cell_type": "code",
      "metadata": {
        "id": "vMKhlGMYGRoX"
      },
      "source": [
        "import pandas as pd\n",
        "from pandas import Series, DataFrame\n",
        "import numpy as np\n",
        "import matplotlib.pyplot as plt\n",
        "\n",
        "import tensorflow as tf\n",
        "\n",
        "\n",
        "from keras.models import Sequential\n",
        "from keras.layers import Dense\n",
        "from keras.optimizers import Adam\n",
        "from keras.utils import to_categorical\n",
        "\n",
        "from sklearn.preprocessing import StandardScaler\n",
        "from sklearn.model_selection import train_test_split"
      ],
      "execution_count": null,
      "outputs": []
    },
    {
      "cell_type": "code",
      "metadata": {
        "colab": {
          "base_uri": "https://localhost:8080/"
        },
        "id": "UHZS0rmWIML5",
        "outputId": "1981c533-3062-4645-dcbc-216c667b1dc6"
      },
      "source": [
        "from google.colab import drive\n",
        "drive.mount('/content/drive')"
      ],
      "execution_count": null,
      "outputs": [
        {
          "output_type": "stream",
          "text": [
            "Drive already mounted at /content/drive; to attempt to forcibly remount, call drive.mount(\"/content/drive\", force_remount=True).\n"
          ],
          "name": "stdout"
        }
      ]
    },
    {
      "cell_type": "code",
      "metadata": {
        "colab": {
          "base_uri": "https://localhost:8080/",
          "height": 402
        },
        "id": "6rLj_Qt3HMZN",
        "outputId": "77b269a2-0ea3-4a8d-d731-6685b0cb69e9"
      },
      "source": [
        "path ='drive/MyDrive/Colab Notebooks/data/'\n",
        "dataset = pd.read_csv(path+'datasets_diabetes.csv')\n",
        "title_A = ['Pregnancies', 'Glucose', 'BloodPressure', 'SkinThickness', 'Insulin', 'BMI', 'DiabetesPedigreeFunction', 'Age', 'Outcome']\n",
        "title_X = ['Pregnancies', 'Glucose', 'BloodPressure', 'SkinThickness', 'Insulin', 'BMI', 'DiabetesPedigreeFunction', 'Age']\n",
        "X = dataset[title]\n",
        "y = dataset['Outcome']\n",
        "\n",
        "df_A=DataFrame(dataset, columns=title_A)\n",
        "df_X=df_A.drop('Outcome', axis=1)\n",
        "df_X"
      ],
      "execution_count": null,
      "outputs": [
        {
          "output_type": "execute_result",
          "data": {
            "text/html": [
              "<div>\n",
              "<style scoped>\n",
              "    .dataframe tbody tr th:only-of-type {\n",
              "        vertical-align: middle;\n",
              "    }\n",
              "\n",
              "    .dataframe tbody tr th {\n",
              "        vertical-align: top;\n",
              "    }\n",
              "\n",
              "    .dataframe thead th {\n",
              "        text-align: right;\n",
              "    }\n",
              "</style>\n",
              "<table border=\"1\" class=\"dataframe\">\n",
              "  <thead>\n",
              "    <tr style=\"text-align: right;\">\n",
              "      <th></th>\n",
              "      <th>Pregnancies</th>\n",
              "      <th>Glucose</th>\n",
              "      <th>BloodPressure</th>\n",
              "      <th>SkinThickness</th>\n",
              "      <th>Insulin</th>\n",
              "      <th>BMI</th>\n",
              "      <th>DiabetesPedigreeFunction</th>\n",
              "      <th>Age</th>\n",
              "    </tr>\n",
              "  </thead>\n",
              "  <tbody>\n",
              "    <tr>\n",
              "      <th>0</th>\n",
              "      <td>6</td>\n",
              "      <td>148</td>\n",
              "      <td>72</td>\n",
              "      <td>35</td>\n",
              "      <td>0</td>\n",
              "      <td>33.6</td>\n",
              "      <td>0.627</td>\n",
              "      <td>50</td>\n",
              "    </tr>\n",
              "    <tr>\n",
              "      <th>1</th>\n",
              "      <td>1</td>\n",
              "      <td>85</td>\n",
              "      <td>66</td>\n",
              "      <td>29</td>\n",
              "      <td>0</td>\n",
              "      <td>26.6</td>\n",
              "      <td>0.351</td>\n",
              "      <td>31</td>\n",
              "    </tr>\n",
              "    <tr>\n",
              "      <th>2</th>\n",
              "      <td>8</td>\n",
              "      <td>183</td>\n",
              "      <td>64</td>\n",
              "      <td>0</td>\n",
              "      <td>0</td>\n",
              "      <td>23.3</td>\n",
              "      <td>0.672</td>\n",
              "      <td>32</td>\n",
              "    </tr>\n",
              "    <tr>\n",
              "      <th>3</th>\n",
              "      <td>1</td>\n",
              "      <td>89</td>\n",
              "      <td>66</td>\n",
              "      <td>23</td>\n",
              "      <td>94</td>\n",
              "      <td>28.1</td>\n",
              "      <td>0.167</td>\n",
              "      <td>21</td>\n",
              "    </tr>\n",
              "    <tr>\n",
              "      <th>4</th>\n",
              "      <td>0</td>\n",
              "      <td>137</td>\n",
              "      <td>40</td>\n",
              "      <td>35</td>\n",
              "      <td>168</td>\n",
              "      <td>43.1</td>\n",
              "      <td>2.288</td>\n",
              "      <td>33</td>\n",
              "    </tr>\n",
              "    <tr>\n",
              "      <th>...</th>\n",
              "      <td>...</td>\n",
              "      <td>...</td>\n",
              "      <td>...</td>\n",
              "      <td>...</td>\n",
              "      <td>...</td>\n",
              "      <td>...</td>\n",
              "      <td>...</td>\n",
              "      <td>...</td>\n",
              "    </tr>\n",
              "    <tr>\n",
              "      <th>763</th>\n",
              "      <td>10</td>\n",
              "      <td>101</td>\n",
              "      <td>76</td>\n",
              "      <td>48</td>\n",
              "      <td>180</td>\n",
              "      <td>32.9</td>\n",
              "      <td>0.171</td>\n",
              "      <td>63</td>\n",
              "    </tr>\n",
              "    <tr>\n",
              "      <th>764</th>\n",
              "      <td>2</td>\n",
              "      <td>122</td>\n",
              "      <td>70</td>\n",
              "      <td>27</td>\n",
              "      <td>0</td>\n",
              "      <td>36.8</td>\n",
              "      <td>0.340</td>\n",
              "      <td>27</td>\n",
              "    </tr>\n",
              "    <tr>\n",
              "      <th>765</th>\n",
              "      <td>5</td>\n",
              "      <td>121</td>\n",
              "      <td>72</td>\n",
              "      <td>23</td>\n",
              "      <td>112</td>\n",
              "      <td>26.2</td>\n",
              "      <td>0.245</td>\n",
              "      <td>30</td>\n",
              "    </tr>\n",
              "    <tr>\n",
              "      <th>766</th>\n",
              "      <td>1</td>\n",
              "      <td>126</td>\n",
              "      <td>60</td>\n",
              "      <td>0</td>\n",
              "      <td>0</td>\n",
              "      <td>30.1</td>\n",
              "      <td>0.349</td>\n",
              "      <td>47</td>\n",
              "    </tr>\n",
              "    <tr>\n",
              "      <th>767</th>\n",
              "      <td>1</td>\n",
              "      <td>93</td>\n",
              "      <td>70</td>\n",
              "      <td>31</td>\n",
              "      <td>0</td>\n",
              "      <td>30.4</td>\n",
              "      <td>0.315</td>\n",
              "      <td>23</td>\n",
              "    </tr>\n",
              "  </tbody>\n",
              "</table>\n",
              "<p>768 rows × 8 columns</p>\n",
              "</div>"
            ],
            "text/plain": [
              "     Pregnancies  Glucose  BloodPressure  ...   BMI  DiabetesPedigreeFunction  Age\n",
              "0              6      148             72  ...  33.6                     0.627   50\n",
              "1              1       85             66  ...  26.6                     0.351   31\n",
              "2              8      183             64  ...  23.3                     0.672   32\n",
              "3              1       89             66  ...  28.1                     0.167   21\n",
              "4              0      137             40  ...  43.1                     2.288   33\n",
              "..           ...      ...            ...  ...   ...                       ...  ...\n",
              "763           10      101             76  ...  32.9                     0.171   63\n",
              "764            2      122             70  ...  36.8                     0.340   27\n",
              "765            5      121             72  ...  26.2                     0.245   30\n",
              "766            1      126             60  ...  30.1                     0.349   47\n",
              "767            1       93             70  ...  30.4                     0.315   23\n",
              "\n",
              "[768 rows x 8 columns]"
            ]
          },
          "metadata": {
            "tags": []
          },
          "execution_count": 143
        }
      ]
    },
    {
      "cell_type": "code",
      "metadata": {
        "id": "kle4dJEpHMT9",
        "colab": {
          "base_uri": "https://localhost:8080/"
        },
        "outputId": "3e61f562-9dee-4dbc-d405-81108eb53c06"
      },
      "source": [
        "scaler = StandardScaler()\n",
        "scaled_data = scaler.fit_transform(df_X)\n",
        "scaled_data = pd.DataFrame(scaled_data, columns=title_X)\n",
        "\n",
        "X = scaled_data[title_X]\n",
        "y = df_A['Outcome']\n",
        "y = to_categorical(df_A['Outcome'])\n",
        "print(X.shape)\n",
        "print(y.shape)"
      ],
      "execution_count": null,
      "outputs": [
        {
          "output_type": "stream",
          "text": [
            "(768, 8)\n",
            "(768, 2)\n"
          ],
          "name": "stdout"
        }
      ]
    },
    {
      "cell_type": "code",
      "metadata": {
        "colab": {
          "base_uri": "https://localhost:8080/"
        },
        "id": "tT241zUcHMJD",
        "outputId": "45bf4ad4-4c6f-421b-dc74-59c65af76f95"
      },
      "source": [
        "X_train, X_test, y_train, y_test = train_test_split(X, y, test_size=0.20, random_state=5)\n",
        "\n",
        "print(X_train.shape)\n",
        "print(y_train.shape)\n",
        "print(X_test.shape)\n",
        "print(y_test.shape)"
      ],
      "execution_count": null,
      "outputs": [
        {
          "output_type": "stream",
          "text": [
            "(614, 8)\n",
            "(614, 2)\n",
            "(154, 8)\n",
            "(154, 2)\n"
          ],
          "name": "stdout"
        }
      ]
    },
    {
      "cell_type": "code",
      "metadata": {
        "colab": {
          "base_uri": "https://localhost:8080/"
        },
        "id": "B_Cd5D9-HL-b",
        "outputId": "b4bbd9fd-0750-4f36-9f34-312afcd09dbc"
      },
      "source": [
        "model = Sequential()\n",
        "model.add(Dense(units=200, activation='relu', input_dim=8))\n",
        "model.add(Dense(units=1000, activation='relu'))\n",
        "model.add(Dense(units=300, activation='relu'))\n",
        "model.add(Dense(units=900, activation='relu'))\n",
        "model.add(Dense(units=500, activation='relu'))\n",
        "model.add(Dense(units=2, activation='softmax'))\n",
        "\n",
        "model.summary()"
      ],
      "execution_count": null,
      "outputs": [
        {
          "output_type": "stream",
          "text": [
            "Model: \"sequential_8\"\n",
            "_________________________________________________________________\n",
            "Layer (type)                 Output Shape              Param #   \n",
            "=================================================================\n",
            "dense_46 (Dense)             (None, 200)               1800      \n",
            "_________________________________________________________________\n",
            "dense_47 (Dense)             (None, 1000)              201000    \n",
            "_________________________________________________________________\n",
            "dense_48 (Dense)             (None, 300)               300300    \n",
            "_________________________________________________________________\n",
            "dense_49 (Dense)             (None, 900)               270900    \n",
            "_________________________________________________________________\n",
            "dense_50 (Dense)             (None, 500)               450500    \n",
            "_________________________________________________________________\n",
            "dense_51 (Dense)             (None, 2)                 1002      \n",
            "=================================================================\n",
            "Total params: 1,225,502\n",
            "Trainable params: 1,225,502\n",
            "Non-trainable params: 0\n",
            "_________________________________________________________________\n"
          ],
          "name": "stdout"
        }
      ]
    },
    {
      "cell_type": "code",
      "metadata": {
        "id": "GS9JWoYxRg4n"
      },
      "source": [
        "model.compile(optimizer='Adam', loss='categorical_crossentropy', metrics=['accuracy'])"
      ],
      "execution_count": null,
      "outputs": []
    },
    {
      "cell_type": "code",
      "metadata": {
        "id": "Uz_cAyoURgw3",
        "colab": {
          "base_uri": "https://localhost:8080/"
        },
        "outputId": "0e2aa152-64a1-471c-cdb6-ef3ff580344f"
      },
      "source": [
        "hist = model.fit(X_train, y_train, epochs=100, batch_size=40, verbose=1)"
      ],
      "execution_count": null,
      "outputs": [
        {
          "output_type": "stream",
          "text": [
            "Epoch 1/100\n",
            "16/16 [==============================] - 0s 3ms/step - loss: 6.7619e-06 - accuracy: 1.0000\n",
            "Epoch 2/100\n",
            "16/16 [==============================] - 0s 3ms/step - loss: 6.6141e-06 - accuracy: 1.0000\n",
            "Epoch 3/100\n",
            "16/16 [==============================] - 0s 3ms/step - loss: 6.3795e-06 - accuracy: 1.0000\n",
            "Epoch 4/100\n",
            "16/16 [==============================] - 0s 3ms/step - loss: 6.2209e-06 - accuracy: 1.0000\n",
            "Epoch 5/100\n",
            "16/16 [==============================] - 0s 3ms/step - loss: 6.0511e-06 - accuracy: 1.0000\n",
            "Epoch 6/100\n",
            "16/16 [==============================] - 0s 3ms/step - loss: 5.9645e-06 - accuracy: 1.0000\n",
            "Epoch 7/100\n",
            "16/16 [==============================] - 0s 3ms/step - loss: 5.6425e-06 - accuracy: 1.0000\n",
            "Epoch 8/100\n",
            "16/16 [==============================] - 0s 3ms/step - loss: 5.4663e-06 - accuracy: 1.0000\n",
            "Epoch 9/100\n",
            "16/16 [==============================] - 0s 3ms/step - loss: 5.3775e-06 - accuracy: 1.0000\n",
            "Epoch 10/100\n",
            "16/16 [==============================] - 0s 4ms/step - loss: 5.1377e-06 - accuracy: 1.0000\n",
            "Epoch 11/100\n",
            "16/16 [==============================] - 0s 3ms/step - loss: 5.0459e-06 - accuracy: 1.0000\n",
            "Epoch 12/100\n",
            "16/16 [==============================] - 0s 3ms/step - loss: 4.9224e-06 - accuracy: 1.0000\n",
            "Epoch 13/100\n",
            "16/16 [==============================] - 0s 3ms/step - loss: 4.6631e-06 - accuracy: 1.0000\n",
            "Epoch 14/100\n",
            "16/16 [==============================] - 0s 3ms/step - loss: 4.7160e-06 - accuracy: 1.0000\n",
            "Epoch 15/100\n",
            "16/16 [==============================] - 0s 4ms/step - loss: 4.5443e-06 - accuracy: 1.0000\n",
            "Epoch 16/100\n",
            "16/16 [==============================] - 0s 3ms/step - loss: 4.3427e-06 - accuracy: 1.0000\n",
            "Epoch 17/100\n",
            "16/16 [==============================] - 0s 4ms/step - loss: 4.1510e-06 - accuracy: 1.0000\n",
            "Epoch 18/100\n",
            "16/16 [==============================] - 0s 3ms/step - loss: 4.0780e-06 - accuracy: 1.0000\n",
            "Epoch 19/100\n",
            "16/16 [==============================] - 0s 3ms/step - loss: 3.9761e-06 - accuracy: 1.0000\n",
            "Epoch 20/100\n",
            "16/16 [==============================] - 0s 3ms/step - loss: 3.8865e-06 - accuracy: 1.0000\n",
            "Epoch 21/100\n",
            "16/16 [==============================] - 0s 3ms/step - loss: 3.7462e-06 - accuracy: 1.0000\n",
            "Epoch 22/100\n",
            "16/16 [==============================] - 0s 3ms/step - loss: 3.7407e-06 - accuracy: 1.0000\n",
            "Epoch 23/100\n",
            "16/16 [==============================] - 0s 3ms/step - loss: 3.6027e-06 - accuracy: 1.0000\n",
            "Epoch 24/100\n",
            "16/16 [==============================] - 0s 3ms/step - loss: 3.5232e-06 - accuracy: 1.0000\n",
            "Epoch 25/100\n",
            "16/16 [==============================] - 0s 3ms/step - loss: 3.4019e-06 - accuracy: 1.0000\n",
            "Epoch 26/100\n",
            "16/16 [==============================] - 0s 3ms/step - loss: 3.3613e-06 - accuracy: 1.0000\n",
            "Epoch 27/100\n",
            "16/16 [==============================] - 0s 4ms/step - loss: 3.3167e-06 - accuracy: 1.0000\n",
            "Epoch 28/100\n",
            "16/16 [==============================] - 0s 4ms/step - loss: 3.1657e-06 - accuracy: 1.0000\n",
            "Epoch 29/100\n",
            "16/16 [==============================] - 0s 3ms/step - loss: 3.1185e-06 - accuracy: 1.0000\n",
            "Epoch 30/100\n",
            "16/16 [==============================] - 0s 3ms/step - loss: 3.0748e-06 - accuracy: 1.0000\n",
            "Epoch 31/100\n",
            "16/16 [==============================] - 0s 3ms/step - loss: 2.9755e-06 - accuracy: 1.0000\n",
            "Epoch 32/100\n",
            "16/16 [==============================] - 0s 3ms/step - loss: 2.9062e-06 - accuracy: 1.0000\n",
            "Epoch 33/100\n",
            "16/16 [==============================] - 0s 3ms/step - loss: 2.9005e-06 - accuracy: 1.0000\n",
            "Epoch 34/100\n",
            "16/16 [==============================] - 0s 3ms/step - loss: 2.8064e-06 - accuracy: 1.0000\n",
            "Epoch 35/100\n",
            "16/16 [==============================] - 0s 3ms/step - loss: 2.7332e-06 - accuracy: 1.0000\n",
            "Epoch 36/100\n",
            "16/16 [==============================] - 0s 3ms/step - loss: 2.6579e-06 - accuracy: 1.0000\n",
            "Epoch 37/100\n",
            "16/16 [==============================] - 0s 4ms/step - loss: 2.6213e-06 - accuracy: 1.0000\n",
            "Epoch 38/100\n",
            "16/16 [==============================] - 0s 4ms/step - loss: 2.5531e-06 - accuracy: 1.0000\n",
            "Epoch 39/100\n",
            "16/16 [==============================] - 0s 3ms/step - loss: 2.5025e-06 - accuracy: 1.0000\n",
            "Epoch 40/100\n",
            "16/16 [==============================] - 0s 3ms/step - loss: 2.4602e-06 - accuracy: 1.0000\n",
            "Epoch 41/100\n",
            "16/16 [==============================] - 0s 3ms/step - loss: 2.4322e-06 - accuracy: 1.0000\n",
            "Epoch 42/100\n",
            "16/16 [==============================] - 0s 4ms/step - loss: 2.3369e-06 - accuracy: 1.0000\n",
            "Epoch 43/100\n",
            "16/16 [==============================] - 0s 4ms/step - loss: 2.2987e-06 - accuracy: 1.0000\n",
            "Epoch 44/100\n",
            "16/16 [==============================] - 0s 4ms/step - loss: 2.2494e-06 - accuracy: 1.0000\n",
            "Epoch 45/100\n",
            "16/16 [==============================] - 0s 5ms/step - loss: 2.2026e-06 - accuracy: 1.0000\n",
            "Epoch 46/100\n",
            "16/16 [==============================] - 0s 3ms/step - loss: 2.1725e-06 - accuracy: 1.0000\n",
            "Epoch 47/100\n",
            "16/16 [==============================] - 0s 3ms/step - loss: 2.1042e-06 - accuracy: 1.0000\n",
            "Epoch 48/100\n",
            "16/16 [==============================] - 0s 3ms/step - loss: 2.0912e-06 - accuracy: 1.0000\n",
            "Epoch 49/100\n",
            "16/16 [==============================] - 0s 3ms/step - loss: 2.0339e-06 - accuracy: 1.0000\n",
            "Epoch 50/100\n",
            "16/16 [==============================] - 0s 3ms/step - loss: 1.9384e-06 - accuracy: 1.0000\n",
            "Epoch 51/100\n",
            "16/16 [==============================] - 0s 4ms/step - loss: 1.9524e-06 - accuracy: 1.0000\n",
            "Epoch 52/100\n",
            "16/16 [==============================] - 0s 4ms/step - loss: 1.8895e-06 - accuracy: 1.0000\n",
            "Epoch 53/100\n",
            "16/16 [==============================] - 0s 3ms/step - loss: 1.8839e-06 - accuracy: 1.0000\n",
            "Epoch 54/100\n",
            "16/16 [==============================] - 0s 4ms/step - loss: 1.8029e-06 - accuracy: 1.0000\n",
            "Epoch 55/100\n",
            "16/16 [==============================] - 0s 4ms/step - loss: 1.7781e-06 - accuracy: 1.0000\n",
            "Epoch 56/100\n",
            "16/16 [==============================] - 0s 3ms/step - loss: 1.7262e-06 - accuracy: 1.0000\n",
            "Epoch 57/100\n",
            "16/16 [==============================] - 0s 3ms/step - loss: 1.7024e-06 - accuracy: 1.0000\n",
            "Epoch 58/100\n",
            "16/16 [==============================] - 0s 3ms/step - loss: 1.6764e-06 - accuracy: 1.0000\n",
            "Epoch 59/100\n",
            "16/16 [==============================] - 0s 4ms/step - loss: 1.6342e-06 - accuracy: 1.0000\n",
            "Epoch 60/100\n",
            "16/16 [==============================] - 0s 4ms/step - loss: 1.6131e-06 - accuracy: 1.0000\n",
            "Epoch 61/100\n",
            "16/16 [==============================] - 0s 5ms/step - loss: 1.5834e-06 - accuracy: 1.0000\n",
            "Epoch 62/100\n",
            "16/16 [==============================] - 0s 4ms/step - loss: 1.5543e-06 - accuracy: 1.0000\n",
            "Epoch 63/100\n",
            "16/16 [==============================] - 0s 3ms/step - loss: 1.5313e-06 - accuracy: 1.0000\n",
            "Epoch 64/100\n",
            "16/16 [==============================] - 0s 3ms/step - loss: 1.5030e-06 - accuracy: 1.0000\n",
            "Epoch 65/100\n",
            "16/16 [==============================] - 0s 4ms/step - loss: 1.4846e-06 - accuracy: 1.0000\n",
            "Epoch 66/100\n",
            "16/16 [==============================] - 0s 4ms/step - loss: 1.4535e-06 - accuracy: 1.0000\n",
            "Epoch 67/100\n",
            "16/16 [==============================] - 0s 3ms/step - loss: 1.4310e-06 - accuracy: 1.0000\n",
            "Epoch 68/100\n",
            "16/16 [==============================] - 0s 4ms/step - loss: 1.3992e-06 - accuracy: 1.0000\n",
            "Epoch 69/100\n",
            "16/16 [==============================] - 0s 4ms/step - loss: 1.3811e-06 - accuracy: 1.0000\n",
            "Epoch 70/100\n",
            "16/16 [==============================] - 0s 4ms/step - loss: 1.3487e-06 - accuracy: 1.0000\n",
            "Epoch 71/100\n",
            "16/16 [==============================] - 0s 4ms/step - loss: 1.3353e-06 - accuracy: 1.0000\n",
            "Epoch 72/100\n",
            "16/16 [==============================] - 0s 4ms/step - loss: 1.3236e-06 - accuracy: 1.0000\n",
            "Epoch 73/100\n",
            "16/16 [==============================] - 0s 3ms/step - loss: 1.2955e-06 - accuracy: 1.0000\n",
            "Epoch 74/100\n",
            "16/16 [==============================] - 0s 3ms/step - loss: 1.2619e-06 - accuracy: 1.0000\n",
            "Epoch 75/100\n",
            "16/16 [==============================] - 0s 3ms/step - loss: 1.2328e-06 - accuracy: 1.0000\n",
            "Epoch 76/100\n",
            "16/16 [==============================] - 0s 3ms/step - loss: 1.2192e-06 - accuracy: 1.0000\n",
            "Epoch 77/100\n",
            "16/16 [==============================] - 0s 3ms/step - loss: 1.1951e-06 - accuracy: 1.0000\n",
            "Epoch 78/100\n",
            "16/16 [==============================] - 0s 3ms/step - loss: 1.1759e-06 - accuracy: 1.0000\n",
            "Epoch 79/100\n",
            "16/16 [==============================] - 0s 4ms/step - loss: 1.1600e-06 - accuracy: 1.0000\n",
            "Epoch 80/100\n",
            "16/16 [==============================] - 0s 3ms/step - loss: 1.1480e-06 - accuracy: 1.0000\n",
            "Epoch 81/100\n",
            "16/16 [==============================] - 0s 4ms/step - loss: 1.1217e-06 - accuracy: 1.0000\n",
            "Epoch 82/100\n",
            "16/16 [==============================] - 0s 3ms/step - loss: 1.1047e-06 - accuracy: 1.0000\n",
            "Epoch 83/100\n",
            "16/16 [==============================] - 0s 3ms/step - loss: 1.0835e-06 - accuracy: 1.0000\n",
            "Epoch 84/100\n",
            "16/16 [==============================] - 0s 3ms/step - loss: 1.0660e-06 - accuracy: 1.0000\n",
            "Epoch 85/100\n",
            "16/16 [==============================] - 0s 3ms/step - loss: 1.0629e-06 - accuracy: 1.0000\n",
            "Epoch 86/100\n",
            "16/16 [==============================] - 0s 3ms/step - loss: 1.0336e-06 - accuracy: 1.0000\n",
            "Epoch 87/100\n",
            "16/16 [==============================] - 0s 3ms/step - loss: 1.0231e-06 - accuracy: 1.0000\n",
            "Epoch 88/100\n",
            "16/16 [==============================] - 0s 3ms/step - loss: 1.0062e-06 - accuracy: 1.0000\n",
            "Epoch 89/100\n",
            "16/16 [==============================] - 0s 3ms/step - loss: 9.8683e-07 - accuracy: 1.0000\n",
            "Epoch 90/100\n",
            "16/16 [==============================] - 0s 3ms/step - loss: 9.7887e-07 - accuracy: 1.0000\n",
            "Epoch 91/100\n",
            "16/16 [==============================] - 0s 3ms/step - loss: 9.5712e-07 - accuracy: 1.0000\n",
            "Epoch 92/100\n",
            "16/16 [==============================] - 0s 3ms/step - loss: 9.4412e-07 - accuracy: 1.0000\n",
            "Epoch 93/100\n",
            "16/16 [==============================] - 0s 3ms/step - loss: 9.2839e-07 - accuracy: 1.0000\n",
            "Epoch 94/100\n",
            "16/16 [==============================] - 0s 3ms/step - loss: 9.1441e-07 - accuracy: 1.0000\n",
            "Epoch 95/100\n",
            "16/16 [==============================] - 0s 3ms/step - loss: 9.0665e-07 - accuracy: 1.0000\n",
            "Epoch 96/100\n",
            "16/16 [==============================] - 0s 3ms/step - loss: 8.9519e-07 - accuracy: 1.0000\n",
            "Epoch 97/100\n",
            "16/16 [==============================] - 0s 3ms/step - loss: 8.7772e-07 - accuracy: 1.0000\n",
            "Epoch 98/100\n",
            "16/16 [==============================] - 0s 3ms/step - loss: 8.6142e-07 - accuracy: 1.0000\n",
            "Epoch 99/100\n",
            "16/16 [==============================] - 0s 4ms/step - loss: 8.5054e-07 - accuracy: 1.0000\n",
            "Epoch 100/100\n",
            "16/16 [==============================] - 0s 3ms/step - loss: 8.3909e-07 - accuracy: 1.0000\n"
          ],
          "name": "stdout"
        }
      ]
    },
    {
      "cell_type": "code",
      "metadata": {
        "colab": {
          "base_uri": "https://localhost:8080/"
        },
        "id": "89PuRcQ1PuDx",
        "outputId": "d66d8e72-d6cd-462e-b3fe-c38e3035f36f"
      },
      "source": [
        "loss, acc = model.evaluate(X_test, y_test, verbose=1)\n",
        "print('loss', loss)\n",
        "print('acc', acc)"
      ],
      "execution_count": null,
      "outputs": [
        {
          "output_type": "stream",
          "text": [
            "5/5 [==============================] - 0s 3ms/step - loss: 6.7140 - accuracy: 0.7468\n",
            "loss 6.713982105255127\n",
            "acc 0.7467532753944397\n"
          ],
          "name": "stdout"
        }
      ]
    },
    {
      "cell_type": "code",
      "metadata": {
        "id": "riip91wlRgrv",
        "colab": {
          "base_uri": "https://localhost:8080/",
          "height": 279
        },
        "outputId": "a7e7d7d6-e055-4a0f-e87f-2c1d436a8314"
      },
      "source": [
        "import matplotlib.pyplot as plt\n",
        "\n",
        "fig, loss_ax = plt.subplots()\n",
        "acc_ax = loss_ax.twinx()\n",
        "\n",
        "loss_ax.plot(hist.history['loss'], 'r', label = 'Loss')\n",
        "\n",
        "acc_ax.plot(hist.history['accuracy'],'b', label='Accuracy')\n",
        "\n",
        "\n",
        "loss_ax.set_xlabel('Epoch')\n",
        "loss_ax.set_ylabel('Loss')\n",
        "\n",
        "acc_ax.set_ylabel('Accuracy')\n",
        "\n",
        "loss_ax.legend(loc='upper left')\n",
        "acc_ax.legend(loc='lower left')\n",
        "\n",
        "plt.show()"
      ],
      "execution_count": null,
      "outputs": [
        {
          "output_type": "display_data",
          "data": {
            "image/png": "[encoded data removed]",
            "text/plain": [
              "<Figure size 432x288 with 2 Axes>"
            ]
          },
          "metadata": {
            "tags": [],
            "needs_background": "light"
          }
        }
      ]
    },
    {
      "cell_type": "code",
      "metadata": {
        "id": "Ft8Tul8gRgpH"
      },
      "source": [
        ""
      ],
      "execution_count": null,
      "outputs": []
    }
  ]
}