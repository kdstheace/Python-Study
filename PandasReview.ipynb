{
  "nbformat": 4,
  "nbformat_minor": 0,
  "metadata": {
    "colab": {
      "name": "PandasReview.ipynb",
      "provenance": [],
      "collapsed_sections": [],
      "authorship_tag": "ABX9TyN0s8K2nYXETL/b/K0V+rhw",
      "include_colab_link": true
    },
    "kernelspec": {
      "name": "python3",
      "display_name": "Python 3"
    },
    "language_info": {
      "name": "python"
    },
    "accelerator": "GPU"
  },
  "cells": [
    {
      "cell_type": "markdown",
      "metadata": {
        "id": "view-in-github",
        "colab_type": "text"
      },
      "source": [
        "<a href=\"https://colab.research.google.com/github/kdstheace/Python-Study/blob/main/PandasReview.ipynb\" target=\"_parent\"><img src=\"https://colab.research.google.com/assets/colab-badge.svg\" alt=\"Open In Colab\"/></a>"
      ]
    },
    {
      "cell_type": "code",
      "metadata": {
        "colab": {
          "base_uri": "https://localhost:8080/"
        },
        "id": "cPBzmUzbaq0s",
        "outputId": "8d514cc1-effd-49b4-a6ee-674c91579137"
      },
      "source": [
        "import numpy as np\n",
        "import pandas as pd\n",
        "print(np.__version__)\n",
        "print(pd.__version__)"
      ],
      "execution_count": 3,
      "outputs": [
        {
          "output_type": "stream",
          "text": [
            "1.19.5\n",
            "1.1.5\n"
          ],
          "name": "stdout"
        }
      ]
    },
    {
      "cell_type": "code",
      "metadata": {
        "id": "eXfUHfKZa6-4"
      },
      "source": [
        "#Series 생성하기\n",
        "s = pd.Series([1, 2, 3, 4, 4.5, np.nan, 7, 8])\n",
        "print(s)\n",
        "list_data = [11, 12, 13, 14, 15]\n",
        "list_name = ['Z', 'Y', 'C', 'D', 'E']\n",
        "\n",
        "s2 = pd.Series(data=list_data, index=list_name)\n",
        "print(s2)\n",
        "\n",
        "dic_data = {'A':12, 'B':31, 'C':91, 'D':27}\n",
        "s3 = pd.Series(dic_data, dtype=np.float64, name='Score')\n",
        "print(s3)"
      ],
      "execution_count": null,
      "outputs": []
    },
    {
      "cell_type": "code",
      "metadata": {
        "colab": {
          "base_uri": "https://localhost:8080/"
        },
        "id": "hPGmnknGa68c",
        "outputId": "ddfc2c22-1fe8-4fd0-d43e-bb721ecaf602"
      },
      "source": [
        "#데이터 참조하기\n",
        "print(s3['A'])\n",
        "s3['B'] = 55\n",
        "print(s3)\n",
        "\n",
        "#index 와 value 꺼내기\n",
        "print(s3.values)\n",
        "print(s3.index)\n",
        "print(s3[s3 >= 55])\n",
        "\n",
        "#브로드캐스팅\n",
        "print(s3*1.5)"
      ],
      "execution_count": 21,
      "outputs": [
        {
          "output_type": "stream",
          "text": [
            "12.0\n",
            "A    12.0\n",
            "B    55.0\n",
            "C    91.0\n",
            "D    27.0\n",
            "Name: Score, dtype: float64\n",
            "[12. 55. 91. 27.]\n",
            "Index(['A', 'B', 'C', 'D'], dtype='object')\n",
            "B    55.0\n",
            "C    91.0\n",
            "Name: Score, dtype: float64\n",
            "A     18.0\n",
            "B     82.5\n",
            "C    136.5\n",
            "D     40.5\n",
            "Name: Score, dtype: float64\n"
          ],
          "name": "stdout"
        }
      ]
    },
    {
      "cell_type": "markdown",
      "metadata": {
        "id": "GXD23OQcjHN_"
      },
      "source": [
        "# **Pandas DataFrame**"
      ]
    },
    {
      "cell_type": "code",
      "metadata": {
        "id": "yI5-ZEV2a651"
      },
      "source": [
        "from pandas import Series, DataFrame\n",
        "import numpy as np\n",
        "import pandas as pd"
      ],
      "execution_count": 7,
      "outputs": []
    },
    {
      "cell_type": "code",
      "metadata": {
        "colab": {
          "base_uri": "https://localhost:8080/",
          "height": 195
        },
        "id": "-5CrW0f1a63D",
        "outputId": "be436be4-0c2a-4be5-c5b0-d4e78958156c"
      },
      "source": [
        "raw_data = {\n",
        "    '이름' : ['홍길동', '전우치', '손오공', '사오정', '저팔계'],\n",
        "    '나이' : [32, 37, 30, 31, 33],\n",
        "    '전화번호' : ['010-1111-2222', '010-231-2222','010-8111-2522','010-1471-2222', '010-3456-3785'],\n",
        "    '지역' : ['서울','대구','용인','제주','속초']\n",
        "}\n",
        "df = DataFrame(raw_data, columns=['이름','나이','전화번호','지역'])\n",
        "df1 = DataFrame(raw_data, columns=['이름','나이','전화번호','성별'], index=['A','B','C','D','E'])\n",
        "df1\n"
      ],
      "execution_count": 8,
      "outputs": [
        {
          "output_type": "execute_result",
          "data": {
            "text/html": [
              "<div>\n",
              "<style scoped>\n",
              "    .dataframe tbody tr th:only-of-type {\n",
              "        vertical-align: middle;\n",
              "    }\n",
              "\n",
              "    .dataframe tbody tr th {\n",
              "        vertical-align: top;\n",
              "    }\n",
              "\n",
              "    .dataframe thead th {\n",
              "        text-align: right;\n",
              "    }\n",
              "</style>\n",
              "<table border=\"1\" class=\"dataframe\">\n",
              "  <thead>\n",
              "    <tr style=\"text-align: right;\">\n",
              "      <th></th>\n",
              "      <th>이름</th>\n",
              "      <th>나이</th>\n",
              "      <th>전화번호</th>\n",
              "      <th>성별</th>\n",
              "    </tr>\n",
              "  </thead>\n",
              "  <tbody>\n",
              "    <tr>\n",
              "      <th>A</th>\n",
              "      <td>홍길동</td>\n",
              "      <td>32</td>\n",
              "      <td>010-1111-2222</td>\n",
              "      <td>NaN</td>\n",
              "    </tr>\n",
              "    <tr>\n",
              "      <th>B</th>\n",
              "      <td>전우치</td>\n",
              "      <td>37</td>\n",
              "      <td>010-231-2222</td>\n",
              "      <td>NaN</td>\n",
              "    </tr>\n",
              "    <tr>\n",
              "      <th>C</th>\n",
              "      <td>손오공</td>\n",
              "      <td>30</td>\n",
              "      <td>010-8111-2522</td>\n",
              "      <td>NaN</td>\n",
              "    </tr>\n",
              "    <tr>\n",
              "      <th>D</th>\n",
              "      <td>사오정</td>\n",
              "      <td>31</td>\n",
              "      <td>010-1471-2222</td>\n",
              "      <td>NaN</td>\n",
              "    </tr>\n",
              "    <tr>\n",
              "      <th>E</th>\n",
              "      <td>저팔계</td>\n",
              "      <td>33</td>\n",
              "      <td>010-3456-3785</td>\n",
              "      <td>NaN</td>\n",
              "    </tr>\n",
              "  </tbody>\n",
              "</table>\n",
              "</div>"
            ],
            "text/plain": [
              "    이름  나이           전화번호   성별\n",
              "A  홍길동  32  010-1111-2222  NaN\n",
              "B  전우치  37   010-231-2222  NaN\n",
              "C  손오공  30  010-8111-2522  NaN\n",
              "D  사오정  31  010-1471-2222  NaN\n",
              "E  저팔계  33  010-3456-3785  NaN"
            ]
          },
          "metadata": {
            "tags": []
          },
          "execution_count": 8
        }
      ]
    },
    {
      "cell_type": "code",
      "metadata": {
        "colab": {
          "base_uri": "https://localhost:8080/"
        },
        "id": "blHUuQoda60X",
        "outputId": "887015e6-b66e-493a-a10b-fe5df723c4c4"
      },
      "source": [
        "df1['성별']"
      ],
      "execution_count": 38,
      "outputs": [
        {
          "output_type": "execute_result",
          "data": {
            "text/plain": [
              "A    NaN\n",
              "B    NaN\n",
              "C    NaN\n",
              "D    NaN\n",
              "E    NaN\n",
              "Name: 성별, dtype: object"
            ]
          },
          "metadata": {
            "tags": []
          },
          "execution_count": 38
        }
      ]
    },
    {
      "cell_type": "code",
      "metadata": {
        "colab": {
          "base_uri": "https://localhost:8080/"
        },
        "id": "x7nmKgB7a6xg",
        "outputId": "19e45d8a-c7e6-4336-cb5b-08a060a07ccf"
      },
      "source": [
        "#iloc, loc\n",
        "print(df1.loc['A'])\n",
        "print(df1.iloc[4])\n"
      ],
      "execution_count": 48,
      "outputs": [
        {
          "output_type": "stream",
          "text": [
            "이름                홍길동\n",
            "나이                 32\n",
            "전화번호    010-1111-2222\n",
            "성별                NaN\n",
            "Name: A, dtype: object\n",
            "이름                저팔계\n",
            "나이                 33\n",
            "전화번호    010-3456-3785\n",
            "성별                NaN\n",
            "Name: E, dtype: object\n"
          ],
          "name": "stdout"
        }
      ]
    },
    {
      "cell_type": "code",
      "metadata": {
        "colab": {
          "base_uri": "https://localhost:8080/"
        },
        "id": "aPt5h5S2a6vJ",
        "outputId": "1ee85942-0bfd-4b6d-d11d-61550e6fb04b"
      },
      "source": [
        "tmp = Series(np.nan, index=[45, 46, 99, 48, 1, 2, 3, 4, 5])\n",
        "tmp.iloc[:4]"
      ],
      "execution_count": 51,
      "outputs": [
        {
          "output_type": "execute_result",
          "data": {
            "text/plain": [
              "45   NaN\n",
              "46   NaN\n",
              "99   NaN\n",
              "48   NaN\n",
              "dtype: float64"
            ]
          },
          "metadata": {
            "tags": []
          },
          "execution_count": 51
        }
      ]
    },
    {
      "cell_type": "code",
      "metadata": {
        "colab": {
          "base_uri": "https://localhost:8080/"
        },
        "id": "QOI2BAW_a6sI",
        "outputId": "060227c7-d0ad-492e-c7d6-c717b99caef8"
      },
      "source": [
        "#iloc로 손오공 꺼내기.\n",
        "#loc로 전우치 꺼내기\n",
        "df1.iloc[2]\n",
        "df1.loc['B']"
      ],
      "execution_count": 9,
      "outputs": [
        {
          "output_type": "execute_result",
          "data": {
            "text/plain": [
              "이름               전우치\n",
              "나이                37\n",
              "전화번호    010-231-2222\n",
              "성별               NaN\n",
              "Name: B, dtype: object"
            ]
          },
          "metadata": {
            "tags": []
          },
          "execution_count": 9
        }
      ]
    },
    {
      "cell_type": "code",
      "metadata": {
        "colab": {
          "base_uri": "https://localhost:8080/",
          "height": 186
        },
        "id": "DKQRcD9ra6pc",
        "outputId": "c698970d-9159-4645-ef29-40acbe8fe1da"
      },
      "source": [
        "df1['특징'] = df1['나이'] > 30\n",
        "df1"
      ],
      "execution_count": 6,
      "outputs": [
        {
          "output_type": "error",
          "ename": "NameError",
          "evalue": "ignored",
          "traceback": [
            "\u001b[0;31m---------------------------------------------------------------------------\u001b[0m",
            "\u001b[0;31mNameError\u001b[0m                                 Traceback (most recent call last)",
            "\u001b[0;32m<ipython-input-6-c280600a1550>\u001b[0m in \u001b[0;36m<module>\u001b[0;34m()\u001b[0m\n\u001b[0;32m----> 1\u001b[0;31m \u001b[0mdf1\u001b[0m\u001b[0;34m[\u001b[0m\u001b[0;34m'특징'\u001b[0m\u001b[0;34m]\u001b[0m \u001b[0;34m=\u001b[0m \u001b[0mdf1\u001b[0m\u001b[0;34m[\u001b[0m\u001b[0;34m'나이'\u001b[0m\u001b[0;34m]\u001b[0m \u001b[0;34m>\u001b[0m \u001b[0;36m30\u001b[0m\u001b[0;34m\u001b[0m\u001b[0;34m\u001b[0m\u001b[0m\n\u001b[0m\u001b[1;32m      2\u001b[0m \u001b[0mdf1\u001b[0m\u001b[0;34m\u001b[0m\u001b[0;34m\u001b[0m\u001b[0m\n",
            "\u001b[0;31mNameError\u001b[0m: name 'df1' is not defined"
          ]
        }
      ]
    },
    {
      "cell_type": "code",
      "metadata": {
        "colab": {
          "base_uri": "https://localhost:8080/",
          "height": 195
        },
        "id": "_-IeEW8sa6m3",
        "outputId": "cd48b953-5d9c-4d56-8018-e97d400f52c5"
      },
      "source": [
        "s = Series(data=['남','여','남'], index = ['A', 'B', 'E'])\n",
        "df1['성별'] = s\n",
        "df1"
      ],
      "execution_count": 11,
      "outputs": [
        {
          "output_type": "execute_result",
          "data": {
            "text/html": [
              "<div>\n",
              "<style scoped>\n",
              "    .dataframe tbody tr th:only-of-type {\n",
              "        vertical-align: middle;\n",
              "    }\n",
              "\n",
              "    .dataframe tbody tr th {\n",
              "        vertical-align: top;\n",
              "    }\n",
              "\n",
              "    .dataframe thead th {\n",
              "        text-align: right;\n",
              "    }\n",
              "</style>\n",
              "<table border=\"1\" class=\"dataframe\">\n",
              "  <thead>\n",
              "    <tr style=\"text-align: right;\">\n",
              "      <th></th>\n",
              "      <th>이름</th>\n",
              "      <th>나이</th>\n",
              "      <th>전화번호</th>\n",
              "      <th>성별</th>\n",
              "    </tr>\n",
              "  </thead>\n",
              "  <tbody>\n",
              "    <tr>\n",
              "      <th>A</th>\n",
              "      <td>홍길동</td>\n",
              "      <td>32</td>\n",
              "      <td>010-1111-2222</td>\n",
              "      <td>남</td>\n",
              "    </tr>\n",
              "    <tr>\n",
              "      <th>B</th>\n",
              "      <td>전우치</td>\n",
              "      <td>37</td>\n",
              "      <td>010-231-2222</td>\n",
              "      <td>여</td>\n",
              "    </tr>\n",
              "    <tr>\n",
              "      <th>C</th>\n",
              "      <td>손오공</td>\n",
              "      <td>30</td>\n",
              "      <td>010-8111-2522</td>\n",
              "      <td>NaN</td>\n",
              "    </tr>\n",
              "    <tr>\n",
              "      <th>D</th>\n",
              "      <td>사오정</td>\n",
              "      <td>31</td>\n",
              "      <td>010-1471-2222</td>\n",
              "      <td>NaN</td>\n",
              "    </tr>\n",
              "    <tr>\n",
              "      <th>E</th>\n",
              "      <td>저팔계</td>\n",
              "      <td>33</td>\n",
              "      <td>010-3456-3785</td>\n",
              "      <td>남</td>\n",
              "    </tr>\n",
              "  </tbody>\n",
              "</table>\n",
              "</div>"
            ],
            "text/plain": [
              "    이름  나이           전화번호   성별\n",
              "A  홍길동  32  010-1111-2222    남\n",
              "B  전우치  37   010-231-2222    여\n",
              "C  손오공  30  010-8111-2522  NaN\n",
              "D  사오정  31  010-1471-2222  NaN\n",
              "E  저팔계  33  010-3456-3785    남"
            ]
          },
          "metadata": {
            "tags": []
          },
          "execution_count": 11
        }
      ]
    },
    {
      "cell_type": "code",
      "metadata": {
        "colab": {
          "base_uri": "https://localhost:8080/"
        },
        "id": "z5qqFK4Oa6kV",
        "outputId": "1435dcbf-030a-4fe6-bf7b-1a0a3261724f"
      },
      "source": [
        "df1['성별'].fillna('누락')"
      ],
      "execution_count": 15,
      "outputs": [
        {
          "output_type": "execute_result",
          "data": {
            "text/plain": [
              "A     남\n",
              "B     여\n",
              "C    누락\n",
              "D    누락\n",
              "E     남\n",
              "Name: 성별, dtype: object"
            ]
          },
          "metadata": {
            "tags": []
          },
          "execution_count": 15
        }
      ]
    },
    {
      "cell_type": "code",
      "metadata": {
        "colab": {
          "base_uri": "https://localhost:8080/"
        },
        "id": "XhWRlsFB9C8H",
        "outputId": "eb08c666-2a97-409d-da5e-cfbf45433279"
      },
      "source": [
        "df1['성별'].isnull()"
      ],
      "execution_count": 16,
      "outputs": [
        {
          "output_type": "execute_result",
          "data": {
            "text/plain": [
              "A    False\n",
              "B    False\n",
              "C     True\n",
              "D     True\n",
              "E    False\n",
              "Name: 성별, dtype: bool"
            ]
          },
          "metadata": {
            "tags": []
          },
          "execution_count": 16
        }
      ]
    },
    {
      "cell_type": "code",
      "metadata": {
        "colab": {
          "base_uri": "https://localhost:8080/",
          "height": 136
        },
        "id": "NT4aqkrq9C5c",
        "outputId": "bbaec290-e60d-46c0-ddfe-56ac2f580ca0"
      },
      "source": [
        "raw_data = {\n",
        "    '기수' : [40, 6, np.NaN],\n",
        "    '학생수' : [20, 15, 8]\n",
        "}\n",
        "\n",
        "abc = DataFrame(data = raw_data, index = ['서울','광주','단기'])\n",
        "abc\n",
        "abc['가가'] = [1, 2, 3]\n",
        "abc['나나'] = Series(data=[1, 2], index=['서울', '단기'])\n",
        "abc"
      ],
      "execution_count": 38,
      "outputs": [
        {
          "output_type": "execute_result",
          "data": {
            "text/html": [
              "<div>\n",
              "<style scoped>\n",
              "    .dataframe tbody tr th:only-of-type {\n",
              "        vertical-align: middle;\n",
              "    }\n",
              "\n",
              "    .dataframe tbody tr th {\n",
              "        vertical-align: top;\n",
              "    }\n",
              "\n",
              "    .dataframe thead th {\n",
              "        text-align: right;\n",
              "    }\n",
              "</style>\n",
              "<table border=\"1\" class=\"dataframe\">\n",
              "  <thead>\n",
              "    <tr style=\"text-align: right;\">\n",
              "      <th></th>\n",
              "      <th>기수</th>\n",
              "      <th>학생수</th>\n",
              "      <th>가가</th>\n",
              "      <th>나나</th>\n",
              "    </tr>\n",
              "  </thead>\n",
              "  <tbody>\n",
              "    <tr>\n",
              "      <th>서울</th>\n",
              "      <td>40.0</td>\n",
              "      <td>20</td>\n",
              "      <td>1</td>\n",
              "      <td>1.0</td>\n",
              "    </tr>\n",
              "    <tr>\n",
              "      <th>광주</th>\n",
              "      <td>6.0</td>\n",
              "      <td>15</td>\n",
              "      <td>2</td>\n",
              "      <td>NaN</td>\n",
              "    </tr>\n",
              "    <tr>\n",
              "      <th>단기</th>\n",
              "      <td>NaN</td>\n",
              "      <td>8</td>\n",
              "      <td>3</td>\n",
              "      <td>2.0</td>\n",
              "    </tr>\n",
              "  </tbody>\n",
              "</table>\n",
              "</div>"
            ],
            "text/plain": [
              "      기수  학생수  가가   나나\n",
              "서울  40.0   20   1  1.0\n",
              "광주   6.0   15   2  NaN\n",
              "단기   NaN    8   3  2.0"
            ]
          },
          "metadata": {
            "tags": []
          },
          "execution_count": 38
        }
      ]
    },
    {
      "cell_type": "code",
      "metadata": {
        "colab": {
          "base_uri": "https://localhost:8080/",
          "height": 136
        },
        "id": "1V1uRTw39C25",
        "outputId": "823cf576-7033-47a2-c789-9829def991d4"
      },
      "source": [
        "data_scit1 = {\n",
        "    '기수' : {'서울' : 40, '광주' : 6, '단기': np.nan},\n",
        "    '학생수' : {'서울' : 20, '광주':15, '단기': 5}\n",
        "}\n",
        "\n",
        "df = DataFrame(data_scit1)\n",
        "df"
      ],
      "execution_count": 37,
      "outputs": [
        {
          "output_type": "execute_result",
          "data": {
            "text/html": [
              "<div>\n",
              "<style scoped>\n",
              "    .dataframe tbody tr th:only-of-type {\n",
              "        vertical-align: middle;\n",
              "    }\n",
              "\n",
              "    .dataframe tbody tr th {\n",
              "        vertical-align: top;\n",
              "    }\n",
              "\n",
              "    .dataframe thead th {\n",
              "        text-align: right;\n",
              "    }\n",
              "</style>\n",
              "<table border=\"1\" class=\"dataframe\">\n",
              "  <thead>\n",
              "    <tr style=\"text-align: right;\">\n",
              "      <th></th>\n",
              "      <th>기수</th>\n",
              "      <th>학생수</th>\n",
              "    </tr>\n",
              "  </thead>\n",
              "  <tbody>\n",
              "    <tr>\n",
              "      <th>서울</th>\n",
              "      <td>40.0</td>\n",
              "      <td>20</td>\n",
              "    </tr>\n",
              "    <tr>\n",
              "      <th>광주</th>\n",
              "      <td>6.0</td>\n",
              "      <td>15</td>\n",
              "    </tr>\n",
              "    <tr>\n",
              "      <th>단기</th>\n",
              "      <td>NaN</td>\n",
              "      <td>5</td>\n",
              "    </tr>\n",
              "  </tbody>\n",
              "</table>\n",
              "</div>"
            ],
            "text/plain": [
              "      기수  학생수\n",
              "서울  40.0   20\n",
              "광주   6.0   15\n",
              "단기   NaN    5"
            ]
          },
          "metadata": {
            "tags": []
          },
          "execution_count": 37
        }
      ]
    },
    {
      "cell_type": "code",
      "metadata": {
        "colab": {
          "base_uri": "https://localhost:8080/",
          "height": 343
        },
        "id": "R_wOa77_9Cz9",
        "outputId": "0aca4d56-c671-44b4-b66c-40a93bbbf38f"
      },
      "source": [
        "#시계열 데이터\n",
        "dates = pd.date_range('20210101', periods = 10)\n",
        "df2 = DataFrame(np.random.randn(10, 4), index=dates, columns=['Kor', 'Jpn', 'Cha','Eng'])\n",
        "df2"
      ],
      "execution_count": 53,
      "outputs": [
        {
          "output_type": "execute_result",
          "data": {
            "text/html": [
              "<div>\n",
              "<style scoped>\n",
              "    .dataframe tbody tr th:only-of-type {\n",
              "        vertical-align: middle;\n",
              "    }\n",
              "\n",
              "    .dataframe tbody tr th {\n",
              "        vertical-align: top;\n",
              "    }\n",
              "\n",
              "    .dataframe thead th {\n",
              "        text-align: right;\n",
              "    }\n",
              "</style>\n",
              "<table border=\"1\" class=\"dataframe\">\n",
              "  <thead>\n",
              "    <tr style=\"text-align: right;\">\n",
              "      <th></th>\n",
              "      <th>Kor</th>\n",
              "      <th>Jpn</th>\n",
              "      <th>Cha</th>\n",
              "      <th>Eng</th>\n",
              "    </tr>\n",
              "  </thead>\n",
              "  <tbody>\n",
              "    <tr>\n",
              "      <th>2021-01-01</th>\n",
              "      <td>1.100062</td>\n",
              "      <td>-1.384169</td>\n",
              "      <td>-0.330721</td>\n",
              "      <td>0.029089</td>\n",
              "    </tr>\n",
              "    <tr>\n",
              "      <th>2021-01-02</th>\n",
              "      <td>1.063255</td>\n",
              "      <td>0.211823</td>\n",
              "      <td>-0.764170</td>\n",
              "      <td>-0.271949</td>\n",
              "    </tr>\n",
              "    <tr>\n",
              "      <th>2021-01-03</th>\n",
              "      <td>0.530065</td>\n",
              "      <td>-0.251899</td>\n",
              "      <td>-1.142233</td>\n",
              "      <td>-0.623350</td>\n",
              "    </tr>\n",
              "    <tr>\n",
              "      <th>2021-01-04</th>\n",
              "      <td>1.438187</td>\n",
              "      <td>-0.614754</td>\n",
              "      <td>1.091585</td>\n",
              "      <td>-0.531000</td>\n",
              "    </tr>\n",
              "    <tr>\n",
              "      <th>2021-01-05</th>\n",
              "      <td>-0.365168</td>\n",
              "      <td>0.119239</td>\n",
              "      <td>-1.509867</td>\n",
              "      <td>0.847616</td>\n",
              "    </tr>\n",
              "    <tr>\n",
              "      <th>2021-01-06</th>\n",
              "      <td>-0.092173</td>\n",
              "      <td>-0.444968</td>\n",
              "      <td>-1.029446</td>\n",
              "      <td>-1.256042</td>\n",
              "    </tr>\n",
              "    <tr>\n",
              "      <th>2021-01-07</th>\n",
              "      <td>-2.019308</td>\n",
              "      <td>1.194876</td>\n",
              "      <td>-1.417399</td>\n",
              "      <td>0.141550</td>\n",
              "    </tr>\n",
              "    <tr>\n",
              "      <th>2021-01-08</th>\n",
              "      <td>-0.142378</td>\n",
              "      <td>0.429482</td>\n",
              "      <td>0.765801</td>\n",
              "      <td>3.228655</td>\n",
              "    </tr>\n",
              "    <tr>\n",
              "      <th>2021-01-09</th>\n",
              "      <td>0.119323</td>\n",
              "      <td>1.442548</td>\n",
              "      <td>-0.430875</td>\n",
              "      <td>0.607520</td>\n",
              "    </tr>\n",
              "    <tr>\n",
              "      <th>2021-01-10</th>\n",
              "      <td>-1.126890</td>\n",
              "      <td>0.326870</td>\n",
              "      <td>0.642606</td>\n",
              "      <td>2.212894</td>\n",
              "    </tr>\n",
              "  </tbody>\n",
              "</table>\n",
              "</div>"
            ],
            "text/plain": [
              "                 Kor       Jpn       Cha       Eng\n",
              "2021-01-01  1.100062 -1.384169 -0.330721  0.029089\n",
              "2021-01-02  1.063255  0.211823 -0.764170 -0.271949\n",
              "2021-01-03  0.530065 -0.251899 -1.142233 -0.623350\n",
              "2021-01-04  1.438187 -0.614754  1.091585 -0.531000\n",
              "2021-01-05 -0.365168  0.119239 -1.509867  0.847616\n",
              "2021-01-06 -0.092173 -0.444968 -1.029446 -1.256042\n",
              "2021-01-07 -2.019308  1.194876 -1.417399  0.141550\n",
              "2021-01-08 -0.142378  0.429482  0.765801  3.228655\n",
              "2021-01-09  0.119323  1.442548 -0.430875  0.607520\n",
              "2021-01-10 -1.126890  0.326870  0.642606  2.212894"
            ]
          },
          "metadata": {
            "tags": []
          },
          "execution_count": 53
        }
      ]
    },
    {
      "cell_type": "code",
      "metadata": {
        "id": "LvvR1AKU9CxJ"
      },
      "source": [
        ""
      ],
      "execution_count": null,
      "outputs": []
    },
    {
      "cell_type": "code",
      "metadata": {
        "id": "zzuw2h0Q9Cuk"
      },
      "source": [
        ""
      ],
      "execution_count": null,
      "outputs": []
    },
    {
      "cell_type": "code",
      "metadata": {
        "id": "JDBwsiKh9Cr_"
      },
      "source": [
        ""
      ],
      "execution_count": null,
      "outputs": []
    },
    {
      "cell_type": "code",
      "metadata": {
        "id": "PnBdGo9e9CpW"
      },
      "source": [
        ""
      ],
      "execution_count": null,
      "outputs": []
    },
    {
      "cell_type": "code",
      "metadata": {
        "id": "-SdOc9wO9Cm0"
      },
      "source": [
        ""
      ],
      "execution_count": null,
      "outputs": []
    },
    {
      "cell_type": "code",
      "metadata": {
        "id": "G6vFIOfU9CkW"
      },
      "source": [
        ""
      ],
      "execution_count": null,
      "outputs": []
    },
    {
      "cell_type": "code",
      "metadata": {
        "id": "1PTC4f0q9Ch1"
      },
      "source": [
        ""
      ],
      "execution_count": null,
      "outputs": []
    },
    {
      "cell_type": "code",
      "metadata": {
        "id": "jQ3NqlAF9CfL"
      },
      "source": [
        ""
      ],
      "execution_count": null,
      "outputs": []
    }
  ]
}