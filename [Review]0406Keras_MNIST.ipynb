{
  "nbformat": 4,
  "nbformat_minor": 0,
  "metadata": {
    "colab": {
      "name": "[Review]0406Keras_MNIST.ipynb",
      "provenance": [],
      "collapsed_sections": [],
      "authorship_tag": "ABX9TyOlzdoAgeyQG00YL++7EZKU",
      "include_colab_link": true
    },
    "kernelspec": {
      "name": "python3",
      "display_name": "Python 3"
    },
    "language_info": {
      "name": "python"
    },
    "accelerator": "GPU"
  },
  "cells": [
    {
      "cell_type": "markdown",
      "metadata": {
        "id": "view-in-github",
        "colab_type": "text"
      },
      "source": [
        "<a href=\"https://colab.research.google.com/github/kdstheace/Study_Python_MachineLearning/blob/main/%5BReview%5D0406Keras_MNIST.ipynb\" target=\"_parent\"><img src=\"https://colab.research.google.com/assets/colab-badge.svg\" alt=\"Open In Colab\"/></a>"
      ]
    },
    {
      "cell_type": "markdown",
      "metadata": {
        "id": "YpFzdOg5nvVt"
      },
      "source": [
        "# **손글씨 분류**\n",
        "-MNIST 데이터 분류 : 숫자 10개 중 하나를 맞추기 초간단 딥러닝\n",
        "\n",
        "-지도학습: label(y값)을 제공해준다."
      ]
    },
    {
      "cell_type": "code",
      "metadata": {
        "colab": {
          "base_uri": "https://localhost:8080/"
        },
        "id": "nkbHKbQc9Osp",
        "outputId": "455eebcb-c828-4cc1-e117-fcbd6cf58ebd"
      },
      "source": [
        "import tensorflow\n",
        "print(tensorflow.__version__)"
      ],
      "execution_count": 1,
      "outputs": [
        {
          "output_type": "stream",
          "text": [
            "2.4.1\n"
          ],
          "name": "stdout"
        }
      ]
    },
    {
      "cell_type": "code",
      "metadata": {
        "id": "rH2IfE7kwCFo"
      },
      "source": [
        "import numpy as np\n",
        "import pandas as pd\n",
        "import matplotlib.pyplot as plt\n",
        "\n",
        "from keras.datasets import mnist\n",
        "from keras.models import Sequential\n",
        "from keras.utils import to_categorical #원핫인코딩함수. 아니면 pandas의 getdummies써도 됨.\n",
        "from keras.layers import Dense, Flatten, Conv2D, MaxPool2D\n",
        "#3D니까 1차원으로 바꾸는 Flatten필요"
      ],
      "execution_count": 2,
      "outputs": []
    },
    {
      "cell_type": "code",
      "metadata": {
        "id": "sKwZKOaQwCUX"
      },
      "source": [
        "#이미지의 폭과 높이를 변수에 담기\n",
        "width = 28\n",
        "height = 28\n",
        "(x_train, y_train), (x_test, y_test) = mnist.load_data() #튜플로 가져옴 \n",
        "#GAN > 딥페이크에 사용함. 지도학습의 분류작업할 떄 많이 사용."
      ],
      "execution_count": 3,
      "outputs": []
    },
    {
      "cell_type": "code",
      "metadata": {
        "id": "42AyBrCqwCRg"
      },
      "source": [
        "print(x_train.shape, y_train.shape)\n",
        "print(x_test.shape, y_test.shape)\n",
        "print(x_train[0])\n",
        "print(y_train[0])"
      ],
      "execution_count": null,
      "outputs": []
    },
    {
      "cell_type": "code",
      "metadata": {
        "colab": {
          "base_uri": "https://localhost:8080/",
          "height": 281
        },
        "id": "C1BG77rowCOu",
        "outputId": "e9e1d060-7928-49ad-9080-d60dbbd7aed7"
      },
      "source": [
        "#샘플1개 출력해보기\n",
        "plt.imshow(x_train[0])\n",
        "plt.title('Correct:'+ str(y_train[0]))\n",
        "plt.show()"
      ],
      "execution_count": 5,
      "outputs": [
        {
          "output_type": "display_data",
          "data": {
            "image/png": "[encoded data removed]",
            "text/plain": [
              "<Figure size 432x288 with 1 Axes>"
            ]
          },
          "metadata": {
            "tags": [],
            "needs_background": "light"
          }
        }
      ]
    },
    {
      "cell_type": "code",
      "metadata": {
        "colab": {
          "base_uri": "https://localhost:8080/"
        },
        "id": "Pmbb7csswCLw",
        "outputId": "c0f2ae0d-a169-4e71-a017-82eff3a0d6e7"
      },
      "source": [
        "#데이터 스케일링.standard scaler안쓰고 직접 255로 나눠서 스케일링해보자\n",
        "x_train = x_train.reshape(60000, width, height, 1).astype('float32')/255.0 #1은 채널로 흑백,   칼라일경우 grb 3\n",
        "x_test = x_test.reshape(10000, width, height, 1).astype('float32')/255.0\n",
        "x_train[0]\n",
        "\n",
        "#원핫 인코딩\n",
        "print(y_train[0])\n",
        "y_train = to_categorical(y_train)\n",
        "y_test = to_categorical(y_test)\n",
        "print(y_train[0])"
      ],
      "execution_count": 6,
      "outputs": [
        {
          "output_type": "stream",
          "text": [
            "5\n",
            "[0. 0. 0. 0. 0. 1. 0. 0. 0. 0.]\n"
          ],
          "name": "stdout"
        }
      ]
    },
    {
      "cell_type": "markdown",
      "metadata": {
        "id": "lSRBB1PL3V_Y"
      },
      "source": [
        "Covolutional > Relu > Pooling\n",
        "Convolutional : filter로 하나씩 대보고 갯수세기 그래서 한칸(stride)만큼 옆으로\n",
        "Pooling: 최댓값"
      ]
    },
    {
      "cell_type": "code",
      "metadata": {
        "colab": {
          "base_uri": "https://localhost:8080/"
        },
        "id": "dCYZZ6mo3Vq4",
        "outputId": "fdc70747-35b9-47a0-9bd0-143de07e3260"
      },
      "source": [
        "#모델생성하기\n",
        "model = Sequential()\n",
        "#1) CNN\n",
        "model.add(Conv2D(filters=32, kernel_size=(3,3), activation='relu', input_shape=(width, height, 1)))\n",
        "model.add(Conv2D(filters=32, kernel_size=(3,3), activation='relu'))\n",
        "model.add(MaxPool2D(pool_size=(2,2)))#pooling\n",
        "\n",
        "model.add(Conv2D(filters=32, kernel_size=(3,3), activation='relu', input_shape=(width, height, 1)))\n",
        "model.add(Conv2D(filters=32, kernel_size=(3,3), activation='relu'))\n",
        "model.add(MaxPool2D(pool_size=(2,2)))#pooling\n",
        "#2) 딥러닝\n",
        "model.add(Flatten()) #1차원으로 펴기\n",
        "model.add(Dense(units = 256, activation='relu'))\n",
        "model.add(Dense(units = 256, activation='relu'))\n",
        "model.add(Dense(units = 10, activation='softmax'))\n",
        "\n",
        "model.summary()"
      ],
      "execution_count": 7,
      "outputs": [
        {
          "output_type": "stream",
          "text": [
            "Model: \"sequential\"\n",
            "_________________________________________________________________\n",
            "Layer (type)                 Output Shape              Param #   \n",
            "=================================================================\n",
            "conv2d (Conv2D)              (None, 26, 26, 32)        320       \n",
            "_________________________________________________________________\n",
            "conv2d_1 (Conv2D)            (None, 24, 24, 32)        9248      \n",
            "_________________________________________________________________\n",
            "max_pooling2d (MaxPooling2D) (None, 12, 12, 32)        0         \n",
            "_________________________________________________________________\n",
            "conv2d_2 (Conv2D)            (None, 10, 10, 32)        9248      \n",
            "_________________________________________________________________\n",
            "conv2d_3 (Conv2D)            (None, 8, 8, 32)          9248      \n",
            "_________________________________________________________________\n",
            "max_pooling2d_1 (MaxPooling2 (None, 4, 4, 32)          0         \n",
            "_________________________________________________________________\n",
            "flatten (Flatten)            (None, 512)               0         \n",
            "_________________________________________________________________\n",
            "dense (Dense)                (None, 256)               131328    \n",
            "_________________________________________________________________\n",
            "dense_1 (Dense)              (None, 256)               65792     \n",
            "_________________________________________________________________\n",
            "dense_2 (Dense)              (None, 10)                2570      \n",
            "=================================================================\n",
            "Total params: 227,754\n",
            "Trainable params: 227,754\n",
            "Non-trainable params: 0\n",
            "_________________________________________________________________\n"
          ],
          "name": "stdout"
        }
      ]
    },
    {
      "cell_type": "code",
      "metadata": {
        "colab": {
          "base_uri": "https://localhost:8080/"
        },
        "id": "Vf4cswn_3VnE",
        "outputId": "7ef6b3c5-a39e-414f-8281-39192f830c80"
      },
      "source": [
        "#학습하기\n",
        "model.compile(optimizer='sgd', loss='categorical_crossentropy', metrics=['accuracy'])\n",
        "hist=model.fit(x_train, y_train, epochs = 30, batch_size = 32, validation_data=(x_test,y_test))"
      ],
      "execution_count": 8,
      "outputs": [
        {
          "output_type": "stream",
          "text": [
            "Epoch 1/30\n",
            "1875/1875 [==============================] - 15s 4ms/step - loss: 1.2165 - accuracy: 0.5900 - val_loss: 0.1041 - val_accuracy: 0.9686\n",
            "Epoch 2/30\n",
            "1875/1875 [==============================] - 7s 4ms/step - loss: 0.1083 - accuracy: 0.9659 - val_loss: 0.0727 - val_accuracy: 0.9769\n",
            "Epoch 3/30\n",
            "1875/1875 [==============================] - 7s 4ms/step - loss: 0.0707 - accuracy: 0.9773 - val_loss: 0.0688 - val_accuracy: 0.9789\n",
            "Epoch 4/30\n",
            "1875/1875 [==============================] - 7s 4ms/step - loss: 0.0549 - accuracy: 0.9824 - val_loss: 0.0485 - val_accuracy: 0.9850\n",
            "Epoch 5/30\n",
            "1875/1875 [==============================] - 7s 4ms/step - loss: 0.0432 - accuracy: 0.9866 - val_loss: 0.0429 - val_accuracy: 0.9866\n",
            "Epoch 6/30\n",
            "1875/1875 [==============================] - 7s 4ms/step - loss: 0.0351 - accuracy: 0.9894 - val_loss: 0.0426 - val_accuracy: 0.9871\n",
            "Epoch 7/30\n",
            "1875/1875 [==============================] - 7s 4ms/step - loss: 0.0313 - accuracy: 0.9897 - val_loss: 0.0424 - val_accuracy: 0.9872\n",
            "Epoch 8/30\n",
            "1875/1875 [==============================] - 7s 4ms/step - loss: 0.0260 - accuracy: 0.9922 - val_loss: 0.0424 - val_accuracy: 0.9869\n",
            "Epoch 9/30\n",
            "1875/1875 [==============================] - 7s 4ms/step - loss: 0.0225 - accuracy: 0.9931 - val_loss: 0.0369 - val_accuracy: 0.9893\n",
            "Epoch 10/30\n",
            "1875/1875 [==============================] - 7s 4ms/step - loss: 0.0208 - accuracy: 0.9941 - val_loss: 0.0364 - val_accuracy: 0.9894\n",
            "Epoch 11/30\n",
            "1875/1875 [==============================] - 7s 4ms/step - loss: 0.0153 - accuracy: 0.9956 - val_loss: 0.0416 - val_accuracy: 0.9886\n",
            "Epoch 12/30\n",
            "1875/1875 [==============================] - 7s 4ms/step - loss: 0.0133 - accuracy: 0.9955 - val_loss: 0.0383 - val_accuracy: 0.9892\n",
            "Epoch 13/30\n",
            "1875/1875 [==============================] - 7s 4ms/step - loss: 0.0137 - accuracy: 0.9955 - val_loss: 0.0411 - val_accuracy: 0.9890\n",
            "Epoch 14/30\n",
            "1875/1875 [==============================] - 7s 4ms/step - loss: 0.0104 - accuracy: 0.9968 - val_loss: 0.0417 - val_accuracy: 0.9889\n",
            "Epoch 15/30\n",
            "1875/1875 [==============================] - 7s 4ms/step - loss: 0.0111 - accuracy: 0.9966 - val_loss: 0.0426 - val_accuracy: 0.9881\n",
            "Epoch 16/30\n",
            "1875/1875 [==============================] - 7s 4ms/step - loss: 0.0095 - accuracy: 0.9971 - val_loss: 0.0396 - val_accuracy: 0.9903\n",
            "Epoch 17/30\n",
            "1875/1875 [==============================] - 7s 4ms/step - loss: 0.0068 - accuracy: 0.9977 - val_loss: 0.0390 - val_accuracy: 0.9903\n",
            "Epoch 18/30\n",
            "1875/1875 [==============================] - 7s 4ms/step - loss: 0.0053 - accuracy: 0.9983 - val_loss: 0.0479 - val_accuracy: 0.9875\n",
            "Epoch 19/30\n",
            "1875/1875 [==============================] - 7s 4ms/step - loss: 0.0062 - accuracy: 0.9981 - val_loss: 0.0454 - val_accuracy: 0.9893\n",
            "Epoch 20/30\n",
            "1875/1875 [==============================] - 7s 4ms/step - loss: 0.0054 - accuracy: 0.9981 - val_loss: 0.0414 - val_accuracy: 0.9893\n",
            "Epoch 21/30\n",
            "1875/1875 [==============================] - 7s 4ms/step - loss: 0.0053 - accuracy: 0.9985 - val_loss: 0.0419 - val_accuracy: 0.9900\n",
            "Epoch 22/30\n",
            "1875/1875 [==============================] - 7s 4ms/step - loss: 0.0038 - accuracy: 0.9991 - val_loss: 0.0418 - val_accuracy: 0.9903\n",
            "Epoch 23/30\n",
            "1875/1875 [==============================] - 7s 4ms/step - loss: 0.0039 - accuracy: 0.9991 - val_loss: 0.0442 - val_accuracy: 0.9898\n",
            "Epoch 24/30\n",
            "1875/1875 [==============================] - 7s 4ms/step - loss: 0.0035 - accuracy: 0.9989 - val_loss: 0.0440 - val_accuracy: 0.9898\n",
            "Epoch 25/30\n",
            "1875/1875 [==============================] - 7s 4ms/step - loss: 0.0016 - accuracy: 0.9996 - val_loss: 0.0524 - val_accuracy: 0.9892\n",
            "Epoch 26/30\n",
            "1875/1875 [==============================] - 7s 4ms/step - loss: 0.0026 - accuracy: 0.9993 - val_loss: 0.0441 - val_accuracy: 0.9898\n",
            "Epoch 27/30\n",
            "1875/1875 [==============================] - 7s 4ms/step - loss: 0.0012 - accuracy: 0.9995 - val_loss: 0.0468 - val_accuracy: 0.9905\n",
            "Epoch 28/30\n",
            "1875/1875 [==============================] - 7s 4ms/step - loss: 0.0014 - accuracy: 0.9996 - val_loss: 0.0460 - val_accuracy: 0.9902\n",
            "Epoch 29/30\n",
            "1875/1875 [==============================] - 7s 4ms/step - loss: 0.0014 - accuracy: 0.9998 - val_loss: 0.0450 - val_accuracy: 0.9905\n",
            "Epoch 30/30\n",
            "1875/1875 [==============================] - 7s 4ms/step - loss: 5.9225e-04 - accuracy: 0.9999 - val_loss: 0.0452 - val_accuracy: 0.9903\n"
          ],
          "name": "stdout"
        }
      ]
    },
    {
      "cell_type": "code",
      "metadata": {
        "id": "vVpUAu-R3k-P"
      },
      "source": [
        ""
      ],
      "execution_count": 8,
      "outputs": []
    },
    {
      "cell_type": "code",
      "metadata": {
        "id": "GucFom9g3li4"
      },
      "source": [
        ""
      ],
      "execution_count": 8,
      "outputs": []
    },
    {
      "cell_type": "code",
      "metadata": {
        "id": "mX2u_rbl3lgP"
      },
      "source": [
        ""
      ],
      "execution_count": 8,
      "outputs": []
    },
    {
      "cell_type": "code",
      "metadata": {
        "id": "7bChJHQ63ldN"
      },
      "source": [
        ""
      ],
      "execution_count": 8,
      "outputs": []
    },
    {
      "cell_type": "code",
      "metadata": {
        "id": "U-ReKueC3laM"
      },
      "source": [
        ""
      ],
      "execution_count": 8,
      "outputs": []
    },
    {
      "cell_type": "code",
      "metadata": {
        "id": "F-iqANgu3lXR"
      },
      "source": [
        ""
      ],
      "execution_count": 8,
      "outputs": []
    },
    {
      "cell_type": "code",
      "metadata": {
        "id": "doCWYZtw3lUc"
      },
      "source": [
        ""
      ],
      "execution_count": 8,
      "outputs": []
    }
  ]
}