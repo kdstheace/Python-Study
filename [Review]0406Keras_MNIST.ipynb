{
  "nbformat": 4,
  "nbformat_minor": 0,
  "metadata": {
    "colab": {
      "name": "[Review]0406Keras_MNIST.ipynb",
      "provenance": [],
      "collapsed_sections": [],
      "authorship_tag": "ABX9TyPoQD0r0wwc9qmln3ufS7rJ",
      "include_colab_link": true
    },
    "kernelspec": {
      "name": "python3",
      "display_name": "Python 3"
    },
    "language_info": {
      "name": "python"
    },
    "accelerator": "GPU"
  },
  "cells": [
    {
      "cell_type": "markdown",
      "metadata": {
        "id": "view-in-github",
        "colab_type": "text"
      },
      "source": [
        "<a href=\"https://colab.research.google.com/github/kdstheace/Study_Python_MachineLearning/blob/main/%5BReview%5D0406Keras_MNIST.ipynb\" target=\"_parent\"><img src=\"https://colab.research.google.com/assets/colab-badge.svg\" alt=\"Open In Colab\"/></a>"
      ]
    },
    {
      "cell_type": "markdown",
      "metadata": {
        "id": "YpFzdOg5nvVt"
      },
      "source": [
        "# **손글씨 분류**\n",
        "-MNIST 데이터 분류 : 숫자 10개 중 하나를 맞추기 초간단 딥러닝\n",
        "\n",
        "-지도학습: label(y값)을 제공해준다."
      ]
    },
    {
      "cell_type": "code",
      "metadata": {
        "colab": {
          "base_uri": "https://localhost:8080/"
        },
        "id": "nkbHKbQc9Osp",
        "outputId": "40c38186-9208-4d0f-95b5-aa02c4efee85"
      },
      "source": [
        "import tensorflow\n",
        "print(tensorflow.__version__)"
      ],
      "execution_count": 2,
      "outputs": [
        {
          "output_type": "stream",
          "text": [
            "2.4.1\n"
          ],
          "name": "stdout"
        }
      ]
    },
    {
      "cell_type": "code",
      "metadata": {
        "id": "rH2IfE7kwCFo"
      },
      "source": [
        "import numpy as np\n",
        "import pandas as pd\n",
        "import matplotlib.pyplot as plt\n",
        "\n",
        "from keras.datasets import mnist\n",
        "from keras.models import Sequential\n",
        "from keras.utils import to_categorical #원핫인코딩함수. 아니면 pandas의 getdummies써도 됨.\n",
        "from keras.layers import Dense, Flatten, Conv2D, MaxPool2D\n",
        "#3D니까 1차원으로 바꾸는 Flatten필요"
      ],
      "execution_count": 4,
      "outputs": []
    },
    {
      "cell_type": "code",
      "metadata": {
        "id": "sKwZKOaQwCUX"
      },
      "source": [
        "#이미지의 폭과 높이를 변수에 담기\n",
        "width = 28\n",
        "height = 28\n",
        "(x_train, y_train), (x_test, y_test) = mnist.load_data() #튜플로 가져옴 \n",
        "#GAN > 딥페이크에 사용함. 지도학습의 분류작업할 떄 많이 사용."
      ],
      "execution_count": 34,
      "outputs": []
    },
    {
      "cell_type": "code",
      "metadata": {
        "id": "42AyBrCqwCRg",
        "colab": {
          "base_uri": "https://localhost:8080/"
        },
        "outputId": "c27be9c8-e12e-4d51-ec6c-4aef506bef84"
      },
      "source": [
        "print(x_train.shape, y_train.shape)\n",
        "print(x_test.shape, y_test.shape)\n",
        "y_train[0]"
      ],
      "execution_count": 35,
      "outputs": [
        {
          "output_type": "stream",
          "text": [
            "(60000, 28, 28) (60000,)\n",
            "(10000, 28, 28) (10000,)\n"
          ],
          "name": "stdout"
        },
        {
          "output_type": "execute_result",
          "data": {
            "text/plain": [
              "5"
            ]
          },
          "metadata": {
            "tags": []
          },
          "execution_count": 35
        }
      ]
    },
    {
      "cell_type": "code",
      "metadata": {
        "colab": {
          "base_uri": "https://localhost:8080/",
          "height": 156
        },
        "id": "C1BG77rowCOu",
        "outputId": "d842ab96-ed83-4eb3-8846-7c4448a9a375"
      },
      "source": [
        "#샘플1개 출력해보기\n",
        "plt.imshow(x_train[0])\n",
        "plt.title('Correct:'+ str(y_train[0]))\n",
        "plt.rcParams['figure.figsize'] = (2,2)\n",
        "plt.axis('off')\n",
        "plt.show()"
      ],
      "execution_count": 37,
      "outputs": [
        {
          "output_type": "display_data",
          "data": {
            "image/png": "[encoded data removed]",
            "text/plain": [
              "<Figure size 144x144 with 1 Axes>"
            ]
          },
          "metadata": {
            "tags": [],
            "needs_background": "light"
          }
        }
      ]
    },
    {
      "cell_type": "code",
      "metadata": {
        "colab": {
          "base_uri": "https://localhost:8080/"
        },
        "id": "Pmbb7csswCLw",
        "outputId": "9c3e67f5-39b4-4e54-e5e2-88aba059dec0"
      },
      "source": [
        "#데이터 스케일링.standard scaler안쓰고 직접 255로 나눠서 스케일링해보자\n",
        "x_train = x_train.reshape(60000, width, height, 1).astype('float32')/255.0 #1은 채널로 흑백,   칼라일경우 grb 3\n",
        "x_test = x_test.reshape(10000, width, height, 1).astype('float32')/255.0\n",
        "x_train[0]\n",
        "\n",
        "#원핫 인코딩\n",
        "print(y_train[0])\n",
        "y_train = to_categorical(y_train)\n",
        "y_test = to_categorical(y_test)\n",
        "print(y_train[0])"
      ],
      "execution_count": 38,
      "outputs": [
        {
          "output_type": "stream",
          "text": [
            "5\n",
            "[0. 0. 0. 0. 0. 1. 0. 0. 0. 0.]\n"
          ],
          "name": "stdout"
        }
      ]
    },
    {
      "cell_type": "markdown",
      "metadata": {
        "id": "lSRBB1PL3V_Y"
      },
      "source": [
        "Covolutional > Relu > Pooling\n",
        "Convolutional : filter로 하나씩 대보고 갯수세기 그래서 한칸(stride)만큼 옆으로\n",
        "Pooling: 최댓값"
      ]
    },
    {
      "cell_type": "code",
      "metadata": {
        "colab": {
          "base_uri": "https://localhost:8080/"
        },
        "id": "dCYZZ6mo3Vq4",
        "outputId": "875350c7-a04d-4930-db94-7f5888bfdbfc"
      },
      "source": [
        "#모델생성하기\n",
        "model = Sequential()\n",
        "#1) CNN\n",
        "model.add(Conv2D(filters=32, kernel_size=(3,3), activation='relu', input_shape=(width, height, 1)))\n",
        "model.add(Conv2D(filters=32, kernel_size=(3,3), activation='relu'))\n",
        "model.add(MaxPool2D(pool_size=(2,2)))#pooling 특징추출\n",
        "\n",
        "model.add(Conv2D(filters=32, kernel_size=(3,3), activation='relu', input_shape=(width, height, 1)))\n",
        "model.add(Conv2D(filters=32, kernel_size=(3,3), activation='relu'))\n",
        "model.add(MaxPool2D(pool_size=(2,2)))#pooling\n",
        "#2) 딥러닝\n",
        "model.add(Flatten()) #1차원으로 펴기\n",
        "model.add(Dense(units = 256, activation='relu'))\n",
        "model.add(Dense(units = 256, activation='relu'))\n",
        "model.add(Dense(units = 10, activation='softmax'))\n",
        "\n",
        "model.summary()"
      ],
      "execution_count": 39,
      "outputs": [
        {
          "output_type": "stream",
          "text": [
            "Model: \"sequential\"\n",
            "_________________________________________________________________\n",
            "Layer (type)                 Output Shape              Param #   \n",
            "=================================================================\n",
            "conv2d (Conv2D)              (None, 26, 26, 32)        320       \n",
            "_________________________________________________________________\n",
            "conv2d_1 (Conv2D)            (None, 24, 24, 32)        9248      \n",
            "_________________________________________________________________\n",
            "max_pooling2d (MaxPooling2D) (None, 12, 12, 32)        0         \n",
            "_________________________________________________________________\n",
            "conv2d_2 (Conv2D)            (None, 10, 10, 32)        9248      \n",
            "_________________________________________________________________\n",
            "conv2d_3 (Conv2D)            (None, 8, 8, 32)          9248      \n",
            "_________________________________________________________________\n",
            "max_pooling2d_1 (MaxPooling2 (None, 4, 4, 32)          0         \n",
            "_________________________________________________________________\n",
            "flatten (Flatten)            (None, 512)               0         \n",
            "_________________________________________________________________\n",
            "dense (Dense)                (None, 256)               131328    \n",
            "_________________________________________________________________\n",
            "dense_1 (Dense)              (None, 256)               65792     \n",
            "_________________________________________________________________\n",
            "dense_2 (Dense)              (None, 10)                2570      \n",
            "=================================================================\n",
            "Total params: 227,754\n",
            "Trainable params: 227,754\n",
            "Non-trainable params: 0\n",
            "_________________________________________________________________\n"
          ],
          "name": "stdout"
        }
      ]
    },
    {
      "cell_type": "code",
      "metadata": {
        "colab": {
          "base_uri": "https://localhost:8080/"
        },
        "id": "Vf4cswn_3VnE",
        "outputId": "1246fc59-ebee-4539-be2c-d79ef36c51f7"
      },
      "source": [
        "#학습하기\n",
        "model.compile(optimizer='sgd', loss='categorical_crossentropy', metrics=['accuracy'])\n",
        "hist=model.fit(x_train, y_train, epochs = 30, batch_size = 32, validation_data=(x_test,y_test))"
      ],
      "execution_count": 40,
      "outputs": [
        {
          "output_type": "stream",
          "text": [
            "Epoch 1/30\n",
            "1875/1875 [==============================] - 40s 4ms/step - loss: 1.1276 - accuracy: 0.6344 - val_loss: 0.1061 - val_accuracy: 0.9659\n",
            "Epoch 2/30\n",
            "1875/1875 [==============================] - 7s 4ms/step - loss: 0.0973 - accuracy: 0.9702 - val_loss: 0.0630 - val_accuracy: 0.9814\n",
            "Epoch 3/30\n",
            "1875/1875 [==============================] - 7s 4ms/step - loss: 0.0628 - accuracy: 0.9801 - val_loss: 0.0485 - val_accuracy: 0.9856\n",
            "Epoch 4/30\n",
            "1875/1875 [==============================] - 7s 4ms/step - loss: 0.0463 - accuracy: 0.9854 - val_loss: 0.0517 - val_accuracy: 0.9840\n",
            "Epoch 5/30\n",
            "1875/1875 [==============================] - 7s 4ms/step - loss: 0.0395 - accuracy: 0.9875 - val_loss: 0.0452 - val_accuracy: 0.9860\n",
            "Epoch 6/30\n",
            "1875/1875 [==============================] - 7s 4ms/step - loss: 0.0319 - accuracy: 0.9894 - val_loss: 0.0373 - val_accuracy: 0.9893\n",
            "Epoch 7/30\n",
            "1875/1875 [==============================] - 7s 4ms/step - loss: 0.0265 - accuracy: 0.9912 - val_loss: 0.0419 - val_accuracy: 0.9876\n",
            "Epoch 8/30\n",
            "1875/1875 [==============================] - 7s 4ms/step - loss: 0.0224 - accuracy: 0.9924 - val_loss: 0.0366 - val_accuracy: 0.9893\n",
            "Epoch 9/30\n",
            "1875/1875 [==============================] - 7s 4ms/step - loss: 0.0183 - accuracy: 0.9939 - val_loss: 0.0393 - val_accuracy: 0.9892\n",
            "Epoch 10/30\n",
            "1875/1875 [==============================] - 7s 4ms/step - loss: 0.0172 - accuracy: 0.9944 - val_loss: 0.0372 - val_accuracy: 0.9886\n",
            "Epoch 11/30\n",
            "1875/1875 [==============================] - 7s 4ms/step - loss: 0.0141 - accuracy: 0.9955 - val_loss: 0.0380 - val_accuracy: 0.9894\n",
            "Epoch 12/30\n",
            "1875/1875 [==============================] - 7s 4ms/step - loss: 0.0123 - accuracy: 0.9962 - val_loss: 0.0374 - val_accuracy: 0.9903\n",
            "Epoch 13/30\n",
            "1875/1875 [==============================] - 7s 4ms/step - loss: 0.0112 - accuracy: 0.9967 - val_loss: 0.0382 - val_accuracy: 0.9885\n",
            "Epoch 14/30\n",
            "1875/1875 [==============================] - 7s 4ms/step - loss: 0.0094 - accuracy: 0.9970 - val_loss: 0.0388 - val_accuracy: 0.9898\n",
            "Epoch 15/30\n",
            "1875/1875 [==============================] - 7s 4ms/step - loss: 0.0073 - accuracy: 0.9978 - val_loss: 0.0382 - val_accuracy: 0.9902\n",
            "Epoch 16/30\n",
            "1875/1875 [==============================] - 7s 4ms/step - loss: 0.0069 - accuracy: 0.9979 - val_loss: 0.0454 - val_accuracy: 0.9890\n",
            "Epoch 17/30\n",
            "1875/1875 [==============================] - 7s 4ms/step - loss: 0.0057 - accuracy: 0.9983 - val_loss: 0.0426 - val_accuracy: 0.9897\n",
            "Epoch 18/30\n",
            "1875/1875 [==============================] - 7s 4ms/step - loss: 0.0035 - accuracy: 0.9993 - val_loss: 0.0423 - val_accuracy: 0.9900\n",
            "Epoch 19/30\n",
            "1875/1875 [==============================] - 7s 4ms/step - loss: 0.0047 - accuracy: 0.9986 - val_loss: 0.0481 - val_accuracy: 0.9880\n",
            "Epoch 20/30\n",
            "1875/1875 [==============================] - 7s 4ms/step - loss: 0.0040 - accuracy: 0.9987 - val_loss: 0.0411 - val_accuracy: 0.9900\n",
            "Epoch 21/30\n",
            "1875/1875 [==============================] - 7s 4ms/step - loss: 0.0034 - accuracy: 0.9991 - val_loss: 0.0470 - val_accuracy: 0.9895\n",
            "Epoch 22/30\n",
            "1875/1875 [==============================] - 7s 4ms/step - loss: 0.0027 - accuracy: 0.9992 - val_loss: 0.0464 - val_accuracy: 0.9904\n",
            "Epoch 23/30\n",
            "1875/1875 [==============================] - 7s 4ms/step - loss: 0.0022 - accuracy: 0.9996 - val_loss: 0.0594 - val_accuracy: 0.9874\n",
            "Epoch 24/30\n",
            "1875/1875 [==============================] - 7s 4ms/step - loss: 0.0017 - accuracy: 0.9997 - val_loss: 0.0470 - val_accuracy: 0.9909\n",
            "Epoch 25/30\n",
            "1875/1875 [==============================] - 7s 4ms/step - loss: 0.0014 - accuracy: 0.9997 - val_loss: 0.0475 - val_accuracy: 0.9907\n",
            "Epoch 26/30\n",
            "1875/1875 [==============================] - 7s 4ms/step - loss: 0.0012 - accuracy: 0.9997 - val_loss: 0.0514 - val_accuracy: 0.9901\n",
            "Epoch 27/30\n",
            "1875/1875 [==============================] - 7s 4ms/step - loss: 0.0012 - accuracy: 0.9997 - val_loss: 0.0509 - val_accuracy: 0.9898\n",
            "Epoch 28/30\n",
            "1875/1875 [==============================] - 7s 4ms/step - loss: 0.0014 - accuracy: 0.9996 - val_loss: 0.0491 - val_accuracy: 0.9906\n",
            "Epoch 29/30\n",
            "1875/1875 [==============================] - 7s 4ms/step - loss: 2.2804e-04 - accuracy: 1.0000 - val_loss: 0.0483 - val_accuracy: 0.9912\n",
            "Epoch 30/30\n",
            "1875/1875 [==============================] - 7s 4ms/step - loss: 1.4234e-04 - accuracy: 1.0000 - val_loss: 0.0501 - val_accuracy: 0.9909\n"
          ],
          "name": "stdout"
        }
      ]
    },
    {
      "cell_type": "code",
      "metadata": {
        "colab": {
          "base_uri": "https://localhost:8080/",
          "height": 279
        },
        "id": "vVpUAu-R3k-P",
        "outputId": "72dca6dc-921d-4b36-b268-bb364787a0e3"
      },
      "source": [
        "#학습과정 그래프로 그리기\n",
        "fig, loss_ax = plt.subplots()\n",
        "acc_ax = loss_ax.twinx()\n",
        "\n",
        "loss_ax.plot(hist.history['loss'], 'y', label='Train loss')\n",
        "loss_ax.plot(hist.history['val_loss'], 'r', label='Validation loss')\n",
        "\n",
        "acc_ax.plot(hist.history['accuracy'], 'b', label='Train accuracy')\n",
        "acc_ax.plot(hist.history['val_accuracy'], 'g', label='Validation accuracy')\n",
        "\n",
        "#그래프에 Label설정\n",
        "loss_ax.set_xlabel('Epoch')\n",
        "loss_ax.set_ylabel('Loss')\n",
        "acc_ax.set_ylabel('Accuracy')\n",
        "\n",
        "#Legend\n",
        "loss_ax.legend(loc='upper left')\n",
        "acc_ax.legend(loc='lower left')\n",
        "\n",
        "plt.show()"
      ],
      "execution_count": null,
      "outputs": [
        {
          "output_type": "display_data",
          "data": {
            "image/png": "[encoded data removed]",
            "text/plain": [
              "<Figure size 432x288 with 2 Axes>"
            ]
          },
          "metadata": {
            "tags": [],
            "needs_background": "light"
          }
        }
      ]
    },
    {
      "cell_type": "code",
      "metadata": {
        "id": "GucFom9g3li4",
        "colab": {
          "base_uri": "https://localhost:8080/"
        },
        "outputId": "d3be0578-1cb6-4c7a-bfe7-1fb5135312fd"
      },
      "source": [
        "yhat = model.predict(x_test)\n",
        "print(np.argmax(yhat[0]))\n",
        "print(np.argmax(y_test[0]))"
      ],
      "execution_count": 46,
      "outputs": [
        {
          "output_type": "stream",
          "text": [
            "7\n",
            "7\n"
          ],
          "name": "stdout"
        }
      ]
    },
    {
      "cell_type": "code",
      "metadata": {
        "id": "mX2u_rbl3lgP",
        "colab": {
          "base_uri": "https://localhost:8080/",
          "height": 699
        },
        "outputId": "2d1f1680-d3c7-4e34-c72c-80df059c0151"
      },
      "source": [
        "plt.rcParams['figure.figsize'] = (12,12)\n",
        "row = 5\n",
        "col = 5\n",
        "\n",
        "fig, axes = plt.subplots(row, col)\n",
        "cnt = 0\n",
        "i = 0\n",
        "while cnt < (row*col):\n",
        "  if np.argmax(yhat[i]) == np.argmax(y_test[i]):\n",
        "    i+=1\n",
        "    continue\n",
        "  sub_plot = axes[int(cnt/row), int(cnt%row)]\n",
        "  sub_plot.axis('off')\n",
        "\n",
        "  sub_plot.imshow(x_test[i].reshape(width, height))\n",
        "  title = 'C:' + str(np.argmax(y_test[i])) + ' P: ' + str(np.argmax(yhat[i]))\n",
        "  sub_plot.set_title(title)\n",
        "\n",
        "  i+=1\n",
        "  cnt+=1"
      ],
      "execution_count": 52,
      "outputs": [
        {
          "output_type": "display_data",
          "data": {
            "image/png": "[encoded data removed]",
            "text/plain": [
              "<Figure size 864x864 with 25 Axes>"
            ]
          },
          "metadata": {
            "tags": [],
            "needs_background": "light"
          }
        }
      ]
    },
    {
      "cell_type": "code",
      "metadata": {
        "id": "7bChJHQ63ldN"
      },
      "source": [
        ""
      ],
      "execution_count": null,
      "outputs": []
    },
    {
      "cell_type": "code",
      "metadata": {
        "id": "U-ReKueC3laM"
      },
      "source": [
        ""
      ],
      "execution_count": null,
      "outputs": []
    },
    {
      "cell_type": "code",
      "metadata": {
        "id": "F-iqANgu3lXR"
      },
      "source": [
        ""
      ],
      "execution_count": null,
      "outputs": []
    },
    {
      "cell_type": "code",
      "metadata": {
        "id": "doCWYZtw3lUc"
      },
      "source": [
        ""
      ],
      "execution_count": null,
      "outputs": []
    }
  ]
}