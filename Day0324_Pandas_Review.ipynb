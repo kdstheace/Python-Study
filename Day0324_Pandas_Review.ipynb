{
  "nbformat": 4,
  "nbformat_minor": 0,
  "metadata": {
    "colab": {
      "name": "Day0324_Pandas_Review.ipynb",
      "provenance": [],
      "collapsed_sections": [],
      "authorship_tag": "ABX9TyNyYKQ2lxqVHKKFedDu7v1H",
      "include_colab_link": true
    },
    "kernelspec": {
      "name": "python3",
      "display_name": "Python 3"
    },
    "language_info": {
      "name": "python"
    }
  },
  "cells": [
    {
      "cell_type": "markdown",
      "metadata": {
        "id": "view-in-github",
        "colab_type": "text"
      },
      "source": [
        "<a href=\"https://colab.research.google.com/github/kdstheace/Python-Study/blob/main/Day0324_Pandas_Review.ipynb\" target=\"_parent\"><img src=\"https://colab.research.google.com/assets/colab-badge.svg\" alt=\"Open In Colab\"/></a>"
      ]
    },
    {
      "cell_type": "code",
      "metadata": {
        "id": "TJShV1zdGfY5"
      },
      "source": [
        "from pandas import DataFrame, Series\n",
        "import pandas as pd\n",
        "import numpy as np"
      ],
      "execution_count": null,
      "outputs": []
    },
    {
      "cell_type": "code",
      "metadata": {
        "colab": {
          "base_uri": "https://localhost:8080/"
        },
        "id": "Tsxaa6A_G9Ph",
        "outputId": "5aa626d5-f84f-420b-dfd3-318171c34645"
      },
      "source": [
        "s = Series(list(range(10)), index=list('ABCDEFGHIJ'))\n",
        "s"
      ],
      "execution_count": null,
      "outputs": [
        {
          "output_type": "execute_result",
          "data": {
            "text/plain": [
              "A    0\n",
              "B    1\n",
              "C    2\n",
              "D    3\n",
              "E    4\n",
              "F    5\n",
              "G    6\n",
              "H    7\n",
              "I    8\n",
              "J    9\n",
              "dtype: int64"
            ]
          },
          "metadata": {
            "tags": []
          },
          "execution_count": 7
        }
      ]
    },
    {
      "cell_type": "code",
      "metadata": {
        "colab": {
          "base_uri": "https://localhost:8080/",
          "height": 348
        },
        "id": "jfEkr2wSG9M0",
        "outputId": "bb203139-d51c-4ad6-97df-d1ad40e08313"
      },
      "source": [
        "df = DataFrame(list(range(10)), index=list('ABCDEFGHIJ'), dtype=np.float32, columns = ['Score'])\n",
        "df"
      ],
      "execution_count": null,
      "outputs": [
        {
          "output_type": "execute_result",
          "data": {
            "text/html": [
              "<div>\n",
              "<style scoped>\n",
              "    .dataframe tbody tr th:only-of-type {\n",
              "        vertical-align: middle;\n",
              "    }\n",
              "\n",
              "    .dataframe tbody tr th {\n",
              "        vertical-align: top;\n",
              "    }\n",
              "\n",
              "    .dataframe thead th {\n",
              "        text-align: right;\n",
              "    }\n",
              "</style>\n",
              "<table border=\"1\" class=\"dataframe\">\n",
              "  <thead>\n",
              "    <tr style=\"text-align: right;\">\n",
              "      <th></th>\n",
              "      <th>Score</th>\n",
              "    </tr>\n",
              "  </thead>\n",
              "  <tbody>\n",
              "    <tr>\n",
              "      <th>A</th>\n",
              "      <td>0.0</td>\n",
              "    </tr>\n",
              "    <tr>\n",
              "      <th>B</th>\n",
              "      <td>1.0</td>\n",
              "    </tr>\n",
              "    <tr>\n",
              "      <th>C</th>\n",
              "      <td>2.0</td>\n",
              "    </tr>\n",
              "    <tr>\n",
              "      <th>D</th>\n",
              "      <td>3.0</td>\n",
              "    </tr>\n",
              "    <tr>\n",
              "      <th>E</th>\n",
              "      <td>4.0</td>\n",
              "    </tr>\n",
              "    <tr>\n",
              "      <th>F</th>\n",
              "      <td>5.0</td>\n",
              "    </tr>\n",
              "    <tr>\n",
              "      <th>G</th>\n",
              "      <td>6.0</td>\n",
              "    </tr>\n",
              "    <tr>\n",
              "      <th>H</th>\n",
              "      <td>7.0</td>\n",
              "    </tr>\n",
              "    <tr>\n",
              "      <th>I</th>\n",
              "      <td>8.0</td>\n",
              "    </tr>\n",
              "    <tr>\n",
              "      <th>J</th>\n",
              "      <td>9.0</td>\n",
              "    </tr>\n",
              "  </tbody>\n",
              "</table>\n",
              "</div>"
            ],
            "text/plain": [
              "   Score\n",
              "A    0.0\n",
              "B    1.0\n",
              "C    2.0\n",
              "D    3.0\n",
              "E    4.0\n",
              "F    5.0\n",
              "G    6.0\n",
              "H    7.0\n",
              "I    8.0\n",
              "J    9.0"
            ]
          },
          "metadata": {
            "tags": []
          },
          "execution_count": 12
        }
      ]
    },
    {
      "cell_type": "code",
      "metadata": {
        "colab": {
          "base_uri": "https://localhost:8080/",
          "height": 348
        },
        "id": "GpHckQ8ZG9KN",
        "outputId": "f9292b5c-3204-40d6-bc3a-2909c4b2bc94"
      },
      "source": [
        "dates = pd.date_range('20210301', periods = 10)\n",
        "df1 = DataFrame(np.random.randn(10, 5), index = dates, columns = list('ABCDE'))\n",
        "df1"
      ],
      "execution_count": null,
      "outputs": [
        {
          "output_type": "execute_result",
          "data": {
            "text/html": [
              "<div>\n",
              "<style scoped>\n",
              "    .dataframe tbody tr th:only-of-type {\n",
              "        vertical-align: middle;\n",
              "    }\n",
              "\n",
              "    .dataframe tbody tr th {\n",
              "        vertical-align: top;\n",
              "    }\n",
              "\n",
              "    .dataframe thead th {\n",
              "        text-align: right;\n",
              "    }\n",
              "</style>\n",
              "<table border=\"1\" class=\"dataframe\">\n",
              "  <thead>\n",
              "    <tr style=\"text-align: right;\">\n",
              "      <th></th>\n",
              "      <th>A</th>\n",
              "      <th>B</th>\n",
              "      <th>C</th>\n",
              "      <th>D</th>\n",
              "      <th>E</th>\n",
              "    </tr>\n",
              "  </thead>\n",
              "  <tbody>\n",
              "    <tr>\n",
              "      <th>2021-03-01</th>\n",
              "      <td>-0.424411</td>\n",
              "      <td>-0.740022</td>\n",
              "      <td>0.476000</td>\n",
              "      <td>-0.479969</td>\n",
              "      <td>0.764526</td>\n",
              "    </tr>\n",
              "    <tr>\n",
              "      <th>2021-03-02</th>\n",
              "      <td>-0.955026</td>\n",
              "      <td>1.590440</td>\n",
              "      <td>-0.231174</td>\n",
              "      <td>0.555422</td>\n",
              "      <td>0.566831</td>\n",
              "    </tr>\n",
              "    <tr>\n",
              "      <th>2021-03-03</th>\n",
              "      <td>-0.739055</td>\n",
              "      <td>1.246342</td>\n",
              "      <td>-0.650969</td>\n",
              "      <td>-1.204925</td>\n",
              "      <td>-1.240330</td>\n",
              "    </tr>\n",
              "    <tr>\n",
              "      <th>2021-03-04</th>\n",
              "      <td>-1.462869</td>\n",
              "      <td>0.991369</td>\n",
              "      <td>-0.146207</td>\n",
              "      <td>0.670939</td>\n",
              "      <td>1.510987</td>\n",
              "    </tr>\n",
              "    <tr>\n",
              "      <th>2021-03-05</th>\n",
              "      <td>1.233390</td>\n",
              "      <td>-0.202981</td>\n",
              "      <td>-2.428839</td>\n",
              "      <td>-0.690563</td>\n",
              "      <td>-0.015072</td>\n",
              "    </tr>\n",
              "    <tr>\n",
              "      <th>2021-03-06</th>\n",
              "      <td>-0.365844</td>\n",
              "      <td>0.838997</td>\n",
              "      <td>-0.428582</td>\n",
              "      <td>1.222150</td>\n",
              "      <td>-0.136723</td>\n",
              "    </tr>\n",
              "    <tr>\n",
              "      <th>2021-03-07</th>\n",
              "      <td>-1.692678</td>\n",
              "      <td>0.985792</td>\n",
              "      <td>-1.970798</td>\n",
              "      <td>0.243669</td>\n",
              "      <td>0.958160</td>\n",
              "    </tr>\n",
              "    <tr>\n",
              "      <th>2021-03-08</th>\n",
              "      <td>-0.378977</td>\n",
              "      <td>0.941028</td>\n",
              "      <td>0.642424</td>\n",
              "      <td>-0.105275</td>\n",
              "      <td>-0.556264</td>\n",
              "    </tr>\n",
              "    <tr>\n",
              "      <th>2021-03-09</th>\n",
              "      <td>0.032056</td>\n",
              "      <td>1.207903</td>\n",
              "      <td>0.768983</td>\n",
              "      <td>-0.908391</td>\n",
              "      <td>1.275736</td>\n",
              "    </tr>\n",
              "    <tr>\n",
              "      <th>2021-03-10</th>\n",
              "      <td>0.408816</td>\n",
              "      <td>-0.167868</td>\n",
              "      <td>1.108444</td>\n",
              "      <td>-1.446649</td>\n",
              "      <td>-0.299958</td>\n",
              "    </tr>\n",
              "  </tbody>\n",
              "</table>\n",
              "</div>"
            ],
            "text/plain": [
              "                   A         B         C         D         E\n",
              "2021-03-01 -0.424411 -0.740022  0.476000 -0.479969  0.764526\n",
              "2021-03-02 -0.955026  1.590440 -0.231174  0.555422  0.566831\n",
              "2021-03-03 -0.739055  1.246342 -0.650969 -1.204925 -1.240330\n",
              "2021-03-04 -1.462869  0.991369 -0.146207  0.670939  1.510987\n",
              "2021-03-05  1.233390 -0.202981 -2.428839 -0.690563 -0.015072\n",
              "2021-03-06 -0.365844  0.838997 -0.428582  1.222150 -0.136723\n",
              "2021-03-07 -1.692678  0.985792 -1.970798  0.243669  0.958160\n",
              "2021-03-08 -0.378977  0.941028  0.642424 -0.105275 -0.556264\n",
              "2021-03-09  0.032056  1.207903  0.768983 -0.908391  1.275736\n",
              "2021-03-10  0.408816 -0.167868  1.108444 -1.446649 -0.299958"
            ]
          },
          "metadata": {
            "tags": []
          },
          "execution_count": 16
        }
      ]
    },
    {
      "cell_type": "code",
      "metadata": {
        "colab": {
          "base_uri": "https://localhost:8080/"
        },
        "id": "e-ME_OguG9HT",
        "outputId": "10bd874c-6b1f-4c74-f991-1e32e357a3e5"
      },
      "source": [
        "# 속성들\n",
        "'''\n",
        "-dtypes: 데이터 타입 확인할 떄\n",
        "-.index\n",
        "-.values\n",
        "-.columns\n",
        "'''\n",
        "df1.dtypes\n",
        "df1.index\n",
        "df1.columns\n",
        "\n",
        "#중요함수\n",
        "'''\n",
        "- df1.describe()\n",
        "- df1.sort_values()\n",
        "'''\n",
        "print(df1.describe())\n",
        "print(df1.sort_values(axis=1, by = '2021-03-01', ascending=False))\n",
        "print(df1.sort_values(axis=0, by = 'A', ascending=True))"
      ],
      "execution_count": null,
      "outputs": [
        {
          "output_type": "stream",
          "text": [
            "               A          B          C          D          E\n",
            "count  10.000000  10.000000  10.000000  10.000000  10.000000\n",
            "mean   -0.434460   0.669100  -0.286072  -0.214359   0.282789\n",
            "std     0.864283   0.762016   1.159811   0.878150   0.875055\n",
            "min    -1.692678  -0.740022  -2.428839  -1.446649  -1.240330\n",
            "25%    -0.901033   0.083848  -0.595372  -0.853934  -0.259149\n",
            "50%    -0.401694   0.963410  -0.188691  -0.292622   0.275879\n",
            "75%    -0.067419   1.153769   0.600818   0.477484   0.909752\n",
            "max     1.233390   1.590440   1.108444   1.222150   1.510987\n",
            "                   E         C         A         D         B\n",
            "2021-03-01  0.764526  0.476000 -0.424411 -0.479969 -0.740022\n",
            "2021-03-02  0.566831 -0.231174 -0.955026  0.555422  1.590440\n",
            "2021-03-03 -1.240330 -0.650969 -0.739055 -1.204925  1.246342\n",
            "2021-03-04  1.510987 -0.146207 -1.462869  0.670939  0.991369\n",
            "2021-03-05 -0.015072 -2.428839  1.233390 -0.690563 -0.202981\n",
            "2021-03-06 -0.136723 -0.428582 -0.365844  1.222150  0.838997\n",
            "2021-03-07  0.958160 -1.970798 -1.692678  0.243669  0.985792\n",
            "2021-03-08 -0.556264  0.642424 -0.378977 -0.105275  0.941028\n",
            "2021-03-09  1.275736  0.768983  0.032056 -0.908391  1.207903\n",
            "2021-03-10 -0.299958  1.108444  0.408816 -1.446649 -0.167868\n",
            "                   A         B         C         D         E\n",
            "2021-03-07 -1.692678  0.985792 -1.970798  0.243669  0.958160\n",
            "2021-03-04 -1.462869  0.991369 -0.146207  0.670939  1.510987\n",
            "2021-03-02 -0.955026  1.590440 -0.231174  0.555422  0.566831\n",
            "2021-03-03 -0.739055  1.246342 -0.650969 -1.204925 -1.240330\n",
            "2021-03-01 -0.424411 -0.740022  0.476000 -0.479969  0.764526\n",
            "2021-03-08 -0.378977  0.941028  0.642424 -0.105275 -0.556264\n",
            "2021-03-06 -0.365844  0.838997 -0.428582  1.222150 -0.136723\n",
            "2021-03-09  0.032056  1.207903  0.768983 -0.908391  1.275736\n",
            "2021-03-10  0.408816 -0.167868  1.108444 -1.446649 -0.299958\n",
            "2021-03-05  1.233390 -0.202981 -2.428839 -0.690563 -0.015072\n"
          ],
          "name": "stdout"
        }
      ]
    },
    {
      "cell_type": "code",
      "metadata": {
        "colab": {
          "base_uri": "https://localhost:8080/"
        },
        "id": "IqqG_3L3G9Ep",
        "outputId": "1e2edf3b-ff5a-4f36-9dd2-ad78a5917885"
      },
      "source": [
        "#데이터 추출\n",
        "print(df1)\n",
        "print(df1.iloc[:2])\n",
        "print(df1.iloc[[1, 2, 5],[0, 2]])"
      ],
      "execution_count": null,
      "outputs": [
        {
          "output_type": "stream",
          "text": [
            "                   A         B         C         D         E\n",
            "2021-03-01 -0.424411 -0.740022  0.476000 -0.479969  0.764526\n",
            "2021-03-02 -0.955026  1.590440 -0.231174  0.555422  0.566831\n",
            "2021-03-03 -0.739055  1.246342 -0.650969 -1.204925 -1.240330\n",
            "2021-03-04 -1.462869  0.991369 -0.146207  0.670939  1.510987\n",
            "2021-03-05  1.233390 -0.202981 -2.428839 -0.690563 -0.015072\n",
            "2021-03-06 -0.365844  0.838997 -0.428582  1.222150 -0.136723\n",
            "2021-03-07 -1.692678  0.985792 -1.970798  0.243669  0.958160\n",
            "2021-03-08 -0.378977  0.941028  0.642424 -0.105275 -0.556264\n",
            "2021-03-09  0.032056  1.207903  0.768983 -0.908391  1.275736\n",
            "2021-03-10  0.408816 -0.167868  1.108444 -1.446649 -0.299958\n",
            "                   A         B         C         D         E\n",
            "2021-03-01 -0.424411 -0.740022  0.476000 -0.479969  0.764526\n",
            "2021-03-02 -0.955026  1.590440 -0.231174  0.555422  0.566831\n",
            "                   A         C\n",
            "2021-03-02 -0.955026 -0.231174\n",
            "2021-03-03 -0.739055 -0.650969\n",
            "2021-03-06 -0.365844 -0.428582\n"
          ],
          "name": "stdout"
        }
      ]
    },
    {
      "cell_type": "code",
      "metadata": {
        "colab": {
          "base_uri": "https://localhost:8080/"
        },
        "id": "VUyxuohTG9B3",
        "outputId": "72b85010-8f29-4e98-8f44-66f9c6408e89"
      },
      "source": [
        "print(df1.loc['2021-03-02' : '2021-03-06', 'B':'D'])"
      ],
      "execution_count": null,
      "outputs": [
        {
          "output_type": "stream",
          "text": [
            "                   B         C         D\n",
            "2021-03-02  1.590440 -0.231174  0.555422\n",
            "2021-03-03  1.246342 -0.650969 -1.204925\n",
            "2021-03-04  0.991369 -0.146207  0.670939\n",
            "2021-03-05 -0.202981 -2.428839 -0.690563\n",
            "2021-03-06  0.838997 -0.428582  1.222150\n"
          ],
          "name": "stdout"
        }
      ]
    },
    {
      "cell_type": "code",
      "metadata": {
        "id": "nt7xlHQ1G8_O"
      },
      "source": [
        "dates = pd.date_range('20210301', periods = 10)\n",
        "df1 = DataFrame(np.random.randn(10, 5), index = dates, columns = list('ABCDE'))\n",
        "print(df1)\n",
        "#문제 1행1열의 값을 3으로 바꿔라1\n",
        "\n",
        "df2 = df1[df1['C'] > 0]\n",
        "print(df2)\n",
        "df2.iloc[0]['A'] = 3\n",
        "print(df2)\n",
        "print(df1)\n"
      ],
      "execution_count": null,
      "outputs": []
    },
    {
      "cell_type": "code",
      "metadata": {
        "colab": {
          "base_uri": "https://localhost:8080/",
          "height": 548
        },
        "id": "2DQeqdopG88n",
        "outputId": "b72fe808-5499-4ea8-8b59-04bb29525df3"
      },
      "source": [
        "dates = pd.date_range('20210301', periods = 10)\n",
        "df1 = DataFrame(np.random.randn(10, 5), index = dates, columns = list('ABCDE'))\n",
        "\n",
        "df1['f'] = [1, 2, 3, 4, 5, 6, 7, 8, 9, 10]\n",
        "print(df1)\n",
        "df1['g'] = Series(data = [5, 6], index=['2021-03-04', '2021-03-02'], dtype=np.float64)\n",
        "df1['h'] = Series(data = [1, 2, 3, 4, 5, 6, 7, 8, 9, 10])\n",
        "df1"
      ],
      "execution_count": null,
      "outputs": [
        {
          "output_type": "stream",
          "text": [
            "                   A         B         C         D         E   f\n",
            "2021-03-01 -1.288775  0.885678  0.855227 -0.080537  0.182316   1\n",
            "2021-03-02  1.346331 -0.015959  0.532529 -0.435446 -0.325326   2\n",
            "2021-03-03  0.281912  0.982854 -0.621060  0.311870 -0.782122   3\n",
            "2021-03-04  0.824383 -0.140887 -1.705712  0.349163 -0.214134   4\n",
            "2021-03-05 -0.214277  1.391592 -0.252763  0.773764 -1.680973   5\n",
            "2021-03-06  0.711237 -0.060407 -0.327481  1.137253 -0.149205   6\n",
            "2021-03-07 -0.272798 -0.146381 -0.433016  1.167930  0.103508   7\n",
            "2021-03-08 -0.383980 -1.394521  1.149982 -1.461715  0.714513   8\n",
            "2021-03-09 -0.028438  0.647000 -0.543442  0.458534  1.464494   9\n",
            "2021-03-10 -0.647730 -0.378466 -0.608315  1.228104  0.357550  10\n"
          ],
          "name": "stdout"
        },
        {
          "output_type": "execute_result",
          "data": {
            "text/html": [
              "<div>\n",
              "<style scoped>\n",
              "    .dataframe tbody tr th:only-of-type {\n",
              "        vertical-align: middle;\n",
              "    }\n",
              "\n",
              "    .dataframe tbody tr th {\n",
              "        vertical-align: top;\n",
              "    }\n",
              "\n",
              "    .dataframe thead th {\n",
              "        text-align: right;\n",
              "    }\n",
              "</style>\n",
              "<table border=\"1\" class=\"dataframe\">\n",
              "  <thead>\n",
              "    <tr style=\"text-align: right;\">\n",
              "      <th></th>\n",
              "      <th>A</th>\n",
              "      <th>B</th>\n",
              "      <th>C</th>\n",
              "      <th>D</th>\n",
              "      <th>E</th>\n",
              "      <th>f</th>\n",
              "      <th>g</th>\n",
              "      <th>h</th>\n",
              "    </tr>\n",
              "  </thead>\n",
              "  <tbody>\n",
              "    <tr>\n",
              "      <th>2021-03-01</th>\n",
              "      <td>-1.288775</td>\n",
              "      <td>0.885678</td>\n",
              "      <td>0.855227</td>\n",
              "      <td>-0.080537</td>\n",
              "      <td>0.182316</td>\n",
              "      <td>1</td>\n",
              "      <td>NaN</td>\n",
              "      <td>NaN</td>\n",
              "    </tr>\n",
              "    <tr>\n",
              "      <th>2021-03-02</th>\n",
              "      <td>1.346331</td>\n",
              "      <td>-0.015959</td>\n",
              "      <td>0.532529</td>\n",
              "      <td>-0.435446</td>\n",
              "      <td>-0.325326</td>\n",
              "      <td>2</td>\n",
              "      <td>NaN</td>\n",
              "      <td>NaN</td>\n",
              "    </tr>\n",
              "    <tr>\n",
              "      <th>2021-03-03</th>\n",
              "      <td>0.281912</td>\n",
              "      <td>0.982854</td>\n",
              "      <td>-0.621060</td>\n",
              "      <td>0.311870</td>\n",
              "      <td>-0.782122</td>\n",
              "      <td>3</td>\n",
              "      <td>NaN</td>\n",
              "      <td>NaN</td>\n",
              "    </tr>\n",
              "    <tr>\n",
              "      <th>2021-03-04</th>\n",
              "      <td>0.824383</td>\n",
              "      <td>-0.140887</td>\n",
              "      <td>-1.705712</td>\n",
              "      <td>0.349163</td>\n",
              "      <td>-0.214134</td>\n",
              "      <td>4</td>\n",
              "      <td>NaN</td>\n",
              "      <td>NaN</td>\n",
              "    </tr>\n",
              "    <tr>\n",
              "      <th>2021-03-05</th>\n",
              "      <td>-0.214277</td>\n",
              "      <td>1.391592</td>\n",
              "      <td>-0.252763</td>\n",
              "      <td>0.773764</td>\n",
              "      <td>-1.680973</td>\n",
              "      <td>5</td>\n",
              "      <td>NaN</td>\n",
              "      <td>NaN</td>\n",
              "    </tr>\n",
              "    <tr>\n",
              "      <th>2021-03-06</th>\n",
              "      <td>0.711237</td>\n",
              "      <td>-0.060407</td>\n",
              "      <td>-0.327481</td>\n",
              "      <td>1.137253</td>\n",
              "      <td>-0.149205</td>\n",
              "      <td>6</td>\n",
              "      <td>NaN</td>\n",
              "      <td>NaN</td>\n",
              "    </tr>\n",
              "    <tr>\n",
              "      <th>2021-03-07</th>\n",
              "      <td>-0.272798</td>\n",
              "      <td>-0.146381</td>\n",
              "      <td>-0.433016</td>\n",
              "      <td>1.167930</td>\n",
              "      <td>0.103508</td>\n",
              "      <td>7</td>\n",
              "      <td>NaN</td>\n",
              "      <td>NaN</td>\n",
              "    </tr>\n",
              "    <tr>\n",
              "      <th>2021-03-08</th>\n",
              "      <td>-0.383980</td>\n",
              "      <td>-1.394521</td>\n",
              "      <td>1.149982</td>\n",
              "      <td>-1.461715</td>\n",
              "      <td>0.714513</td>\n",
              "      <td>8</td>\n",
              "      <td>NaN</td>\n",
              "      <td>NaN</td>\n",
              "    </tr>\n",
              "    <tr>\n",
              "      <th>2021-03-09</th>\n",
              "      <td>-0.028438</td>\n",
              "      <td>0.647000</td>\n",
              "      <td>-0.543442</td>\n",
              "      <td>0.458534</td>\n",
              "      <td>1.464494</td>\n",
              "      <td>9</td>\n",
              "      <td>NaN</td>\n",
              "      <td>NaN</td>\n",
              "    </tr>\n",
              "    <tr>\n",
              "      <th>2021-03-10</th>\n",
              "      <td>-0.647730</td>\n",
              "      <td>-0.378466</td>\n",
              "      <td>-0.608315</td>\n",
              "      <td>1.228104</td>\n",
              "      <td>0.357550</td>\n",
              "      <td>10</td>\n",
              "      <td>NaN</td>\n",
              "      <td>NaN</td>\n",
              "    </tr>\n",
              "  </tbody>\n",
              "</table>\n",
              "</div>"
            ],
            "text/plain": [
              "                   A         B         C         D         E   f   g   h\n",
              "2021-03-01 -1.288775  0.885678  0.855227 -0.080537  0.182316   1 NaN NaN\n",
              "2021-03-02  1.346331 -0.015959  0.532529 -0.435446 -0.325326   2 NaN NaN\n",
              "2021-03-03  0.281912  0.982854 -0.621060  0.311870 -0.782122   3 NaN NaN\n",
              "2021-03-04  0.824383 -0.140887 -1.705712  0.349163 -0.214134   4 NaN NaN\n",
              "2021-03-05 -0.214277  1.391592 -0.252763  0.773764 -1.680973   5 NaN NaN\n",
              "2021-03-06  0.711237 -0.060407 -0.327481  1.137253 -0.149205   6 NaN NaN\n",
              "2021-03-07 -0.272798 -0.146381 -0.433016  1.167930  0.103508   7 NaN NaN\n",
              "2021-03-08 -0.383980 -1.394521  1.149982 -1.461715  0.714513   8 NaN NaN\n",
              "2021-03-09 -0.028438  0.647000 -0.543442  0.458534  1.464494   9 NaN NaN\n",
              "2021-03-10 -0.647730 -0.378466 -0.608315  1.228104  0.357550  10 NaN NaN"
            ]
          },
          "metadata": {
            "tags": []
          },
          "execution_count": 86
        }
      ]
    },
    {
      "cell_type": "code",
      "metadata": {
        "colab": {
          "base_uri": "https://localhost:8080/",
          "height": 198
        },
        "id": "1UKdcbCIG853",
        "outputId": "d629ab51-3e30-4d76-b8dd-1c63e5452856"
      },
      "source": [
        "raw_data = {\n",
        "    '이름' : ['홍길동', '전우치', '손오공', '사오정', '저팔계'],\n",
        "    '나이' : [32, 37, 30, 31, 33],\n",
        "    '전화번호' : ['010-1111-2222', '010-231-2222','010-8111-2522','010-1471-2222', '010-3456-3785'],\n",
        "    '지역' : ['서울','대구','용인','제주','속초']\n",
        "}\n",
        "df = DataFrame(raw_data, columns=['이름','나이','전화번호','지역'])\n",
        "df1 = DataFrame(raw_data, columns=['이름','나이','전화번호','성별'], index=['A','B','C','D','E'])\n",
        "df1\n",
        "\n",
        "s = Series(data=['남','여','남'], index = ['A', 'B', 'E'])\n",
        "df1['성별'] = s\n",
        "df1"
      ],
      "execution_count": null,
      "outputs": [
        {
          "output_type": "execute_result",
          "data": {
            "text/html": [
              "<div>\n",
              "<style scoped>\n",
              "    .dataframe tbody tr th:only-of-type {\n",
              "        vertical-align: middle;\n",
              "    }\n",
              "\n",
              "    .dataframe tbody tr th {\n",
              "        vertical-align: top;\n",
              "    }\n",
              "\n",
              "    .dataframe thead th {\n",
              "        text-align: right;\n",
              "    }\n",
              "</style>\n",
              "<table border=\"1\" class=\"dataframe\">\n",
              "  <thead>\n",
              "    <tr style=\"text-align: right;\">\n",
              "      <th></th>\n",
              "      <th>이름</th>\n",
              "      <th>나이</th>\n",
              "      <th>전화번호</th>\n",
              "      <th>성별</th>\n",
              "    </tr>\n",
              "  </thead>\n",
              "  <tbody>\n",
              "    <tr>\n",
              "      <th>A</th>\n",
              "      <td>홍길동</td>\n",
              "      <td>32</td>\n",
              "      <td>010-1111-2222</td>\n",
              "      <td>남</td>\n",
              "    </tr>\n",
              "    <tr>\n",
              "      <th>B</th>\n",
              "      <td>전우치</td>\n",
              "      <td>37</td>\n",
              "      <td>010-231-2222</td>\n",
              "      <td>여</td>\n",
              "    </tr>\n",
              "    <tr>\n",
              "      <th>C</th>\n",
              "      <td>손오공</td>\n",
              "      <td>30</td>\n",
              "      <td>010-8111-2522</td>\n",
              "      <td>NaN</td>\n",
              "    </tr>\n",
              "    <tr>\n",
              "      <th>D</th>\n",
              "      <td>사오정</td>\n",
              "      <td>31</td>\n",
              "      <td>010-1471-2222</td>\n",
              "      <td>NaN</td>\n",
              "    </tr>\n",
              "    <tr>\n",
              "      <th>E</th>\n",
              "      <td>저팔계</td>\n",
              "      <td>33</td>\n",
              "      <td>010-3456-3785</td>\n",
              "      <td>남</td>\n",
              "    </tr>\n",
              "  </tbody>\n",
              "</table>\n",
              "</div>"
            ],
            "text/plain": [
              "    이름  나이           전화번호   성별\n",
              "A  홍길동  32  010-1111-2222    남\n",
              "B  전우치  37   010-231-2222    여\n",
              "C  손오공  30  010-8111-2522  NaN\n",
              "D  사오정  31  010-1471-2222  NaN\n",
              "E  저팔계  33  010-3456-3785    남"
            ]
          },
          "metadata": {
            "tags": []
          },
          "execution_count": 80
        }
      ]
    },
    {
      "cell_type": "code",
      "metadata": {
        "colab": {
          "base_uri": "https://localhost:8080/",
          "height": 548
        },
        "id": "_a-F_VCsG824",
        "outputId": "b8cb60d4-65f9-41a6-e705-30b2b2794b64"
      },
      "source": [
        "dates = pd.date_range('20210301', periods = 10)\n",
        "df1 = DataFrame(np.random.randn(10, 5), index = dates, columns = list('ABCDE'))\n",
        "print(df1)\n",
        "\n",
        "df3 = df1[df1 > 0]\n",
        "df3"
      ],
      "execution_count": null,
      "outputs": [
        {
          "output_type": "stream",
          "text": [
            "                   A         B         C         D         E\n",
            "2021-03-01 -0.506575  0.945690  1.653507  0.351404 -1.536649\n",
            "2021-03-02  0.072682  0.088100 -0.858378 -0.317449  0.451941\n",
            "2021-03-03  3.248688  0.688432  0.193446 -1.104890  0.603543\n",
            "2021-03-04  0.981054 -2.148292  1.336635  0.321642 -1.492164\n",
            "2021-03-05 -0.133456  0.365704  0.887587  0.742341  1.459648\n",
            "2021-03-06  0.865636 -1.263894 -1.739807  1.537826 -1.738594\n",
            "2021-03-07  2.027140 -1.299502 -0.168946  0.063549  2.257059\n",
            "2021-03-08  0.483094 -0.048542 -1.310138 -0.382485 -1.291104\n",
            "2021-03-09 -1.103541 -0.430115 -0.216868 -0.596702 -0.277432\n",
            "2021-03-10  0.323561 -0.682633 -1.006520  0.468237 -0.308503\n"
          ],
          "name": "stdout"
        },
        {
          "output_type": "execute_result",
          "data": {
            "text/html": [
              "<div>\n",
              "<style scoped>\n",
              "    .dataframe tbody tr th:only-of-type {\n",
              "        vertical-align: middle;\n",
              "    }\n",
              "\n",
              "    .dataframe tbody tr th {\n",
              "        vertical-align: top;\n",
              "    }\n",
              "\n",
              "    .dataframe thead th {\n",
              "        text-align: right;\n",
              "    }\n",
              "</style>\n",
              "<table border=\"1\" class=\"dataframe\">\n",
              "  <thead>\n",
              "    <tr style=\"text-align: right;\">\n",
              "      <th></th>\n",
              "      <th>A</th>\n",
              "      <th>B</th>\n",
              "      <th>C</th>\n",
              "      <th>D</th>\n",
              "      <th>E</th>\n",
              "    </tr>\n",
              "  </thead>\n",
              "  <tbody>\n",
              "    <tr>\n",
              "      <th>2021-03-01</th>\n",
              "      <td>NaN</td>\n",
              "      <td>0.945690</td>\n",
              "      <td>1.653507</td>\n",
              "      <td>0.351404</td>\n",
              "      <td>NaN</td>\n",
              "    </tr>\n",
              "    <tr>\n",
              "      <th>2021-03-02</th>\n",
              "      <td>0.072682</td>\n",
              "      <td>0.088100</td>\n",
              "      <td>NaN</td>\n",
              "      <td>NaN</td>\n",
              "      <td>0.451941</td>\n",
              "    </tr>\n",
              "    <tr>\n",
              "      <th>2021-03-03</th>\n",
              "      <td>3.248688</td>\n",
              "      <td>0.688432</td>\n",
              "      <td>0.193446</td>\n",
              "      <td>NaN</td>\n",
              "      <td>0.603543</td>\n",
              "    </tr>\n",
              "    <tr>\n",
              "      <th>2021-03-04</th>\n",
              "      <td>0.981054</td>\n",
              "      <td>NaN</td>\n",
              "      <td>1.336635</td>\n",
              "      <td>0.321642</td>\n",
              "      <td>NaN</td>\n",
              "    </tr>\n",
              "    <tr>\n",
              "      <th>2021-03-05</th>\n",
              "      <td>NaN</td>\n",
              "      <td>0.365704</td>\n",
              "      <td>0.887587</td>\n",
              "      <td>0.742341</td>\n",
              "      <td>1.459648</td>\n",
              "    </tr>\n",
              "    <tr>\n",
              "      <th>2021-03-06</th>\n",
              "      <td>0.865636</td>\n",
              "      <td>NaN</td>\n",
              "      <td>NaN</td>\n",
              "      <td>1.537826</td>\n",
              "      <td>NaN</td>\n",
              "    </tr>\n",
              "    <tr>\n",
              "      <th>2021-03-07</th>\n",
              "      <td>2.027140</td>\n",
              "      <td>NaN</td>\n",
              "      <td>NaN</td>\n",
              "      <td>0.063549</td>\n",
              "      <td>2.257059</td>\n",
              "    </tr>\n",
              "    <tr>\n",
              "      <th>2021-03-08</th>\n",
              "      <td>0.483094</td>\n",
              "      <td>NaN</td>\n",
              "      <td>NaN</td>\n",
              "      <td>NaN</td>\n",
              "      <td>NaN</td>\n",
              "    </tr>\n",
              "    <tr>\n",
              "      <th>2021-03-09</th>\n",
              "      <td>NaN</td>\n",
              "      <td>NaN</td>\n",
              "      <td>NaN</td>\n",
              "      <td>NaN</td>\n",
              "      <td>NaN</td>\n",
              "    </tr>\n",
              "    <tr>\n",
              "      <th>2021-03-10</th>\n",
              "      <td>0.323561</td>\n",
              "      <td>NaN</td>\n",
              "      <td>NaN</td>\n",
              "      <td>0.468237</td>\n",
              "      <td>NaN</td>\n",
              "    </tr>\n",
              "  </tbody>\n",
              "</table>\n",
              "</div>"
            ],
            "text/plain": [
              "                   A         B         C         D         E\n",
              "2021-03-01       NaN  0.945690  1.653507  0.351404       NaN\n",
              "2021-03-02  0.072682  0.088100       NaN       NaN  0.451941\n",
              "2021-03-03  3.248688  0.688432  0.193446       NaN  0.603543\n",
              "2021-03-04  0.981054       NaN  1.336635  0.321642       NaN\n",
              "2021-03-05       NaN  0.365704  0.887587  0.742341  1.459648\n",
              "2021-03-06  0.865636       NaN       NaN  1.537826       NaN\n",
              "2021-03-07  2.027140       NaN       NaN  0.063549  2.257059\n",
              "2021-03-08  0.483094       NaN       NaN       NaN       NaN\n",
              "2021-03-09       NaN       NaN       NaN       NaN       NaN\n",
              "2021-03-10  0.323561       NaN       NaN  0.468237       NaN"
            ]
          },
          "metadata": {
            "tags": []
          },
          "execution_count": 100
        }
      ]
    },
    {
      "cell_type": "code",
      "metadata": {
        "id": "n5Wcwb4ZG80L"
      },
      "source": [
        "dates = pd.date_range('20210301', periods = 10)\n",
        "df1 = DataFrame(np.random.randn(10, 5), index = dates, columns = list('ABCDE'))\n",
        "print(df1)\n",
        "\n",
        "df3 = df1[df1 > 0] #dropna\n",
        "df4 = df1[df1 > 0] #fillna\n",
        "\n",
        "print(df3.dropna(axis=0, how='any'))\n",
        "print(df4.fillna(0))"
      ],
      "execution_count": null,
      "outputs": []
    },
    {
      "cell_type": "code",
      "metadata": {
        "id": "ucnCzdClJFxF"
      },
      "source": [
        "import numpy as np\n",
        "import pandas as pd\n",
        "from pandas import DataFrame, Series"
      ],
      "execution_count": 1,
      "outputs": []
    },
    {
      "cell_type": "code",
      "metadata": {
        "colab": {
          "base_uri": "https://localhost:8080/"
        },
        "id": "QGs-_mYuJGwH",
        "outputId": "e9e305e7-af55-441e-b901-078b12ed566f"
      },
      "source": [
        "a = Series(range(1, 6), index = list('ABCDE'))\n",
        "a"
      ],
      "execution_count": 24,
      "outputs": [
        {
          "output_type": "execute_result",
          "data": {
            "text/plain": [
              "A    1\n",
              "B    2\n",
              "C    3\n",
              "D    4\n",
              "E    5\n",
              "dtype: int64"
            ]
          },
          "metadata": {
            "tags": []
          },
          "execution_count": 24
        }
      ]
    },
    {
      "cell_type": "code",
      "metadata": {
        "colab": {
          "base_uri": "https://localhost:8080/"
        },
        "id": "R4_A8DfcJGtg",
        "outputId": "fcea94e3-ba4c-4e20-d4c1-36a979363567"
      },
      "source": [
        "b = Series(range(4, 10), index = list('BCDEFG'))\n",
        "b"
      ],
      "execution_count": 25,
      "outputs": [
        {
          "output_type": "execute_result",
          "data": {
            "text/plain": [
              "B    4\n",
              "C    5\n",
              "D    6\n",
              "E    7\n",
              "F    8\n",
              "G    9\n",
              "dtype: int64"
            ]
          },
          "metadata": {
            "tags": []
          },
          "execution_count": 25
        }
      ]
    },
    {
      "cell_type": "code",
      "metadata": {
        "colab": {
          "base_uri": "https://localhost:8080/"
        },
        "id": "9SXNFrV1JGrX",
        "outputId": "1d6c6b19-0777-4ed1-843f-643976622eeb"
      },
      "source": [
        "print(a+b)\n",
        "print(a.add(b))\n",
        "\n"
      ],
      "execution_count": 28,
      "outputs": [
        {
          "output_type": "stream",
          "text": [
            "A     NaN\n",
            "B     6.0\n",
            "C     8.0\n",
            "D    10.0\n",
            "E    12.0\n",
            "F     NaN\n",
            "G     NaN\n",
            "dtype: float64\n"
          ],
          "name": "stdout"
        },
        {
          "output_type": "execute_result",
          "data": {
            "text/plain": [
              "A     NaN\n",
              "B     6.0\n",
              "C     8.0\n",
              "D    10.0\n",
              "E    12.0\n",
              "F     NaN\n",
              "G     NaN\n",
              "dtype: float64"
            ]
          },
          "metadata": {
            "tags": []
          },
          "execution_count": 28
        }
      ]
    },
    {
      "cell_type": "code",
      "metadata": {
        "colab": {
          "base_uri": "https://localhost:8080/",
          "height": 138
        },
        "id": "I4Jt4k7OJGon",
        "outputId": "93b06b1c-90bb-45a7-e754-5589bf3846b1"
      },
      "source": [
        "df1 = DataFrame(np.arange(9).reshape(3,3), columns=list('ABC'))\n",
        "df1"
      ],
      "execution_count": 30,
      "outputs": [
        {
          "output_type": "execute_result",
          "data": {
            "text/html": [
              "<div>\n",
              "<style scoped>\n",
              "    .dataframe tbody tr th:only-of-type {\n",
              "        vertical-align: middle;\n",
              "    }\n",
              "\n",
              "    .dataframe tbody tr th {\n",
              "        vertical-align: top;\n",
              "    }\n",
              "\n",
              "    .dataframe thead th {\n",
              "        text-align: right;\n",
              "    }\n",
              "</style>\n",
              "<table border=\"1\" class=\"dataframe\">\n",
              "  <thead>\n",
              "    <tr style=\"text-align: right;\">\n",
              "      <th></th>\n",
              "      <th>A</th>\n",
              "      <th>B</th>\n",
              "      <th>C</th>\n",
              "    </tr>\n",
              "  </thead>\n",
              "  <tbody>\n",
              "    <tr>\n",
              "      <th>0</th>\n",
              "      <td>0</td>\n",
              "      <td>1</td>\n",
              "      <td>2</td>\n",
              "    </tr>\n",
              "    <tr>\n",
              "      <th>1</th>\n",
              "      <td>3</td>\n",
              "      <td>4</td>\n",
              "      <td>5</td>\n",
              "    </tr>\n",
              "    <tr>\n",
              "      <th>2</th>\n",
              "      <td>6</td>\n",
              "      <td>7</td>\n",
              "      <td>8</td>\n",
              "    </tr>\n",
              "  </tbody>\n",
              "</table>\n",
              "</div>"
            ],
            "text/plain": [
              "   A  B  C\n",
              "0  0  1  2\n",
              "1  3  4  5\n",
              "2  6  7  8"
            ]
          },
          "metadata": {
            "tags": []
          },
          "execution_count": 30
        }
      ]
    },
    {
      "cell_type": "code",
      "metadata": {
        "colab": {
          "base_uri": "https://localhost:8080/",
          "height": 168
        },
        "id": "LTm42weWJGmF",
        "outputId": "c7d52596-0e70-4b7f-8a81-3fdc3b3ca4eb"
      },
      "source": [
        "df2 = DataFrame(np.arange(16).reshape(4, 4), columns= list('ABCD'))\n",
        "df2"
      ],
      "execution_count": 31,
      "outputs": [
        {
          "output_type": "execute_result",
          "data": {
            "text/html": [
              "<div>\n",
              "<style scoped>\n",
              "    .dataframe tbody tr th:only-of-type {\n",
              "        vertical-align: middle;\n",
              "    }\n",
              "\n",
              "    .dataframe tbody tr th {\n",
              "        vertical-align: top;\n",
              "    }\n",
              "\n",
              "    .dataframe thead th {\n",
              "        text-align: right;\n",
              "    }\n",
              "</style>\n",
              "<table border=\"1\" class=\"dataframe\">\n",
              "  <thead>\n",
              "    <tr style=\"text-align: right;\">\n",
              "      <th></th>\n",
              "      <th>A</th>\n",
              "      <th>B</th>\n",
              "      <th>C</th>\n",
              "      <th>D</th>\n",
              "    </tr>\n",
              "  </thead>\n",
              "  <tbody>\n",
              "    <tr>\n",
              "      <th>0</th>\n",
              "      <td>0</td>\n",
              "      <td>1</td>\n",
              "      <td>2</td>\n",
              "      <td>3</td>\n",
              "    </tr>\n",
              "    <tr>\n",
              "      <th>1</th>\n",
              "      <td>4</td>\n",
              "      <td>5</td>\n",
              "      <td>6</td>\n",
              "      <td>7</td>\n",
              "    </tr>\n",
              "    <tr>\n",
              "      <th>2</th>\n",
              "      <td>8</td>\n",
              "      <td>9</td>\n",
              "      <td>10</td>\n",
              "      <td>11</td>\n",
              "    </tr>\n",
              "    <tr>\n",
              "      <th>3</th>\n",
              "      <td>12</td>\n",
              "      <td>13</td>\n",
              "      <td>14</td>\n",
              "      <td>15</td>\n",
              "    </tr>\n",
              "  </tbody>\n",
              "</table>\n",
              "</div>"
            ],
            "text/plain": [
              "    A   B   C   D\n",
              "0   0   1   2   3\n",
              "1   4   5   6   7\n",
              "2   8   9  10  11\n",
              "3  12  13  14  15"
            ]
          },
          "metadata": {
            "tags": []
          },
          "execution_count": 31
        }
      ]
    },
    {
      "cell_type": "code",
      "metadata": {
        "colab": {
          "base_uri": "https://localhost:8080/",
          "height": 168
        },
        "id": "2zQ3mfIvJGj4",
        "outputId": "2d6706f1-ad8c-4227-d5e0-d0bc7ba25298"
      },
      "source": [
        "df1 + df2\n",
        "df1.add(df2)\n"
      ],
      "execution_count": 33,
      "outputs": [
        {
          "output_type": "execute_result",
          "data": {
            "text/html": [
              "<div>\n",
              "<style scoped>\n",
              "    .dataframe tbody tr th:only-of-type {\n",
              "        vertical-align: middle;\n",
              "    }\n",
              "\n",
              "    .dataframe tbody tr th {\n",
              "        vertical-align: top;\n",
              "    }\n",
              "\n",
              "    .dataframe thead th {\n",
              "        text-align: right;\n",
              "    }\n",
              "</style>\n",
              "<table border=\"1\" class=\"dataframe\">\n",
              "  <thead>\n",
              "    <tr style=\"text-align: right;\">\n",
              "      <th></th>\n",
              "      <th>A</th>\n",
              "      <th>B</th>\n",
              "      <th>C</th>\n",
              "      <th>D</th>\n",
              "    </tr>\n",
              "  </thead>\n",
              "  <tbody>\n",
              "    <tr>\n",
              "      <th>0</th>\n",
              "      <td>0.0</td>\n",
              "      <td>2.0</td>\n",
              "      <td>4.0</td>\n",
              "      <td>NaN</td>\n",
              "    </tr>\n",
              "    <tr>\n",
              "      <th>1</th>\n",
              "      <td>7.0</td>\n",
              "      <td>9.0</td>\n",
              "      <td>11.0</td>\n",
              "      <td>NaN</td>\n",
              "    </tr>\n",
              "    <tr>\n",
              "      <th>2</th>\n",
              "      <td>14.0</td>\n",
              "      <td>16.0</td>\n",
              "      <td>18.0</td>\n",
              "      <td>NaN</td>\n",
              "    </tr>\n",
              "    <tr>\n",
              "      <th>3</th>\n",
              "      <td>NaN</td>\n",
              "      <td>NaN</td>\n",
              "      <td>NaN</td>\n",
              "      <td>NaN</td>\n",
              "    </tr>\n",
              "  </tbody>\n",
              "</table>\n",
              "</div>"
            ],
            "text/plain": [
              "      A     B     C   D\n",
              "0   0.0   2.0   4.0 NaN\n",
              "1   7.0   9.0  11.0 NaN\n",
              "2  14.0  16.0  18.0 NaN\n",
              "3   NaN   NaN   NaN NaN"
            ]
          },
          "metadata": {
            "tags": []
          },
          "execution_count": 33
        }
      ]
    },
    {
      "cell_type": "code",
      "metadata": {
        "colab": {
          "base_uri": "https://localhost:8080/"
        },
        "id": "_DL4Vw2WJGhl",
        "outputId": "3d68991d-8f37-451e-e51f-fe84afe3b382"
      },
      "source": [
        "c = Series(np.arange(10, 14), index=list('ABCD'))\n",
        "c"
      ],
      "execution_count": 47,
      "outputs": [
        {
          "output_type": "execute_result",
          "data": {
            "text/plain": [
              "A    10\n",
              "B    11\n",
              "C    12\n",
              "D    13\n",
              "dtype: int64"
            ]
          },
          "metadata": {
            "tags": []
          },
          "execution_count": 47
        }
      ]
    },
    {
      "cell_type": "code",
      "metadata": {
        "colab": {
          "base_uri": "https://localhost:8080/",
          "height": 259
        },
        "id": "_4cMaIpdJGfP",
        "outputId": "630a13b0-0541-4cd4-9b3c-2430194c7f0e"
      },
      "source": [
        "print(df2)\n",
        "df2.add(c)"
      ],
      "execution_count": 48,
      "outputs": [
        {
          "output_type": "stream",
          "text": [
            "    A   B   C   D\n",
            "0   0   1   2   3\n",
            "1   4   5   6   7\n",
            "2   8   9  10  11\n",
            "3  12  13  14  15\n"
          ],
          "name": "stdout"
        },
        {
          "output_type": "execute_result",
          "data": {
            "text/html": [
              "<div>\n",
              "<style scoped>\n",
              "    .dataframe tbody tr th:only-of-type {\n",
              "        vertical-align: middle;\n",
              "    }\n",
              "\n",
              "    .dataframe tbody tr th {\n",
              "        vertical-align: top;\n",
              "    }\n",
              "\n",
              "    .dataframe thead th {\n",
              "        text-align: right;\n",
              "    }\n",
              "</style>\n",
              "<table border=\"1\" class=\"dataframe\">\n",
              "  <thead>\n",
              "    <tr style=\"text-align: right;\">\n",
              "      <th></th>\n",
              "      <th>A</th>\n",
              "      <th>B</th>\n",
              "      <th>C</th>\n",
              "      <th>D</th>\n",
              "    </tr>\n",
              "  </thead>\n",
              "  <tbody>\n",
              "    <tr>\n",
              "      <th>0</th>\n",
              "      <td>10</td>\n",
              "      <td>12</td>\n",
              "      <td>14</td>\n",
              "      <td>16</td>\n",
              "    </tr>\n",
              "    <tr>\n",
              "      <th>1</th>\n",
              "      <td>14</td>\n",
              "      <td>16</td>\n",
              "      <td>18</td>\n",
              "      <td>20</td>\n",
              "    </tr>\n",
              "    <tr>\n",
              "      <th>2</th>\n",
              "      <td>18</td>\n",
              "      <td>20</td>\n",
              "      <td>22</td>\n",
              "      <td>24</td>\n",
              "    </tr>\n",
              "    <tr>\n",
              "      <th>3</th>\n",
              "      <td>22</td>\n",
              "      <td>24</td>\n",
              "      <td>26</td>\n",
              "      <td>28</td>\n",
              "    </tr>\n",
              "  </tbody>\n",
              "</table>\n",
              "</div>"
            ],
            "text/plain": [
              "    A   B   C   D\n",
              "0  10  12  14  16\n",
              "1  14  16  18  20\n",
              "2  18  20  22  24\n",
              "3  22  24  26  28"
            ]
          },
          "metadata": {
            "tags": []
          },
          "execution_count": 48
        }
      ]
    },
    {
      "cell_type": "code",
      "metadata": {
        "colab": {
          "base_uri": "https://localhost:8080/",
          "height": 168
        },
        "id": "UZz632AuJGc1",
        "outputId": "c0b6b598-ce73-411e-a347-1b8151b7d58d"
      },
      "source": [
        "d = Series(np.arange(10, 14))\n",
        "d\n",
        "df2.add(d)"
      ],
      "execution_count": 41,
      "outputs": [
        {
          "output_type": "execute_result",
          "data": {
            "text/html": [
              "<div>\n",
              "<style scoped>\n",
              "    .dataframe tbody tr th:only-of-type {\n",
              "        vertical-align: middle;\n",
              "    }\n",
              "\n",
              "    .dataframe tbody tr th {\n",
              "        vertical-align: top;\n",
              "    }\n",
              "\n",
              "    .dataframe thead th {\n",
              "        text-align: right;\n",
              "    }\n",
              "</style>\n",
              "<table border=\"1\" class=\"dataframe\">\n",
              "  <thead>\n",
              "    <tr style=\"text-align: right;\">\n",
              "      <th></th>\n",
              "      <th>A</th>\n",
              "      <th>B</th>\n",
              "      <th>C</th>\n",
              "      <th>D</th>\n",
              "      <th>0</th>\n",
              "      <th>1</th>\n",
              "      <th>2</th>\n",
              "      <th>3</th>\n",
              "    </tr>\n",
              "  </thead>\n",
              "  <tbody>\n",
              "    <tr>\n",
              "      <th>0</th>\n",
              "      <td>NaN</td>\n",
              "      <td>NaN</td>\n",
              "      <td>NaN</td>\n",
              "      <td>NaN</td>\n",
              "      <td>NaN</td>\n",
              "      <td>NaN</td>\n",
              "      <td>NaN</td>\n",
              "      <td>NaN</td>\n",
              "    </tr>\n",
              "    <tr>\n",
              "      <th>1</th>\n",
              "      <td>NaN</td>\n",
              "      <td>NaN</td>\n",
              "      <td>NaN</td>\n",
              "      <td>NaN</td>\n",
              "      <td>NaN</td>\n",
              "      <td>NaN</td>\n",
              "      <td>NaN</td>\n",
              "      <td>NaN</td>\n",
              "    </tr>\n",
              "    <tr>\n",
              "      <th>2</th>\n",
              "      <td>NaN</td>\n",
              "      <td>NaN</td>\n",
              "      <td>NaN</td>\n",
              "      <td>NaN</td>\n",
              "      <td>NaN</td>\n",
              "      <td>NaN</td>\n",
              "      <td>NaN</td>\n",
              "      <td>NaN</td>\n",
              "    </tr>\n",
              "    <tr>\n",
              "      <th>3</th>\n",
              "      <td>NaN</td>\n",
              "      <td>NaN</td>\n",
              "      <td>NaN</td>\n",
              "      <td>NaN</td>\n",
              "      <td>NaN</td>\n",
              "      <td>NaN</td>\n",
              "      <td>NaN</td>\n",
              "      <td>NaN</td>\n",
              "    </tr>\n",
              "  </tbody>\n",
              "</table>\n",
              "</div>"
            ],
            "text/plain": [
              "    A   B   C   D   0   1   2   3\n",
              "0 NaN NaN NaN NaN NaN NaN NaN NaN\n",
              "1 NaN NaN NaN NaN NaN NaN NaN NaN\n",
              "2 NaN NaN NaN NaN NaN NaN NaN NaN\n",
              "3 NaN NaN NaN NaN NaN NaN NaN NaN"
            ]
          },
          "metadata": {
            "tags": []
          },
          "execution_count": 41
        }
      ]
    },
    {
      "cell_type": "code",
      "metadata": {
        "colab": {
          "base_uri": "https://localhost:8080/",
          "height": 168
        },
        "id": "6qDJKeTnJGaQ",
        "outputId": "d44cd94e-cb61-4440-cce9-de438dd89037"
      },
      "source": [
        "c.add(df2)"
      ],
      "execution_count": 49,
      "outputs": [
        {
          "output_type": "execute_result",
          "data": {
            "text/html": [
              "<div>\n",
              "<style scoped>\n",
              "    .dataframe tbody tr th:only-of-type {\n",
              "        vertical-align: middle;\n",
              "    }\n",
              "\n",
              "    .dataframe tbody tr th {\n",
              "        vertical-align: top;\n",
              "    }\n",
              "\n",
              "    .dataframe thead th {\n",
              "        text-align: right;\n",
              "    }\n",
              "</style>\n",
              "<table border=\"1\" class=\"dataframe\">\n",
              "  <thead>\n",
              "    <tr style=\"text-align: right;\">\n",
              "      <th></th>\n",
              "      <th>A</th>\n",
              "      <th>B</th>\n",
              "      <th>C</th>\n",
              "      <th>D</th>\n",
              "    </tr>\n",
              "  </thead>\n",
              "  <tbody>\n",
              "    <tr>\n",
              "      <th>0</th>\n",
              "      <td>10</td>\n",
              "      <td>12</td>\n",
              "      <td>14</td>\n",
              "      <td>16</td>\n",
              "    </tr>\n",
              "    <tr>\n",
              "      <th>1</th>\n",
              "      <td>14</td>\n",
              "      <td>16</td>\n",
              "      <td>18</td>\n",
              "      <td>20</td>\n",
              "    </tr>\n",
              "    <tr>\n",
              "      <th>2</th>\n",
              "      <td>18</td>\n",
              "      <td>20</td>\n",
              "      <td>22</td>\n",
              "      <td>24</td>\n",
              "    </tr>\n",
              "    <tr>\n",
              "      <th>3</th>\n",
              "      <td>22</td>\n",
              "      <td>24</td>\n",
              "      <td>26</td>\n",
              "      <td>28</td>\n",
              "    </tr>\n",
              "  </tbody>\n",
              "</table>\n",
              "</div>"
            ],
            "text/plain": [
              "    A   B   C   D\n",
              "0  10  12  14  16\n",
              "1  14  16  18  20\n",
              "2  18  20  22  24\n",
              "3  22  24  26  28"
            ]
          },
          "metadata": {
            "tags": []
          },
          "execution_count": 49
        }
      ]
    },
    {
      "cell_type": "code",
      "metadata": {
        "colab": {
          "base_uri": "https://localhost:8080/",
          "height": 168
        },
        "id": "WKWSg_jrJGKo",
        "outputId": "2a4adb1f-cbe5-421c-bcee-a5a4edf9d1fb"
      },
      "source": [
        "df2 + c"
      ],
      "execution_count": 50,
      "outputs": [
        {
          "output_type": "execute_result",
          "data": {
            "text/html": [
              "<div>\n",
              "<style scoped>\n",
              "    .dataframe tbody tr th:only-of-type {\n",
              "        vertical-align: middle;\n",
              "    }\n",
              "\n",
              "    .dataframe tbody tr th {\n",
              "        vertical-align: top;\n",
              "    }\n",
              "\n",
              "    .dataframe thead th {\n",
              "        text-align: right;\n",
              "    }\n",
              "</style>\n",
              "<table border=\"1\" class=\"dataframe\">\n",
              "  <thead>\n",
              "    <tr style=\"text-align: right;\">\n",
              "      <th></th>\n",
              "      <th>A</th>\n",
              "      <th>B</th>\n",
              "      <th>C</th>\n",
              "      <th>D</th>\n",
              "    </tr>\n",
              "  </thead>\n",
              "  <tbody>\n",
              "    <tr>\n",
              "      <th>0</th>\n",
              "      <td>10</td>\n",
              "      <td>12</td>\n",
              "      <td>14</td>\n",
              "      <td>16</td>\n",
              "    </tr>\n",
              "    <tr>\n",
              "      <th>1</th>\n",
              "      <td>14</td>\n",
              "      <td>16</td>\n",
              "      <td>18</td>\n",
              "      <td>20</td>\n",
              "    </tr>\n",
              "    <tr>\n",
              "      <th>2</th>\n",
              "      <td>18</td>\n",
              "      <td>20</td>\n",
              "      <td>22</td>\n",
              "      <td>24</td>\n",
              "    </tr>\n",
              "    <tr>\n",
              "      <th>3</th>\n",
              "      <td>22</td>\n",
              "      <td>24</td>\n",
              "      <td>26</td>\n",
              "      <td>28</td>\n",
              "    </tr>\n",
              "  </tbody>\n",
              "</table>\n",
              "</div>"
            ],
            "text/plain": [
              "    A   B   C   D\n",
              "0  10  12  14  16\n",
              "1  14  16  18  20\n",
              "2  18  20  22  24\n",
              "3  22  24  26  28"
            ]
          },
          "metadata": {
            "tags": []
          },
          "execution_count": 50
        }
      ]
    },
    {
      "cell_type": "code",
      "metadata": {
        "colab": {
          "base_uri": "https://localhost:8080/",
          "height": 288
        },
        "id": "FRCXb34SJF_w",
        "outputId": "7a84427d-6fec-4746-ed1d-ee6687cd0c44"
      },
      "source": [
        "df2.add(c, axis = 0)"
      ],
      "execution_count": 52,
      "outputs": [
        {
          "output_type": "execute_result",
          "data": {
            "text/html": [
              "<div>\n",
              "<style scoped>\n",
              "    .dataframe tbody tr th:only-of-type {\n",
              "        vertical-align: middle;\n",
              "    }\n",
              "\n",
              "    .dataframe tbody tr th {\n",
              "        vertical-align: top;\n",
              "    }\n",
              "\n",
              "    .dataframe thead th {\n",
              "        text-align: right;\n",
              "    }\n",
              "</style>\n",
              "<table border=\"1\" class=\"dataframe\">\n",
              "  <thead>\n",
              "    <tr style=\"text-align: right;\">\n",
              "      <th></th>\n",
              "      <th>A</th>\n",
              "      <th>B</th>\n",
              "      <th>C</th>\n",
              "      <th>D</th>\n",
              "    </tr>\n",
              "  </thead>\n",
              "  <tbody>\n",
              "    <tr>\n",
              "      <th>0</th>\n",
              "      <td>NaN</td>\n",
              "      <td>NaN</td>\n",
              "      <td>NaN</td>\n",
              "      <td>NaN</td>\n",
              "    </tr>\n",
              "    <tr>\n",
              "      <th>1</th>\n",
              "      <td>NaN</td>\n",
              "      <td>NaN</td>\n",
              "      <td>NaN</td>\n",
              "      <td>NaN</td>\n",
              "    </tr>\n",
              "    <tr>\n",
              "      <th>2</th>\n",
              "      <td>NaN</td>\n",
              "      <td>NaN</td>\n",
              "      <td>NaN</td>\n",
              "      <td>NaN</td>\n",
              "    </tr>\n",
              "    <tr>\n",
              "      <th>3</th>\n",
              "      <td>NaN</td>\n",
              "      <td>NaN</td>\n",
              "      <td>NaN</td>\n",
              "      <td>NaN</td>\n",
              "    </tr>\n",
              "    <tr>\n",
              "      <th>A</th>\n",
              "      <td>NaN</td>\n",
              "      <td>NaN</td>\n",
              "      <td>NaN</td>\n",
              "      <td>NaN</td>\n",
              "    </tr>\n",
              "    <tr>\n",
              "      <th>B</th>\n",
              "      <td>NaN</td>\n",
              "      <td>NaN</td>\n",
              "      <td>NaN</td>\n",
              "      <td>NaN</td>\n",
              "    </tr>\n",
              "    <tr>\n",
              "      <th>C</th>\n",
              "      <td>NaN</td>\n",
              "      <td>NaN</td>\n",
              "      <td>NaN</td>\n",
              "      <td>NaN</td>\n",
              "    </tr>\n",
              "    <tr>\n",
              "      <th>D</th>\n",
              "      <td>NaN</td>\n",
              "      <td>NaN</td>\n",
              "      <td>NaN</td>\n",
              "      <td>NaN</td>\n",
              "    </tr>\n",
              "  </tbody>\n",
              "</table>\n",
              "</div>"
            ],
            "text/plain": [
              "    A   B   C   D\n",
              "0 NaN NaN NaN NaN\n",
              "1 NaN NaN NaN NaN\n",
              "2 NaN NaN NaN NaN\n",
              "3 NaN NaN NaN NaN\n",
              "A NaN NaN NaN NaN\n",
              "B NaN NaN NaN NaN\n",
              "C NaN NaN NaN NaN\n",
              "D NaN NaN NaN NaN"
            ]
          },
          "metadata": {
            "tags": []
          },
          "execution_count": 52
        }
      ]
    },
    {
      "cell_type": "code",
      "metadata": {
        "colab": {
          "base_uri": "https://localhost:8080/",
          "height": 288
        },
        "id": "9DlzKUcj8tZk",
        "outputId": "a9fe754e-88cf-4b08-bb71-104657c08b41"
      },
      "source": [
        "df2.sub(c, axis = 0)"
      ],
      "execution_count": 54,
      "outputs": [
        {
          "output_type": "execute_result",
          "data": {
            "text/html": [
              "<div>\n",
              "<style scoped>\n",
              "    .dataframe tbody tr th:only-of-type {\n",
              "        vertical-align: middle;\n",
              "    }\n",
              "\n",
              "    .dataframe tbody tr th {\n",
              "        vertical-align: top;\n",
              "    }\n",
              "\n",
              "    .dataframe thead th {\n",
              "        text-align: right;\n",
              "    }\n",
              "</style>\n",
              "<table border=\"1\" class=\"dataframe\">\n",
              "  <thead>\n",
              "    <tr style=\"text-align: right;\">\n",
              "      <th></th>\n",
              "      <th>A</th>\n",
              "      <th>B</th>\n",
              "      <th>C</th>\n",
              "      <th>D</th>\n",
              "    </tr>\n",
              "  </thead>\n",
              "  <tbody>\n",
              "    <tr>\n",
              "      <th>0</th>\n",
              "      <td>NaN</td>\n",
              "      <td>NaN</td>\n",
              "      <td>NaN</td>\n",
              "      <td>NaN</td>\n",
              "    </tr>\n",
              "    <tr>\n",
              "      <th>1</th>\n",
              "      <td>NaN</td>\n",
              "      <td>NaN</td>\n",
              "      <td>NaN</td>\n",
              "      <td>NaN</td>\n",
              "    </tr>\n",
              "    <tr>\n",
              "      <th>2</th>\n",
              "      <td>NaN</td>\n",
              "      <td>NaN</td>\n",
              "      <td>NaN</td>\n",
              "      <td>NaN</td>\n",
              "    </tr>\n",
              "    <tr>\n",
              "      <th>3</th>\n",
              "      <td>NaN</td>\n",
              "      <td>NaN</td>\n",
              "      <td>NaN</td>\n",
              "      <td>NaN</td>\n",
              "    </tr>\n",
              "    <tr>\n",
              "      <th>A</th>\n",
              "      <td>NaN</td>\n",
              "      <td>NaN</td>\n",
              "      <td>NaN</td>\n",
              "      <td>NaN</td>\n",
              "    </tr>\n",
              "    <tr>\n",
              "      <th>B</th>\n",
              "      <td>NaN</td>\n",
              "      <td>NaN</td>\n",
              "      <td>NaN</td>\n",
              "      <td>NaN</td>\n",
              "    </tr>\n",
              "    <tr>\n",
              "      <th>C</th>\n",
              "      <td>NaN</td>\n",
              "      <td>NaN</td>\n",
              "      <td>NaN</td>\n",
              "      <td>NaN</td>\n",
              "    </tr>\n",
              "    <tr>\n",
              "      <th>D</th>\n",
              "      <td>NaN</td>\n",
              "      <td>NaN</td>\n",
              "      <td>NaN</td>\n",
              "      <td>NaN</td>\n",
              "    </tr>\n",
              "  </tbody>\n",
              "</table>\n",
              "</div>"
            ],
            "text/plain": [
              "    A   B   C   D\n",
              "0 NaN NaN NaN NaN\n",
              "1 NaN NaN NaN NaN\n",
              "2 NaN NaN NaN NaN\n",
              "3 NaN NaN NaN NaN\n",
              "A NaN NaN NaN NaN\n",
              "B NaN NaN NaN NaN\n",
              "C NaN NaN NaN NaN\n",
              "D NaN NaN NaN NaN"
            ]
          },
          "metadata": {
            "tags": []
          },
          "execution_count": 54
        }
      ]
    },
    {
      "cell_type": "code",
      "metadata": {
        "colab": {
          "base_uri": "https://localhost:8080/",
          "height": 168
        },
        "id": "NZztgyhM8tWU",
        "outputId": "40d47252-0b81-4a27-ea9a-e816e8ae690b"
      },
      "source": [
        "df2.mul(c)"
      ],
      "execution_count": 55,
      "outputs": [
        {
          "output_type": "execute_result",
          "data": {
            "text/html": [
              "<div>\n",
              "<style scoped>\n",
              "    .dataframe tbody tr th:only-of-type {\n",
              "        vertical-align: middle;\n",
              "    }\n",
              "\n",
              "    .dataframe tbody tr th {\n",
              "        vertical-align: top;\n",
              "    }\n",
              "\n",
              "    .dataframe thead th {\n",
              "        text-align: right;\n",
              "    }\n",
              "</style>\n",
              "<table border=\"1\" class=\"dataframe\">\n",
              "  <thead>\n",
              "    <tr style=\"text-align: right;\">\n",
              "      <th></th>\n",
              "      <th>A</th>\n",
              "      <th>B</th>\n",
              "      <th>C</th>\n",
              "      <th>D</th>\n",
              "    </tr>\n",
              "  </thead>\n",
              "  <tbody>\n",
              "    <tr>\n",
              "      <th>0</th>\n",
              "      <td>0</td>\n",
              "      <td>11</td>\n",
              "      <td>24</td>\n",
              "      <td>39</td>\n",
              "    </tr>\n",
              "    <tr>\n",
              "      <th>1</th>\n",
              "      <td>40</td>\n",
              "      <td>55</td>\n",
              "      <td>72</td>\n",
              "      <td>91</td>\n",
              "    </tr>\n",
              "    <tr>\n",
              "      <th>2</th>\n",
              "      <td>80</td>\n",
              "      <td>99</td>\n",
              "      <td>120</td>\n",
              "      <td>143</td>\n",
              "    </tr>\n",
              "    <tr>\n",
              "      <th>3</th>\n",
              "      <td>120</td>\n",
              "      <td>143</td>\n",
              "      <td>168</td>\n",
              "      <td>195</td>\n",
              "    </tr>\n",
              "  </tbody>\n",
              "</table>\n",
              "</div>"
            ],
            "text/plain": [
              "     A    B    C    D\n",
              "0    0   11   24   39\n",
              "1   40   55   72   91\n",
              "2   80   99  120  143\n",
              "3  120  143  168  195"
            ]
          },
          "metadata": {
            "tags": []
          },
          "execution_count": 55
        }
      ]
    },
    {
      "cell_type": "code",
      "metadata": {
        "colab": {
          "base_uri": "https://localhost:8080/",
          "height": 168
        },
        "id": "VJkMIQkw8tTG",
        "outputId": "bc17da03-2205-433c-f3c4-4ca790e0ab14"
      },
      "source": [
        "df2.div(c)"
      ],
      "execution_count": 57,
      "outputs": [
        {
          "output_type": "execute_result",
          "data": {
            "text/html": [
              "<div>\n",
              "<style scoped>\n",
              "    .dataframe tbody tr th:only-of-type {\n",
              "        vertical-align: middle;\n",
              "    }\n",
              "\n",
              "    .dataframe tbody tr th {\n",
              "        vertical-align: top;\n",
              "    }\n",
              "\n",
              "    .dataframe thead th {\n",
              "        text-align: right;\n",
              "    }\n",
              "</style>\n",
              "<table border=\"1\" class=\"dataframe\">\n",
              "  <thead>\n",
              "    <tr style=\"text-align: right;\">\n",
              "      <th></th>\n",
              "      <th>A</th>\n",
              "      <th>B</th>\n",
              "      <th>C</th>\n",
              "      <th>D</th>\n",
              "    </tr>\n",
              "  </thead>\n",
              "  <tbody>\n",
              "    <tr>\n",
              "      <th>0</th>\n",
              "      <td>0.0</td>\n",
              "      <td>0.090909</td>\n",
              "      <td>0.166667</td>\n",
              "      <td>0.230769</td>\n",
              "    </tr>\n",
              "    <tr>\n",
              "      <th>1</th>\n",
              "      <td>0.4</td>\n",
              "      <td>0.454545</td>\n",
              "      <td>0.500000</td>\n",
              "      <td>0.538462</td>\n",
              "    </tr>\n",
              "    <tr>\n",
              "      <th>2</th>\n",
              "      <td>0.8</td>\n",
              "      <td>0.818182</td>\n",
              "      <td>0.833333</td>\n",
              "      <td>0.846154</td>\n",
              "    </tr>\n",
              "    <tr>\n",
              "      <th>3</th>\n",
              "      <td>1.2</td>\n",
              "      <td>1.181818</td>\n",
              "      <td>1.166667</td>\n",
              "      <td>1.153846</td>\n",
              "    </tr>\n",
              "  </tbody>\n",
              "</table>\n",
              "</div>"
            ],
            "text/plain": [
              "     A         B         C         D\n",
              "0  0.0  0.090909  0.166667  0.230769\n",
              "1  0.4  0.454545  0.500000  0.538462\n",
              "2  0.8  0.818182  0.833333  0.846154\n",
              "3  1.2  1.181818  1.166667  1.153846"
            ]
          },
          "metadata": {
            "tags": []
          },
          "execution_count": 57
        }
      ]
    },
    {
      "cell_type": "code",
      "metadata": {
        "colab": {
          "base_uri": "https://localhost:8080/",
          "height": 258
        },
        "id": "F0NeyO2k8tQM",
        "outputId": "17f7ecd4-b13f-4d24-b2a9-46959515033b"
      },
      "source": [
        "df1 = DataFrame({\n",
        "     '번호' : [10, 20, 30, 40, 50, 60, 70],\n",
        "     '이름' : ['홍길동','임꺽정','손오공','사오정','저팔계','전우치','삼장법사']\n",
        "    })\n",
        "df1"
      ],
      "execution_count": 60,
      "outputs": [
        {
          "output_type": "execute_result",
          "data": {
            "text/html": [
              "<div>\n",
              "<style scoped>\n",
              "    .dataframe tbody tr th:only-of-type {\n",
              "        vertical-align: middle;\n",
              "    }\n",
              "\n",
              "    .dataframe tbody tr th {\n",
              "        vertical-align: top;\n",
              "    }\n",
              "\n",
              "    .dataframe thead th {\n",
              "        text-align: right;\n",
              "    }\n",
              "</style>\n",
              "<table border=\"1\" class=\"dataframe\">\n",
              "  <thead>\n",
              "    <tr style=\"text-align: right;\">\n",
              "      <th></th>\n",
              "      <th>번호</th>\n",
              "      <th>이름</th>\n",
              "    </tr>\n",
              "  </thead>\n",
              "  <tbody>\n",
              "    <tr>\n",
              "      <th>0</th>\n",
              "      <td>10</td>\n",
              "      <td>홍길동</td>\n",
              "    </tr>\n",
              "    <tr>\n",
              "      <th>1</th>\n",
              "      <td>20</td>\n",
              "      <td>임꺽정</td>\n",
              "    </tr>\n",
              "    <tr>\n",
              "      <th>2</th>\n",
              "      <td>30</td>\n",
              "      <td>손오공</td>\n",
              "    </tr>\n",
              "    <tr>\n",
              "      <th>3</th>\n",
              "      <td>40</td>\n",
              "      <td>사오정</td>\n",
              "    </tr>\n",
              "    <tr>\n",
              "      <th>4</th>\n",
              "      <td>50</td>\n",
              "      <td>저팔계</td>\n",
              "    </tr>\n",
              "    <tr>\n",
              "      <th>5</th>\n",
              "      <td>60</td>\n",
              "      <td>전우치</td>\n",
              "    </tr>\n",
              "    <tr>\n",
              "      <th>6</th>\n",
              "      <td>70</td>\n",
              "      <td>삼장법사</td>\n",
              "    </tr>\n",
              "  </tbody>\n",
              "</table>\n",
              "</div>"
            ],
            "text/plain": [
              "   번호    이름\n",
              "0  10   홍길동\n",
              "1  20   임꺽정\n",
              "2  30   손오공\n",
              "3  40   사오정\n",
              "4  50   저팔계\n",
              "5  60   전우치\n",
              "6  70  삼장법사"
            ]
          },
          "metadata": {
            "tags": []
          },
          "execution_count": 60
        }
      ]
    },
    {
      "cell_type": "code",
      "metadata": {
        "colab": {
          "base_uri": "https://localhost:8080/",
          "height": 318
        },
        "id": "QOLgZ91N8tNY",
        "outputId": "bddd939e-221e-4c5a-8c36-6799a47c0cf1"
      },
      "source": [
        "df2 = DataFrame({\n",
        "    '번호' : [10, 10, 20, 40, 50, 40, 40, 70 , 80],\n",
        "    '금액' : [1000, 2500, 4500, 3000, 1100, 3200, 3550, 3510, 100]\n",
        "})\n",
        "df2"
      ],
      "execution_count": 62,
      "outputs": [
        {
          "output_type": "execute_result",
          "data": {
            "text/html": [
              "<div>\n",
              "<style scoped>\n",
              "    .dataframe tbody tr th:only-of-type {\n",
              "        vertical-align: middle;\n",
              "    }\n",
              "\n",
              "    .dataframe tbody tr th {\n",
              "        vertical-align: top;\n",
              "    }\n",
              "\n",
              "    .dataframe thead th {\n",
              "        text-align: right;\n",
              "    }\n",
              "</style>\n",
              "<table border=\"1\" class=\"dataframe\">\n",
              "  <thead>\n",
              "    <tr style=\"text-align: right;\">\n",
              "      <th></th>\n",
              "      <th>번호</th>\n",
              "      <th>금액</th>\n",
              "    </tr>\n",
              "  </thead>\n",
              "  <tbody>\n",
              "    <tr>\n",
              "      <th>0</th>\n",
              "      <td>10</td>\n",
              "      <td>1000</td>\n",
              "    </tr>\n",
              "    <tr>\n",
              "      <th>1</th>\n",
              "      <td>10</td>\n",
              "      <td>2500</td>\n",
              "    </tr>\n",
              "    <tr>\n",
              "      <th>2</th>\n",
              "      <td>20</td>\n",
              "      <td>4500</td>\n",
              "    </tr>\n",
              "    <tr>\n",
              "      <th>3</th>\n",
              "      <td>40</td>\n",
              "      <td>3000</td>\n",
              "    </tr>\n",
              "    <tr>\n",
              "      <th>4</th>\n",
              "      <td>50</td>\n",
              "      <td>1100</td>\n",
              "    </tr>\n",
              "    <tr>\n",
              "      <th>5</th>\n",
              "      <td>40</td>\n",
              "      <td>3200</td>\n",
              "    </tr>\n",
              "    <tr>\n",
              "      <th>6</th>\n",
              "      <td>40</td>\n",
              "      <td>3550</td>\n",
              "    </tr>\n",
              "    <tr>\n",
              "      <th>7</th>\n",
              "      <td>70</td>\n",
              "      <td>3510</td>\n",
              "    </tr>\n",
              "    <tr>\n",
              "      <th>8</th>\n",
              "      <td>80</td>\n",
              "      <td>100</td>\n",
              "    </tr>\n",
              "  </tbody>\n",
              "</table>\n",
              "</div>"
            ],
            "text/plain": [
              "   번호    금액\n",
              "0  10  1000\n",
              "1  10  2500\n",
              "2  20  4500\n",
              "3  40  3000\n",
              "4  50  1100\n",
              "5  40  3200\n",
              "6  40  3550\n",
              "7  70  3510\n",
              "8  80   100"
            ]
          },
          "metadata": {
            "tags": []
          },
          "execution_count": 62
        }
      ]
    },
    {
      "cell_type": "code",
      "metadata": {
        "colab": {
          "base_uri": "https://localhost:8080/",
          "height": 288
        },
        "id": "QrsXYSqx8tKU",
        "outputId": "692154fb-1018-42fb-fa38-67d75483e41d"
      },
      "source": [
        "df1.merge(df2) #inner join\n"
      ],
      "execution_count": 65,
      "outputs": [
        {
          "output_type": "execute_result",
          "data": {
            "text/html": [
              "<div>\n",
              "<style scoped>\n",
              "    .dataframe tbody tr th:only-of-type {\n",
              "        vertical-align: middle;\n",
              "    }\n",
              "\n",
              "    .dataframe tbody tr th {\n",
              "        vertical-align: top;\n",
              "    }\n",
              "\n",
              "    .dataframe thead th {\n",
              "        text-align: right;\n",
              "    }\n",
              "</style>\n",
              "<table border=\"1\" class=\"dataframe\">\n",
              "  <thead>\n",
              "    <tr style=\"text-align: right;\">\n",
              "      <th></th>\n",
              "      <th>번호</th>\n",
              "      <th>이름</th>\n",
              "      <th>금액</th>\n",
              "    </tr>\n",
              "  </thead>\n",
              "  <tbody>\n",
              "    <tr>\n",
              "      <th>0</th>\n",
              "      <td>10</td>\n",
              "      <td>홍길동</td>\n",
              "      <td>1000</td>\n",
              "    </tr>\n",
              "    <tr>\n",
              "      <th>1</th>\n",
              "      <td>10</td>\n",
              "      <td>홍길동</td>\n",
              "      <td>2500</td>\n",
              "    </tr>\n",
              "    <tr>\n",
              "      <th>2</th>\n",
              "      <td>20</td>\n",
              "      <td>임꺽정</td>\n",
              "      <td>4500</td>\n",
              "    </tr>\n",
              "    <tr>\n",
              "      <th>3</th>\n",
              "      <td>40</td>\n",
              "      <td>사오정</td>\n",
              "      <td>3000</td>\n",
              "    </tr>\n",
              "    <tr>\n",
              "      <th>4</th>\n",
              "      <td>40</td>\n",
              "      <td>사오정</td>\n",
              "      <td>3200</td>\n",
              "    </tr>\n",
              "    <tr>\n",
              "      <th>5</th>\n",
              "      <td>40</td>\n",
              "      <td>사오정</td>\n",
              "      <td>3550</td>\n",
              "    </tr>\n",
              "    <tr>\n",
              "      <th>6</th>\n",
              "      <td>50</td>\n",
              "      <td>저팔계</td>\n",
              "      <td>1100</td>\n",
              "    </tr>\n",
              "    <tr>\n",
              "      <th>7</th>\n",
              "      <td>70</td>\n",
              "      <td>삼장법사</td>\n",
              "      <td>3510</td>\n",
              "    </tr>\n",
              "  </tbody>\n",
              "</table>\n",
              "</div>"
            ],
            "text/plain": [
              "   번호    이름    금액\n",
              "0  10   홍길동  1000\n",
              "1  10   홍길동  2500\n",
              "2  20   임꺽정  4500\n",
              "3  40   사오정  3000\n",
              "4  40   사오정  3200\n",
              "5  40   사오정  3550\n",
              "6  50   저팔계  1100\n",
              "7  70  삼장법사  3510"
            ]
          },
          "metadata": {
            "tags": []
          },
          "execution_count": 65
        }
      ]
    },
    {
      "cell_type": "code",
      "metadata": {
        "colab": {
          "base_uri": "https://localhost:8080/",
          "height": 378
        },
        "id": "XFXridsl8tH5",
        "outputId": "3c79bc03-add7-44eb-9fc8-b34e557287da"
      },
      "source": [
        "\n",
        "pd.merge(df1, df2, how='outer')"
      ],
      "execution_count": 67,
      "outputs": [
        {
          "output_type": "execute_result",
          "data": {
            "text/html": [
              "<div>\n",
              "<style scoped>\n",
              "    .dataframe tbody tr th:only-of-type {\n",
              "        vertical-align: middle;\n",
              "    }\n",
              "\n",
              "    .dataframe tbody tr th {\n",
              "        vertical-align: top;\n",
              "    }\n",
              "\n",
              "    .dataframe thead th {\n",
              "        text-align: right;\n",
              "    }\n",
              "</style>\n",
              "<table border=\"1\" class=\"dataframe\">\n",
              "  <thead>\n",
              "    <tr style=\"text-align: right;\">\n",
              "      <th></th>\n",
              "      <th>번호</th>\n",
              "      <th>이름</th>\n",
              "      <th>금액</th>\n",
              "    </tr>\n",
              "  </thead>\n",
              "  <tbody>\n",
              "    <tr>\n",
              "      <th>0</th>\n",
              "      <td>10</td>\n",
              "      <td>홍길동</td>\n",
              "      <td>1000.0</td>\n",
              "    </tr>\n",
              "    <tr>\n",
              "      <th>1</th>\n",
              "      <td>10</td>\n",
              "      <td>홍길동</td>\n",
              "      <td>2500.0</td>\n",
              "    </tr>\n",
              "    <tr>\n",
              "      <th>2</th>\n",
              "      <td>20</td>\n",
              "      <td>임꺽정</td>\n",
              "      <td>4500.0</td>\n",
              "    </tr>\n",
              "    <tr>\n",
              "      <th>3</th>\n",
              "      <td>30</td>\n",
              "      <td>손오공</td>\n",
              "      <td>NaN</td>\n",
              "    </tr>\n",
              "    <tr>\n",
              "      <th>4</th>\n",
              "      <td>40</td>\n",
              "      <td>사오정</td>\n",
              "      <td>3000.0</td>\n",
              "    </tr>\n",
              "    <tr>\n",
              "      <th>5</th>\n",
              "      <td>40</td>\n",
              "      <td>사오정</td>\n",
              "      <td>3200.0</td>\n",
              "    </tr>\n",
              "    <tr>\n",
              "      <th>6</th>\n",
              "      <td>40</td>\n",
              "      <td>사오정</td>\n",
              "      <td>3550.0</td>\n",
              "    </tr>\n",
              "    <tr>\n",
              "      <th>7</th>\n",
              "      <td>50</td>\n",
              "      <td>저팔계</td>\n",
              "      <td>1100.0</td>\n",
              "    </tr>\n",
              "    <tr>\n",
              "      <th>8</th>\n",
              "      <td>60</td>\n",
              "      <td>전우치</td>\n",
              "      <td>NaN</td>\n",
              "    </tr>\n",
              "    <tr>\n",
              "      <th>9</th>\n",
              "      <td>70</td>\n",
              "      <td>삼장법사</td>\n",
              "      <td>3510.0</td>\n",
              "    </tr>\n",
              "    <tr>\n",
              "      <th>10</th>\n",
              "      <td>80</td>\n",
              "      <td>NaN</td>\n",
              "      <td>100.0</td>\n",
              "    </tr>\n",
              "  </tbody>\n",
              "</table>\n",
              "</div>"
            ],
            "text/plain": [
              "    번호    이름      금액\n",
              "0   10   홍길동  1000.0\n",
              "1   10   홍길동  2500.0\n",
              "2   20   임꺽정  4500.0\n",
              "3   30   손오공     NaN\n",
              "4   40   사오정  3000.0\n",
              "5   40   사오정  3200.0\n",
              "6   40   사오정  3550.0\n",
              "7   50   저팔계  1100.0\n",
              "8   60   전우치     NaN\n",
              "9   70  삼장법사  3510.0\n",
              "10  80   NaN   100.0"
            ]
          },
          "metadata": {
            "tags": []
          },
          "execution_count": 67
        }
      ]
    },
    {
      "cell_type": "code",
      "metadata": {
        "colab": {
          "base_uri": "https://localhost:8080/",
          "height": 348
        },
        "id": "4hqEL5gT8tC5",
        "outputId": "122bbc3e-a67c-4de9-e3dd-a8eae235a7ba"
      },
      "source": [
        "pd.merge(df1, df2, how='left')"
      ],
      "execution_count": 68,
      "outputs": [
        {
          "output_type": "execute_result",
          "data": {
            "text/html": [
              "<div>\n",
              "<style scoped>\n",
              "    .dataframe tbody tr th:only-of-type {\n",
              "        vertical-align: middle;\n",
              "    }\n",
              "\n",
              "    .dataframe tbody tr th {\n",
              "        vertical-align: top;\n",
              "    }\n",
              "\n",
              "    .dataframe thead th {\n",
              "        text-align: right;\n",
              "    }\n",
              "</style>\n",
              "<table border=\"1\" class=\"dataframe\">\n",
              "  <thead>\n",
              "    <tr style=\"text-align: right;\">\n",
              "      <th></th>\n",
              "      <th>번호</th>\n",
              "      <th>이름</th>\n",
              "      <th>금액</th>\n",
              "    </tr>\n",
              "  </thead>\n",
              "  <tbody>\n",
              "    <tr>\n",
              "      <th>0</th>\n",
              "      <td>10</td>\n",
              "      <td>홍길동</td>\n",
              "      <td>1000.0</td>\n",
              "    </tr>\n",
              "    <tr>\n",
              "      <th>1</th>\n",
              "      <td>10</td>\n",
              "      <td>홍길동</td>\n",
              "      <td>2500.0</td>\n",
              "    </tr>\n",
              "    <tr>\n",
              "      <th>2</th>\n",
              "      <td>20</td>\n",
              "      <td>임꺽정</td>\n",
              "      <td>4500.0</td>\n",
              "    </tr>\n",
              "    <tr>\n",
              "      <th>3</th>\n",
              "      <td>30</td>\n",
              "      <td>손오공</td>\n",
              "      <td>NaN</td>\n",
              "    </tr>\n",
              "    <tr>\n",
              "      <th>4</th>\n",
              "      <td>40</td>\n",
              "      <td>사오정</td>\n",
              "      <td>3000.0</td>\n",
              "    </tr>\n",
              "    <tr>\n",
              "      <th>5</th>\n",
              "      <td>40</td>\n",
              "      <td>사오정</td>\n",
              "      <td>3200.0</td>\n",
              "    </tr>\n",
              "    <tr>\n",
              "      <th>6</th>\n",
              "      <td>40</td>\n",
              "      <td>사오정</td>\n",
              "      <td>3550.0</td>\n",
              "    </tr>\n",
              "    <tr>\n",
              "      <th>7</th>\n",
              "      <td>50</td>\n",
              "      <td>저팔계</td>\n",
              "      <td>1100.0</td>\n",
              "    </tr>\n",
              "    <tr>\n",
              "      <th>8</th>\n",
              "      <td>60</td>\n",
              "      <td>전우치</td>\n",
              "      <td>NaN</td>\n",
              "    </tr>\n",
              "    <tr>\n",
              "      <th>9</th>\n",
              "      <td>70</td>\n",
              "      <td>삼장법사</td>\n",
              "      <td>3510.0</td>\n",
              "    </tr>\n",
              "  </tbody>\n",
              "</table>\n",
              "</div>"
            ],
            "text/plain": [
              "   번호    이름      금액\n",
              "0  10   홍길동  1000.0\n",
              "1  10   홍길동  2500.0\n",
              "2  20   임꺽정  4500.0\n",
              "3  30   손오공     NaN\n",
              "4  40   사오정  3000.0\n",
              "5  40   사오정  3200.0\n",
              "6  40   사오정  3550.0\n",
              "7  50   저팔계  1100.0\n",
              "8  60   전우치     NaN\n",
              "9  70  삼장법사  3510.0"
            ]
          },
          "metadata": {
            "tags": []
          },
          "execution_count": 68
        }
      ]
    },
    {
      "cell_type": "code",
      "metadata": {
        "colab": {
          "base_uri": "https://localhost:8080/",
          "height": 318
        },
        "id": "Ksk0E0Bz8s_4",
        "outputId": "0361c02b-e75b-4cfe-f254-8a037598f753"
      },
      "source": [
        "pd.merge(df1, df2, how='right')"
      ],
      "execution_count": 69,
      "outputs": [
        {
          "output_type": "execute_result",
          "data": {
            "text/html": [
              "<div>\n",
              "<style scoped>\n",
              "    .dataframe tbody tr th:only-of-type {\n",
              "        vertical-align: middle;\n",
              "    }\n",
              "\n",
              "    .dataframe tbody tr th {\n",
              "        vertical-align: top;\n",
              "    }\n",
              "\n",
              "    .dataframe thead th {\n",
              "        text-align: right;\n",
              "    }\n",
              "</style>\n",
              "<table border=\"1\" class=\"dataframe\">\n",
              "  <thead>\n",
              "    <tr style=\"text-align: right;\">\n",
              "      <th></th>\n",
              "      <th>번호</th>\n",
              "      <th>이름</th>\n",
              "      <th>금액</th>\n",
              "    </tr>\n",
              "  </thead>\n",
              "  <tbody>\n",
              "    <tr>\n",
              "      <th>0</th>\n",
              "      <td>10</td>\n",
              "      <td>홍길동</td>\n",
              "      <td>1000</td>\n",
              "    </tr>\n",
              "    <tr>\n",
              "      <th>1</th>\n",
              "      <td>10</td>\n",
              "      <td>홍길동</td>\n",
              "      <td>2500</td>\n",
              "    </tr>\n",
              "    <tr>\n",
              "      <th>2</th>\n",
              "      <td>20</td>\n",
              "      <td>임꺽정</td>\n",
              "      <td>4500</td>\n",
              "    </tr>\n",
              "    <tr>\n",
              "      <th>3</th>\n",
              "      <td>40</td>\n",
              "      <td>사오정</td>\n",
              "      <td>3000</td>\n",
              "    </tr>\n",
              "    <tr>\n",
              "      <th>4</th>\n",
              "      <td>40</td>\n",
              "      <td>사오정</td>\n",
              "      <td>3200</td>\n",
              "    </tr>\n",
              "    <tr>\n",
              "      <th>5</th>\n",
              "      <td>40</td>\n",
              "      <td>사오정</td>\n",
              "      <td>3550</td>\n",
              "    </tr>\n",
              "    <tr>\n",
              "      <th>6</th>\n",
              "      <td>50</td>\n",
              "      <td>저팔계</td>\n",
              "      <td>1100</td>\n",
              "    </tr>\n",
              "    <tr>\n",
              "      <th>7</th>\n",
              "      <td>70</td>\n",
              "      <td>삼장법사</td>\n",
              "      <td>3510</td>\n",
              "    </tr>\n",
              "    <tr>\n",
              "      <th>8</th>\n",
              "      <td>80</td>\n",
              "      <td>NaN</td>\n",
              "      <td>100</td>\n",
              "    </tr>\n",
              "  </tbody>\n",
              "</table>\n",
              "</div>"
            ],
            "text/plain": [
              "   번호    이름    금액\n",
              "0  10   홍길동  1000\n",
              "1  10   홍길동  2500\n",
              "2  20   임꺽정  4500\n",
              "3  40   사오정  3000\n",
              "4  40   사오정  3200\n",
              "5  40   사오정  3550\n",
              "6  50   저팔계  1100\n",
              "7  70  삼장법사  3510\n",
              "8  80   NaN   100"
            ]
          },
          "metadata": {
            "tags": []
          },
          "execution_count": 69
        }
      ]
    }
  ]
}