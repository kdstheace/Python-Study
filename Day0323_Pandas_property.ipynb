{
  "nbformat": 4,
  "nbformat_minor": 0,
  "metadata": {
    "colab": {
      "name": "Day0323_Pandas_property.ipynb",
      "provenance": [],
      "authorship_tag": "ABX9TyNiycGmJHEJk9jkhYN8jchE",
      "include_colab_link": true
    },
    "kernelspec": {
      "name": "python3",
      "display_name": "Python 3"
    },
    "language_info": {
      "name": "python"
    }
  },
  "cells": [
    {
      "cell_type": "markdown",
      "metadata": {
        "id": "view-in-github",
        "colab_type": "text"
      },
      "source": [
        "<a href=\"https://colab.research.google.com/github/kdstheace/Python-Study/blob/main/Day0323_Pandas_property.ipynb\" target=\"_parent\"><img src=\"https://colab.research.google.com/assets/colab-badge.svg\" alt=\"Open In Colab\"/></a>"
      ]
    },
    {
      "cell_type": "markdown",
      "metadata": {
        "id": "AxHpKvv8ENX0"
      },
      "source": [
        "# **Pandas 속성 **\n",
        "- .T            : Transpose\n",
        "- .index\n",
        "- .columns\n",
        "- .values\n",
        "- .describe()   : 통계볼 때\n",
        "- .head(), .tail()\n",
        "- .sort_values(by=컬럼명)"
      ]
    },
    {
      "cell_type": "code",
      "metadata": {
        "id": "0BFfzBH3EHSg"
      },
      "source": [
        "from pandas import Series, DataFrame\n",
        "import numpy as np\n",
        "import pandas as pd"
      ],
      "execution_count": 1,
      "outputs": []
    },
    {
      "cell_type": "code",
      "metadata": {
        "colab": {
          "base_uri": "https://localhost:8080/",
          "height": 343
        },
        "id": "Kkj_SSsxEvj5",
        "outputId": "3a2304c2-e8ab-4dc3-c85d-3959ae7ee2e6"
      },
      "source": [
        "dates = pd.date_range('20210301', periods = 10)\n",
        "df = DataFrame(np.random.randn(10, 5), index=dates, columns=list('ABCDE'))\n",
        "df"
      ],
      "execution_count": 3,
      "outputs": [
        {
          "output_type": "execute_result",
          "data": {
            "text/html": [
              "<div>\n",
              "<style scoped>\n",
              "    .dataframe tbody tr th:only-of-type {\n",
              "        vertical-align: middle;\n",
              "    }\n",
              "\n",
              "    .dataframe tbody tr th {\n",
              "        vertical-align: top;\n",
              "    }\n",
              "\n",
              "    .dataframe thead th {\n",
              "        text-align: right;\n",
              "    }\n",
              "</style>\n",
              "<table border=\"1\" class=\"dataframe\">\n",
              "  <thead>\n",
              "    <tr style=\"text-align: right;\">\n",
              "      <th></th>\n",
              "      <th>A</th>\n",
              "      <th>B</th>\n",
              "      <th>C</th>\n",
              "      <th>D</th>\n",
              "      <th>E</th>\n",
              "    </tr>\n",
              "  </thead>\n",
              "  <tbody>\n",
              "    <tr>\n",
              "      <th>2021-03-01</th>\n",
              "      <td>1.074450</td>\n",
              "      <td>1.405596</td>\n",
              "      <td>-1.065145</td>\n",
              "      <td>1.554223</td>\n",
              "      <td>0.226932</td>\n",
              "    </tr>\n",
              "    <tr>\n",
              "      <th>2021-03-02</th>\n",
              "      <td>-0.883944</td>\n",
              "      <td>1.247335</td>\n",
              "      <td>0.425909</td>\n",
              "      <td>1.484130</td>\n",
              "      <td>0.360130</td>\n",
              "    </tr>\n",
              "    <tr>\n",
              "      <th>2021-03-03</th>\n",
              "      <td>-0.130351</td>\n",
              "      <td>-0.030870</td>\n",
              "      <td>-1.334111</td>\n",
              "      <td>-1.629802</td>\n",
              "      <td>-1.092585</td>\n",
              "    </tr>\n",
              "    <tr>\n",
              "      <th>2021-03-04</th>\n",
              "      <td>1.737398</td>\n",
              "      <td>0.818396</td>\n",
              "      <td>-1.081545</td>\n",
              "      <td>-0.326974</td>\n",
              "      <td>-0.982978</td>\n",
              "    </tr>\n",
              "    <tr>\n",
              "      <th>2021-03-05</th>\n",
              "      <td>-1.462756</td>\n",
              "      <td>0.206723</td>\n",
              "      <td>-1.849045</td>\n",
              "      <td>-0.850914</td>\n",
              "      <td>-0.455743</td>\n",
              "    </tr>\n",
              "    <tr>\n",
              "      <th>2021-03-06</th>\n",
              "      <td>0.836909</td>\n",
              "      <td>-0.616391</td>\n",
              "      <td>-0.245484</td>\n",
              "      <td>-1.187009</td>\n",
              "      <td>0.982993</td>\n",
              "    </tr>\n",
              "    <tr>\n",
              "      <th>2021-03-07</th>\n",
              "      <td>-0.491221</td>\n",
              "      <td>0.243957</td>\n",
              "      <td>-0.196266</td>\n",
              "      <td>0.105434</td>\n",
              "      <td>-1.739340</td>\n",
              "    </tr>\n",
              "    <tr>\n",
              "      <th>2021-03-08</th>\n",
              "      <td>2.197402</td>\n",
              "      <td>-0.572120</td>\n",
              "      <td>-1.080443</td>\n",
              "      <td>1.434305</td>\n",
              "      <td>-0.146111</td>\n",
              "    </tr>\n",
              "    <tr>\n",
              "      <th>2021-03-09</th>\n",
              "      <td>-0.152395</td>\n",
              "      <td>-0.877861</td>\n",
              "      <td>-0.496020</td>\n",
              "      <td>2.931522</td>\n",
              "      <td>-0.755494</td>\n",
              "    </tr>\n",
              "    <tr>\n",
              "      <th>2021-03-10</th>\n",
              "      <td>0.137355</td>\n",
              "      <td>0.464948</td>\n",
              "      <td>-1.197012</td>\n",
              "      <td>0.950242</td>\n",
              "      <td>-0.489474</td>\n",
              "    </tr>\n",
              "  </tbody>\n",
              "</table>\n",
              "</div>"
            ],
            "text/plain": [
              "                   A         B         C         D         E\n",
              "2021-03-01  1.074450  1.405596 -1.065145  1.554223  0.226932\n",
              "2021-03-02 -0.883944  1.247335  0.425909  1.484130  0.360130\n",
              "2021-03-03 -0.130351 -0.030870 -1.334111 -1.629802 -1.092585\n",
              "2021-03-04  1.737398  0.818396 -1.081545 -0.326974 -0.982978\n",
              "2021-03-05 -1.462756  0.206723 -1.849045 -0.850914 -0.455743\n",
              "2021-03-06  0.836909 -0.616391 -0.245484 -1.187009  0.982993\n",
              "2021-03-07 -0.491221  0.243957 -0.196266  0.105434 -1.739340\n",
              "2021-03-08  2.197402 -0.572120 -1.080443  1.434305 -0.146111\n",
              "2021-03-09 -0.152395 -0.877861 -0.496020  2.931522 -0.755494\n",
              "2021-03-10  0.137355  0.464948 -1.197012  0.950242 -0.489474"
            ]
          },
          "metadata": {
            "tags": []
          },
          "execution_count": 3
        }
      ]
    },
    {
      "cell_type": "code",
      "metadata": {
        "colab": {
          "base_uri": "https://localhost:8080/",
          "height": 284
        },
        "id": "e75d50NdEvg7",
        "outputId": "8f26f443-683b-4211-c2e8-76ced2472897"
      },
      "source": [
        "df.describe()"
      ],
      "execution_count": 4,
      "outputs": [
        {
          "output_type": "execute_result",
          "data": {
            "text/html": [
              "<div>\n",
              "<style scoped>\n",
              "    .dataframe tbody tr th:only-of-type {\n",
              "        vertical-align: middle;\n",
              "    }\n",
              "\n",
              "    .dataframe tbody tr th {\n",
              "        vertical-align: top;\n",
              "    }\n",
              "\n",
              "    .dataframe thead th {\n",
              "        text-align: right;\n",
              "    }\n",
              "</style>\n",
              "<table border=\"1\" class=\"dataframe\">\n",
              "  <thead>\n",
              "    <tr style=\"text-align: right;\">\n",
              "      <th></th>\n",
              "      <th>A</th>\n",
              "      <th>B</th>\n",
              "      <th>C</th>\n",
              "      <th>D</th>\n",
              "      <th>E</th>\n",
              "    </tr>\n",
              "  </thead>\n",
              "  <tbody>\n",
              "    <tr>\n",
              "      <th>count</th>\n",
              "      <td>10.000000</td>\n",
              "      <td>10.000000</td>\n",
              "      <td>10.000000</td>\n",
              "      <td>10.000000</td>\n",
              "      <td>10.000000</td>\n",
              "    </tr>\n",
              "    <tr>\n",
              "      <th>mean</th>\n",
              "      <td>0.286285</td>\n",
              "      <td>0.228971</td>\n",
              "      <td>-0.811916</td>\n",
              "      <td>0.446516</td>\n",
              "      <td>-0.409167</td>\n",
              "    </tr>\n",
              "    <tr>\n",
              "      <th>std</th>\n",
              "      <td>1.159683</td>\n",
              "      <td>0.779909</td>\n",
              "      <td>0.669778</td>\n",
              "      <td>1.456244</td>\n",
              "      <td>0.795682</td>\n",
              "    </tr>\n",
              "    <tr>\n",
              "      <th>min</th>\n",
              "      <td>-1.462756</td>\n",
              "      <td>-0.877861</td>\n",
              "      <td>-1.849045</td>\n",
              "      <td>-1.629802</td>\n",
              "      <td>-1.739340</td>\n",
              "    </tr>\n",
              "    <tr>\n",
              "      <th>25%</th>\n",
              "      <td>-0.406514</td>\n",
              "      <td>-0.436807</td>\n",
              "      <td>-1.168145</td>\n",
              "      <td>-0.719929</td>\n",
              "      <td>-0.926107</td>\n",
              "    </tr>\n",
              "    <tr>\n",
              "      <th>50%</th>\n",
              "      <td>0.003502</td>\n",
              "      <td>0.225340</td>\n",
              "      <td>-1.072794</td>\n",
              "      <td>0.527838</td>\n",
              "      <td>-0.472608</td>\n",
              "    </tr>\n",
              "    <tr>\n",
              "      <th>75%</th>\n",
              "      <td>1.015065</td>\n",
              "      <td>0.730034</td>\n",
              "      <td>-0.308118</td>\n",
              "      <td>1.471674</td>\n",
              "      <td>0.133671</td>\n",
              "    </tr>\n",
              "    <tr>\n",
              "      <th>max</th>\n",
              "      <td>2.197402</td>\n",
              "      <td>1.405596</td>\n",
              "      <td>0.425909</td>\n",
              "      <td>2.931522</td>\n",
              "      <td>0.982993</td>\n",
              "    </tr>\n",
              "  </tbody>\n",
              "</table>\n",
              "</div>"
            ],
            "text/plain": [
              "               A          B          C          D          E\n",
              "count  10.000000  10.000000  10.000000  10.000000  10.000000\n",
              "mean    0.286285   0.228971  -0.811916   0.446516  -0.409167\n",
              "std     1.159683   0.779909   0.669778   1.456244   0.795682\n",
              "min    -1.462756  -0.877861  -1.849045  -1.629802  -1.739340\n",
              "25%    -0.406514  -0.436807  -1.168145  -0.719929  -0.926107\n",
              "50%     0.003502   0.225340  -1.072794   0.527838  -0.472608\n",
              "75%     1.015065   0.730034  -0.308118   1.471674   0.133671\n",
              "max     2.197402   1.405596   0.425909   2.931522   0.982993"
            ]
          },
          "metadata": {
            "tags": []
          },
          "execution_count": 4
        }
      ]
    },
    {
      "cell_type": "code",
      "metadata": {
        "colab": {
          "base_uri": "https://localhost:8080/",
          "height": 343
        },
        "id": "ZSmMv853EveD",
        "outputId": "45f44f08-4a7c-420c-da95-423c59722241"
      },
      "source": [
        "df.sort_values(axis=1, by='2021-03-03')\n",
        "df.sort_values(axis=0, by='A')"
      ],
      "execution_count": 6,
      "outputs": [
        {
          "output_type": "execute_result",
          "data": {
            "text/html": [
              "<div>\n",
              "<style scoped>\n",
              "    .dataframe tbody tr th:only-of-type {\n",
              "        vertical-align: middle;\n",
              "    }\n",
              "\n",
              "    .dataframe tbody tr th {\n",
              "        vertical-align: top;\n",
              "    }\n",
              "\n",
              "    .dataframe thead th {\n",
              "        text-align: right;\n",
              "    }\n",
              "</style>\n",
              "<table border=\"1\" class=\"dataframe\">\n",
              "  <thead>\n",
              "    <tr style=\"text-align: right;\">\n",
              "      <th></th>\n",
              "      <th>A</th>\n",
              "      <th>B</th>\n",
              "      <th>C</th>\n",
              "      <th>D</th>\n",
              "      <th>E</th>\n",
              "    </tr>\n",
              "  </thead>\n",
              "  <tbody>\n",
              "    <tr>\n",
              "      <th>2021-03-05</th>\n",
              "      <td>-1.462756</td>\n",
              "      <td>0.206723</td>\n",
              "      <td>-1.849045</td>\n",
              "      <td>-0.850914</td>\n",
              "      <td>-0.455743</td>\n",
              "    </tr>\n",
              "    <tr>\n",
              "      <th>2021-03-02</th>\n",
              "      <td>-0.883944</td>\n",
              "      <td>1.247335</td>\n",
              "      <td>0.425909</td>\n",
              "      <td>1.484130</td>\n",
              "      <td>0.360130</td>\n",
              "    </tr>\n",
              "    <tr>\n",
              "      <th>2021-03-07</th>\n",
              "      <td>-0.491221</td>\n",
              "      <td>0.243957</td>\n",
              "      <td>-0.196266</td>\n",
              "      <td>0.105434</td>\n",
              "      <td>-1.739340</td>\n",
              "    </tr>\n",
              "    <tr>\n",
              "      <th>2021-03-09</th>\n",
              "      <td>-0.152395</td>\n",
              "      <td>-0.877861</td>\n",
              "      <td>-0.496020</td>\n",
              "      <td>2.931522</td>\n",
              "      <td>-0.755494</td>\n",
              "    </tr>\n",
              "    <tr>\n",
              "      <th>2021-03-03</th>\n",
              "      <td>-0.130351</td>\n",
              "      <td>-0.030870</td>\n",
              "      <td>-1.334111</td>\n",
              "      <td>-1.629802</td>\n",
              "      <td>-1.092585</td>\n",
              "    </tr>\n",
              "    <tr>\n",
              "      <th>2021-03-10</th>\n",
              "      <td>0.137355</td>\n",
              "      <td>0.464948</td>\n",
              "      <td>-1.197012</td>\n",
              "      <td>0.950242</td>\n",
              "      <td>-0.489474</td>\n",
              "    </tr>\n",
              "    <tr>\n",
              "      <th>2021-03-06</th>\n",
              "      <td>0.836909</td>\n",
              "      <td>-0.616391</td>\n",
              "      <td>-0.245484</td>\n",
              "      <td>-1.187009</td>\n",
              "      <td>0.982993</td>\n",
              "    </tr>\n",
              "    <tr>\n",
              "      <th>2021-03-01</th>\n",
              "      <td>1.074450</td>\n",
              "      <td>1.405596</td>\n",
              "      <td>-1.065145</td>\n",
              "      <td>1.554223</td>\n",
              "      <td>0.226932</td>\n",
              "    </tr>\n",
              "    <tr>\n",
              "      <th>2021-03-04</th>\n",
              "      <td>1.737398</td>\n",
              "      <td>0.818396</td>\n",
              "      <td>-1.081545</td>\n",
              "      <td>-0.326974</td>\n",
              "      <td>-0.982978</td>\n",
              "    </tr>\n",
              "    <tr>\n",
              "      <th>2021-03-08</th>\n",
              "      <td>2.197402</td>\n",
              "      <td>-0.572120</td>\n",
              "      <td>-1.080443</td>\n",
              "      <td>1.434305</td>\n",
              "      <td>-0.146111</td>\n",
              "    </tr>\n",
              "  </tbody>\n",
              "</table>\n",
              "</div>"
            ],
            "text/plain": [
              "                   A         B         C         D         E\n",
              "2021-03-05 -1.462756  0.206723 -1.849045 -0.850914 -0.455743\n",
              "2021-03-02 -0.883944  1.247335  0.425909  1.484130  0.360130\n",
              "2021-03-07 -0.491221  0.243957 -0.196266  0.105434 -1.739340\n",
              "2021-03-09 -0.152395 -0.877861 -0.496020  2.931522 -0.755494\n",
              "2021-03-03 -0.130351 -0.030870 -1.334111 -1.629802 -1.092585\n",
              "2021-03-10  0.137355  0.464948 -1.197012  0.950242 -0.489474\n",
              "2021-03-06  0.836909 -0.616391 -0.245484 -1.187009  0.982993\n",
              "2021-03-01  1.074450  1.405596 -1.065145  1.554223  0.226932\n",
              "2021-03-04  1.737398  0.818396 -1.081545 -0.326974 -0.982978\n",
              "2021-03-08  2.197402 -0.572120 -1.080443  1.434305 -0.146111"
            ]
          },
          "metadata": {
            "tags": []
          },
          "execution_count": 6
        }
      ]
    },
    {
      "cell_type": "code",
      "metadata": {
        "id": "3KMpso_JEvbF"
      },
      "source": [
        ""
      ],
      "execution_count": null,
      "outputs": []
    },
    {
      "cell_type": "code",
      "metadata": {
        "id": "ngamncpZEvYL"
      },
      "source": [
        ""
      ],
      "execution_count": null,
      "outputs": []
    },
    {
      "cell_type": "code",
      "metadata": {
        "id": "5djoJH9xEvVJ"
      },
      "source": [
        ""
      ],
      "execution_count": null,
      "outputs": []
    },
    {
      "cell_type": "code",
      "metadata": {
        "id": "UckhKhaPEvSg"
      },
      "source": [
        ""
      ],
      "execution_count": null,
      "outputs": []
    }
  ]
}