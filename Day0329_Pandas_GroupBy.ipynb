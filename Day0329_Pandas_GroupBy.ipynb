{
  "nbformat": 4,
  "nbformat_minor": 0,
  "metadata": {
    "colab": {
      "name": "Day0329_Pandas_GroupBy.ipynb",
      "provenance": [],
      "collapsed_sections": [],
      "authorship_tag": "ABX9TyNbWwBYqlgaZjCFnX5Bvshy",
      "include_colab_link": true
    },
    "kernelspec": {
      "name": "python3",
      "display_name": "Python 3"
    },
    "language_info": {
      "name": "python"
    }
  },
  "cells": [
    {
      "cell_type": "markdown",
      "metadata": {
        "id": "view-in-github",
        "colab_type": "text"
      },
      "source": [
        "<a href=\"https://colab.research.google.com/github/kdstheace/Python-Study/blob/main/Day0329_Pandas_GroupBy.ipynb\" target=\"_parent\"><img src=\"https://colab.research.google.com/assets/colab-badge.svg\" alt=\"Open In Colab\"/></a>"
      ]
    },
    {
      "cell_type": "markdown",
      "metadata": {
        "id": "b_x5sDN0dtr2"
      },
      "source": [
        "# **GroupBy의 사용**\n",
        "- SQL문의 groupby와 유사"
      ]
    },
    {
      "cell_type": "code",
      "metadata": {
        "id": "yohUDhRHdsy3"
      },
      "source": [
        "from pandas import Series, DataFrame\n",
        "import pandas as pd\n",
        "import numpy as np"
      ],
      "execution_count": 3,
      "outputs": []
    },
    {
      "cell_type": "code",
      "metadata": {
        "colab": {
          "base_uri": "https://localhost:8080/",
          "height": 408
        },
        "id": "xZvXyMZKds1N",
        "outputId": "3016f8ed-720a-4c2a-9c0e-0ea2d896afb5"
      },
      "source": [
        "data = DataFrame({\n",
        "    '부서' : [\"영업1팀\", \"영업1팀\", \"영업2팀\", \"해외영업팀\", \"해외영업팀\",\"영업1팀\",\\\n",
        "            \"해외영업팀\", \"영업1팀\", \"해외영업팀\", \"영업2팀\", \"영업2팀\", \"해외영업팀\"],\n",
        "    '순위' : [1, 2, 1, 3, 2, 1, 1, 1, 3, 2, 1, 2],\n",
        "    '연도' : [2014, 2015, 2016, 2014, 2017, 2015, 2014, 2019, 2017, 2016, 2015, 2015],\n",
        "    '매출액' : [876, 788, 900, 670, 770, 910, 760, 980, 910, 800, 877, 788]\n",
        "\n",
        "})\n",
        "data"
      ],
      "execution_count": 4,
      "outputs": [
        {
          "output_type": "execute_result",
          "data": {
            "text/html": [
              "<div>\n",
              "<style scoped>\n",
              "    .dataframe tbody tr th:only-of-type {\n",
              "        vertical-align: middle;\n",
              "    }\n",
              "\n",
              "    .dataframe tbody tr th {\n",
              "        vertical-align: top;\n",
              "    }\n",
              "\n",
              "    .dataframe thead th {\n",
              "        text-align: right;\n",
              "    }\n",
              "</style>\n",
              "<table border=\"1\" class=\"dataframe\">\n",
              "  <thead>\n",
              "    <tr style=\"text-align: right;\">\n",
              "      <th></th>\n",
              "      <th>부서</th>\n",
              "      <th>순위</th>\n",
              "      <th>연도</th>\n",
              "      <th>매출액</th>\n",
              "    </tr>\n",
              "  </thead>\n",
              "  <tbody>\n",
              "    <tr>\n",
              "      <th>0</th>\n",
              "      <td>영업1팀</td>\n",
              "      <td>1</td>\n",
              "      <td>2014</td>\n",
              "      <td>876</td>\n",
              "    </tr>\n",
              "    <tr>\n",
              "      <th>1</th>\n",
              "      <td>영업1팀</td>\n",
              "      <td>2</td>\n",
              "      <td>2015</td>\n",
              "      <td>788</td>\n",
              "    </tr>\n",
              "    <tr>\n",
              "      <th>2</th>\n",
              "      <td>영업2팀</td>\n",
              "      <td>1</td>\n",
              "      <td>2016</td>\n",
              "      <td>900</td>\n",
              "    </tr>\n",
              "    <tr>\n",
              "      <th>3</th>\n",
              "      <td>해외영업팀</td>\n",
              "      <td>3</td>\n",
              "      <td>2014</td>\n",
              "      <td>670</td>\n",
              "    </tr>\n",
              "    <tr>\n",
              "      <th>4</th>\n",
              "      <td>해외영업팀</td>\n",
              "      <td>2</td>\n",
              "      <td>2017</td>\n",
              "      <td>770</td>\n",
              "    </tr>\n",
              "    <tr>\n",
              "      <th>5</th>\n",
              "      <td>영업1팀</td>\n",
              "      <td>1</td>\n",
              "      <td>2015</td>\n",
              "      <td>910</td>\n",
              "    </tr>\n",
              "    <tr>\n",
              "      <th>6</th>\n",
              "      <td>해외영업팀</td>\n",
              "      <td>1</td>\n",
              "      <td>2014</td>\n",
              "      <td>760</td>\n",
              "    </tr>\n",
              "    <tr>\n",
              "      <th>7</th>\n",
              "      <td>영업1팀</td>\n",
              "      <td>1</td>\n",
              "      <td>2019</td>\n",
              "      <td>980</td>\n",
              "    </tr>\n",
              "    <tr>\n",
              "      <th>8</th>\n",
              "      <td>해외영업팀</td>\n",
              "      <td>3</td>\n",
              "      <td>2017</td>\n",
              "      <td>910</td>\n",
              "    </tr>\n",
              "    <tr>\n",
              "      <th>9</th>\n",
              "      <td>영업2팀</td>\n",
              "      <td>2</td>\n",
              "      <td>2016</td>\n",
              "      <td>800</td>\n",
              "    </tr>\n",
              "    <tr>\n",
              "      <th>10</th>\n",
              "      <td>영업2팀</td>\n",
              "      <td>1</td>\n",
              "      <td>2015</td>\n",
              "      <td>877</td>\n",
              "    </tr>\n",
              "    <tr>\n",
              "      <th>11</th>\n",
              "      <td>해외영업팀</td>\n",
              "      <td>2</td>\n",
              "      <td>2015</td>\n",
              "      <td>788</td>\n",
              "    </tr>\n",
              "  </tbody>\n",
              "</table>\n",
              "</div>"
            ],
            "text/plain": [
              "       부서  순위    연도  매출액\n",
              "0    영업1팀   1  2014  876\n",
              "1    영업1팀   2  2015  788\n",
              "2    영업2팀   1  2016  900\n",
              "3   해외영업팀   3  2014  670\n",
              "4   해외영업팀   2  2017  770\n",
              "5    영업1팀   1  2015  910\n",
              "6   해외영업팀   1  2014  760\n",
              "7    영업1팀   1  2019  980\n",
              "8   해외영업팀   3  2017  910\n",
              "9    영업2팀   2  2016  800\n",
              "10   영업2팀   1  2015  877\n",
              "11  해외영업팀   2  2015  788"
            ]
          },
          "metadata": {
            "tags": []
          },
          "execution_count": 4
        }
      ]
    },
    {
      "cell_type": "code",
      "metadata": {
        "id": "SsQ9rO1Hds30",
        "colab": {
          "base_uri": "https://localhost:8080/"
        },
        "outputId": "0c357bb8-81b6-4d30-f120-dbac5c93f0ea"
      },
      "source": [
        "#부서별로 매출액의 합계를 구할 때.\n",
        "data.groupby('부서')['매출액'].sum()"
      ],
      "execution_count": 9,
      "outputs": [
        {
          "output_type": "execute_result",
          "data": {
            "text/plain": [
              "연도\n",
              "2014    2306\n",
              "2015    3363\n",
              "2016    1700\n",
              "2017    1680\n",
              "2019     980\n",
              "Name: 매출액, dtype: int64"
            ]
          },
          "metadata": {
            "tags": []
          },
          "execution_count": 9
        }
      ]
    },
    {
      "cell_type": "code",
      "metadata": {
        "id": "GjmkZkoods6d"
      },
      "source": [
        "#연도별로 매출액의 합\n",
        "data.groupby('연도')['매출액'].sum()"
      ],
      "execution_count": null,
      "outputs": []
    },
    {
      "cell_type": "code",
      "metadata": {
        "id": "Q1thzBkcds9C",
        "colab": {
          "base_uri": "https://localhost:8080/"
        },
        "outputId": "7e9ea409-6b5d-4703-a4dc-9b0d2d55b446"
      },
      "source": [
        "#각 부서별로 특정 연도의 매출액의 합계를 구하시오.\n",
        "data.groupby(['부서', '연도'])['매출액'].sum()"
      ],
      "execution_count": 11,
      "outputs": [
        {
          "output_type": "execute_result",
          "data": {
            "text/plain": [
              "부서     연도  \n",
              "영업1팀   2014     876\n",
              "       2015    1698\n",
              "       2019     980\n",
              "영업2팀   2015     877\n",
              "       2016    1700\n",
              "해외영업팀  2014    1430\n",
              "       2015     788\n",
              "       2017    1680\n",
              "Name: 매출액, dtype: int64"
            ]
          },
          "metadata": {
            "tags": []
          },
          "execution_count": 11
        }
      ]
    },
    {
      "cell_type": "code",
      "metadata": {
        "id": "q44saQ35ds_U",
        "colab": {
          "base_uri": "https://localhost:8080/"
        },
        "outputId": "eb14b35e-54fb-4e60-bece-170a444bfa6f"
      },
      "source": [
        "#(멀티인덱스)각 부서별로 특정 연도의 매출액의 합계를 구하시오.\n",
        "grouped = data.groupby(['부서', '연도'])['매출액'].sum()\n",
        "print(grouped)\n",
        "grouped.index"
      ],
      "execution_count": 13,
      "outputs": [
        {
          "output_type": "stream",
          "text": [
            "부서     연도  \n",
            "영업1팀   2014     876\n",
            "       2015    1698\n",
            "       2019     980\n",
            "영업2팀   2015     877\n",
            "       2016    1700\n",
            "해외영업팀  2014    1430\n",
            "       2015     788\n",
            "       2017    1680\n",
            "Name: 매출액, dtype: int64\n"
          ],
          "name": "stdout"
        },
        {
          "output_type": "execute_result",
          "data": {
            "text/plain": [
              "MultiIndex([( '영업1팀', 2014),\n",
              "            ( '영업1팀', 2015),\n",
              "            ( '영업1팀', 2019),\n",
              "            ( '영업2팀', 2015),\n",
              "            ( '영업2팀', 2016),\n",
              "            ('해외영업팀', 2014),\n",
              "            ('해외영업팀', 2015),\n",
              "            ('해외영업팀', 2017)],\n",
              "           names=['부서', '연도'])"
            ]
          },
          "metadata": {
            "tags": []
          },
          "execution_count": 13
        }
      ]
    },
    {
      "cell_type": "code",
      "metadata": {
        "id": "l7T2nqctdtB8",
        "colab": {
          "base_uri": "https://localhost:8080/"
        },
        "outputId": "61649cc0-635d-40be-90e6-6ea1b76f72d1"
      },
      "source": [
        "grouped['해외영업팀']"
      ],
      "execution_count": 15,
      "outputs": [
        {
          "output_type": "execute_result",
          "data": {
            "text/plain": [
              "연도\n",
              "2014    1430\n",
              "2015     788\n",
              "2017    1680\n",
              "Name: 매출액, dtype: int64"
            ]
          },
          "metadata": {
            "tags": []
          },
          "execution_count": 15
        }
      ]
    },
    {
      "cell_type": "code",
      "metadata": {
        "colab": {
          "base_uri": "https://localhost:8080/"
        },
        "id": "1_l6hAf0s2Nk",
        "outputId": "ce0c7392-7566-4eb1-eeb3-5403253b4ae2"
      },
      "source": [
        "grouped[['영업1팀','영업2팀']]"
      ],
      "execution_count": 17,
      "outputs": [
        {
          "output_type": "execute_result",
          "data": {
            "text/plain": [
              "부서    연도  \n",
              "영업1팀  2014     876\n",
              "      2015    1698\n",
              "      2019     980\n",
              "영업2팀  2015     877\n",
              "      2016    1700\n",
              "Name: 매출액, dtype: int64"
            ]
          },
          "metadata": {
            "tags": []
          },
          "execution_count": 17
        }
      ]
    },
    {
      "cell_type": "code",
      "metadata": {
        "colab": {
          "base_uri": "https://localhost:8080/"
        },
        "id": "oa71V35-s2K_",
        "outputId": "51e0901b-ef92-43ba-c7b7-886b3f2d4b81"
      },
      "source": [
        "grouped['영업1팀':'해외영업팀']"
      ],
      "execution_count": 19,
      "outputs": [
        {
          "output_type": "execute_result",
          "data": {
            "text/plain": [
              "부서     연도  \n",
              "영업1팀   2014     876\n",
              "       2015    1698\n",
              "       2019     980\n",
              "영업2팀   2015     877\n",
              "       2016    1700\n",
              "해외영업팀  2014    1430\n",
              "       2015     788\n",
              "       2017    1680\n",
              "Name: 매출액, dtype: int64"
            ]
          },
          "metadata": {
            "tags": []
          },
          "execution_count": 19
        }
      ]
    },
    {
      "cell_type": "code",
      "metadata": {
        "colab": {
          "base_uri": "https://localhost:8080/",
          "height": 168
        },
        "id": "FsCAvS-qs2I6",
        "outputId": "4ce8895e-3ebd-4772-b095-fb8ac33fc316"
      },
      "source": [
        "grouped.unstack()"
      ],
      "execution_count": 27,
      "outputs": [
        {
          "output_type": "execute_result",
          "data": {
            "text/html": [
              "<div>\n",
              "<style scoped>\n",
              "    .dataframe tbody tr th:only-of-type {\n",
              "        vertical-align: middle;\n",
              "    }\n",
              "\n",
              "    .dataframe tbody tr th {\n",
              "        vertical-align: top;\n",
              "    }\n",
              "\n",
              "    .dataframe thead th {\n",
              "        text-align: right;\n",
              "    }\n",
              "</style>\n",
              "<table border=\"1\" class=\"dataframe\">\n",
              "  <thead>\n",
              "    <tr style=\"text-align: right;\">\n",
              "      <th>연도</th>\n",
              "      <th>2014</th>\n",
              "      <th>2015</th>\n",
              "      <th>2016</th>\n",
              "      <th>2017</th>\n",
              "      <th>2019</th>\n",
              "    </tr>\n",
              "    <tr>\n",
              "      <th>부서</th>\n",
              "      <th></th>\n",
              "      <th></th>\n",
              "      <th></th>\n",
              "      <th></th>\n",
              "      <th></th>\n",
              "    </tr>\n",
              "  </thead>\n",
              "  <tbody>\n",
              "    <tr>\n",
              "      <th>영업1팀</th>\n",
              "      <td>876.0</td>\n",
              "      <td>1698.0</td>\n",
              "      <td>NaN</td>\n",
              "      <td>NaN</td>\n",
              "      <td>980.0</td>\n",
              "    </tr>\n",
              "    <tr>\n",
              "      <th>영업2팀</th>\n",
              "      <td>NaN</td>\n",
              "      <td>877.0</td>\n",
              "      <td>1700.0</td>\n",
              "      <td>NaN</td>\n",
              "      <td>NaN</td>\n",
              "    </tr>\n",
              "    <tr>\n",
              "      <th>해외영업팀</th>\n",
              "      <td>1430.0</td>\n",
              "      <td>788.0</td>\n",
              "      <td>NaN</td>\n",
              "      <td>1680.0</td>\n",
              "      <td>NaN</td>\n",
              "    </tr>\n",
              "  </tbody>\n",
              "</table>\n",
              "</div>"
            ],
            "text/plain": [
              "연도       2014    2015    2016    2017   2019\n",
              "부서                                          \n",
              "영업1팀    876.0  1698.0     NaN     NaN  980.0\n",
              "영업2팀      NaN   877.0  1700.0     NaN    NaN\n",
              "해외영업팀  1430.0   788.0     NaN  1680.0    NaN"
            ]
          },
          "metadata": {
            "tags": []
          },
          "execution_count": 27
        }
      ]
    },
    {
      "cell_type": "code",
      "metadata": {
        "id": "GhVDSor9s2Di"
      },
      "source": [
        "#NaN을 전부 0으로 처리하자\n",
        "updated = grouped.unstack().fillna(0)\n"
      ],
      "execution_count": 30,
      "outputs": []
    },
    {
      "cell_type": "markdown",
      "metadata": {
        "id": "GmJRdNi0vdbf"
      },
      "source": [
        "# **Aggregation**"
      ]
    },
    {
      "cell_type": "code",
      "metadata": {
        "colab": {
          "base_uri": "https://localhost:8080/"
        },
        "id": "H3QxDjJms2BD",
        "outputId": "f3ed53a7-4729-4350-baf1-d3fe9712ccbd"
      },
      "source": [
        "grouped2 = data.groupby('부서')\n",
        "for name, group in grouped2:\n",
        "  print(name)\n",
        "  print(group)"
      ],
      "execution_count": 33,
      "outputs": [
        {
          "output_type": "stream",
          "text": [
            "영업1팀\n",
            "     부서  순위    연도  매출액\n",
            "0  영업1팀   1  2014  876\n",
            "1  영업1팀   2  2015  788\n",
            "5  영업1팀   1  2015  910\n",
            "7  영업1팀   1  2019  980\n",
            "영업2팀\n",
            "      부서  순위    연도  매출액\n",
            "2   영업2팀   1  2016  900\n",
            "9   영업2팀   2  2016  800\n",
            "10  영업2팀   1  2015  877\n",
            "해외영업팀\n",
            "       부서  순위    연도  매출액\n",
            "3   해외영업팀   3  2014  670\n",
            "4   해외영업팀   2  2017  770\n",
            "6   해외영업팀   1  2014  760\n",
            "8   해외영업팀   3  2017  910\n",
            "11  해외영업팀   2  2015  788\n"
          ],
          "name": "stdout"
        }
      ]
    },
    {
      "cell_type": "code",
      "metadata": {
        "colab": {
          "base_uri": "https://localhost:8080/",
          "height": 198
        },
        "id": "RrVFIyo1s1-r",
        "outputId": "0910859c-b503-459f-9904-98cec0c3367d"
      },
      "source": [
        "grouped2.agg([np.sum, np.mean])"
      ],
      "execution_count": 35,
      "outputs": [
        {
          "output_type": "execute_result",
          "data": {
            "text/html": [
              "<div>\n",
              "<style scoped>\n",
              "    .dataframe tbody tr th:only-of-type {\n",
              "        vertical-align: middle;\n",
              "    }\n",
              "\n",
              "    .dataframe tbody tr th {\n",
              "        vertical-align: top;\n",
              "    }\n",
              "\n",
              "    .dataframe thead tr th {\n",
              "        text-align: left;\n",
              "    }\n",
              "\n",
              "    .dataframe thead tr:last-of-type th {\n",
              "        text-align: right;\n",
              "    }\n",
              "</style>\n",
              "<table border=\"1\" class=\"dataframe\">\n",
              "  <thead>\n",
              "    <tr>\n",
              "      <th></th>\n",
              "      <th colspan=\"2\" halign=\"left\">순위</th>\n",
              "      <th colspan=\"2\" halign=\"left\">연도</th>\n",
              "      <th colspan=\"2\" halign=\"left\">매출액</th>\n",
              "    </tr>\n",
              "    <tr>\n",
              "      <th></th>\n",
              "      <th>sum</th>\n",
              "      <th>mean</th>\n",
              "      <th>sum</th>\n",
              "      <th>mean</th>\n",
              "      <th>sum</th>\n",
              "      <th>mean</th>\n",
              "    </tr>\n",
              "    <tr>\n",
              "      <th>부서</th>\n",
              "      <th></th>\n",
              "      <th></th>\n",
              "      <th></th>\n",
              "      <th></th>\n",
              "      <th></th>\n",
              "      <th></th>\n",
              "    </tr>\n",
              "  </thead>\n",
              "  <tbody>\n",
              "    <tr>\n",
              "      <th>영업1팀</th>\n",
              "      <td>5</td>\n",
              "      <td>1.250000</td>\n",
              "      <td>8063</td>\n",
              "      <td>2015.750000</td>\n",
              "      <td>3554</td>\n",
              "      <td>888.5</td>\n",
              "    </tr>\n",
              "    <tr>\n",
              "      <th>영업2팀</th>\n",
              "      <td>4</td>\n",
              "      <td>1.333333</td>\n",
              "      <td>6047</td>\n",
              "      <td>2015.666667</td>\n",
              "      <td>2577</td>\n",
              "      <td>859.0</td>\n",
              "    </tr>\n",
              "    <tr>\n",
              "      <th>해외영업팀</th>\n",
              "      <td>11</td>\n",
              "      <td>2.200000</td>\n",
              "      <td>10077</td>\n",
              "      <td>2015.400000</td>\n",
              "      <td>3898</td>\n",
              "      <td>779.6</td>\n",
              "    </tr>\n",
              "  </tbody>\n",
              "</table>\n",
              "</div>"
            ],
            "text/plain": [
              "       순위               연도                매출액       \n",
              "      sum      mean    sum         mean   sum   mean\n",
              "부서                                                  \n",
              "영업1팀    5  1.250000   8063  2015.750000  3554  888.5\n",
              "영업2팀    4  1.333333   6047  2015.666667  2577  859.0\n",
              "해외영업팀  11  2.200000  10077  2015.400000  3898  779.6"
            ]
          },
          "metadata": {
            "tags": []
          },
          "execution_count": 35
        }
      ]
    },
    {
      "cell_type": "code",
      "metadata": {
        "colab": {
          "base_uri": "https://localhost:8080/"
        },
        "id": "FqTQTVq-s18G",
        "outputId": "fde3ea70-328e-4ed9-ae37-a6726ee557ec"
      },
      "source": [
        "data.groupby('부서')['매출액'].sum()"
      ],
      "execution_count": 36,
      "outputs": [
        {
          "output_type": "execute_result",
          "data": {
            "text/plain": [
              "부서\n",
              "영업1팀     3554\n",
              "영업2팀     2577\n",
              "해외영업팀    3898\n",
              "Name: 매출액, dtype: int64"
            ]
          },
          "metadata": {
            "tags": []
          },
          "execution_count": 36
        }
      ]
    },
    {
      "cell_type": "code",
      "metadata": {
        "colab": {
          "base_uri": "https://localhost:8080/"
        },
        "id": "0ZnIWuLKs15r",
        "outputId": "29c97fbf-3b45-4aa6-d825-1992b7ec436e"
      },
      "source": [
        "data.groupby('부서')['매출액'].agg(np.sum)"
      ],
      "execution_count": 37,
      "outputs": [
        {
          "output_type": "execute_result",
          "data": {
            "text/plain": [
              "부서\n",
              "영업1팀     3554\n",
              "영업2팀     2577\n",
              "해외영업팀    3898\n",
              "Name: 매출액, dtype: int64"
            ]
          },
          "metadata": {
            "tags": []
          },
          "execution_count": 37
        }
      ]
    },
    {
      "cell_type": "code",
      "metadata": {
        "colab": {
          "base_uri": "https://localhost:8080/",
          "height": 318
        },
        "id": "bA-n5h8ds13P",
        "outputId": "16238809-7fa6-4f7f-b31e-4cf1d7398d1a"
      },
      "source": [
        "#filter와 함께 사용하기.\n",
        "data.groupby('부서').filter(lambda x : len(x) > 3) #행의 갯수가 3개 이상인 데이터 출력"
      ],
      "execution_count": 40,
      "outputs": [
        {
          "output_type": "execute_result",
          "data": {
            "text/html": [
              "<div>\n",
              "<style scoped>\n",
              "    .dataframe tbody tr th:only-of-type {\n",
              "        vertical-align: middle;\n",
              "    }\n",
              "\n",
              "    .dataframe tbody tr th {\n",
              "        vertical-align: top;\n",
              "    }\n",
              "\n",
              "    .dataframe thead th {\n",
              "        text-align: right;\n",
              "    }\n",
              "</style>\n",
              "<table border=\"1\" class=\"dataframe\">\n",
              "  <thead>\n",
              "    <tr style=\"text-align: right;\">\n",
              "      <th></th>\n",
              "      <th>부서</th>\n",
              "      <th>순위</th>\n",
              "      <th>연도</th>\n",
              "      <th>매출액</th>\n",
              "    </tr>\n",
              "  </thead>\n",
              "  <tbody>\n",
              "    <tr>\n",
              "      <th>0</th>\n",
              "      <td>영업1팀</td>\n",
              "      <td>1</td>\n",
              "      <td>2014</td>\n",
              "      <td>876</td>\n",
              "    </tr>\n",
              "    <tr>\n",
              "      <th>1</th>\n",
              "      <td>영업1팀</td>\n",
              "      <td>2</td>\n",
              "      <td>2015</td>\n",
              "      <td>788</td>\n",
              "    </tr>\n",
              "    <tr>\n",
              "      <th>3</th>\n",
              "      <td>해외영업팀</td>\n",
              "      <td>3</td>\n",
              "      <td>2014</td>\n",
              "      <td>670</td>\n",
              "    </tr>\n",
              "    <tr>\n",
              "      <th>4</th>\n",
              "      <td>해외영업팀</td>\n",
              "      <td>2</td>\n",
              "      <td>2017</td>\n",
              "      <td>770</td>\n",
              "    </tr>\n",
              "    <tr>\n",
              "      <th>5</th>\n",
              "      <td>영업1팀</td>\n",
              "      <td>1</td>\n",
              "      <td>2015</td>\n",
              "      <td>910</td>\n",
              "    </tr>\n",
              "    <tr>\n",
              "      <th>6</th>\n",
              "      <td>해외영업팀</td>\n",
              "      <td>1</td>\n",
              "      <td>2014</td>\n",
              "      <td>760</td>\n",
              "    </tr>\n",
              "    <tr>\n",
              "      <th>7</th>\n",
              "      <td>영업1팀</td>\n",
              "      <td>1</td>\n",
              "      <td>2019</td>\n",
              "      <td>980</td>\n",
              "    </tr>\n",
              "    <tr>\n",
              "      <th>8</th>\n",
              "      <td>해외영업팀</td>\n",
              "      <td>3</td>\n",
              "      <td>2017</td>\n",
              "      <td>910</td>\n",
              "    </tr>\n",
              "    <tr>\n",
              "      <th>11</th>\n",
              "      <td>해외영업팀</td>\n",
              "      <td>2</td>\n",
              "      <td>2015</td>\n",
              "      <td>788</td>\n",
              "    </tr>\n",
              "  </tbody>\n",
              "</table>\n",
              "</div>"
            ],
            "text/plain": [
              "       부서  순위    연도  매출액\n",
              "0    영업1팀   1  2014  876\n",
              "1    영업1팀   2  2015  788\n",
              "3   해외영업팀   3  2014  670\n",
              "4   해외영업팀   2  2017  770\n",
              "5    영업1팀   1  2015  910\n",
              "6   해외영업팀   1  2014  760\n",
              "7    영업1팀   1  2019  980\n",
              "8   해외영업팀   3  2017  910\n",
              "11  해외영업팀   2  2015  788"
            ]
          },
          "metadata": {
            "tags": []
          },
          "execution_count": 40
        }
      ]
    },
    {
      "cell_type": "code",
      "metadata": {
        "colab": {
          "base_uri": "https://localhost:8080/",
          "height": 258
        },
        "id": "-D_PZifNs10m",
        "outputId": "dbadc879-6a60-4070-8ad9-7bbe9d6616d2"
      },
      "source": [
        "#각 부서별로 매출액의 평균이 850이상인 데이터만 보자.\n",
        "data.groupby('부서').filter(lambda x : x['매출액'].mean() > 850)"
      ],
      "execution_count": 41,
      "outputs": [
        {
          "output_type": "execute_result",
          "data": {
            "text/html": [
              "<div>\n",
              "<style scoped>\n",
              "    .dataframe tbody tr th:only-of-type {\n",
              "        vertical-align: middle;\n",
              "    }\n",
              "\n",
              "    .dataframe tbody tr th {\n",
              "        vertical-align: top;\n",
              "    }\n",
              "\n",
              "    .dataframe thead th {\n",
              "        text-align: right;\n",
              "    }\n",
              "</style>\n",
              "<table border=\"1\" class=\"dataframe\">\n",
              "  <thead>\n",
              "    <tr style=\"text-align: right;\">\n",
              "      <th></th>\n",
              "      <th>부서</th>\n",
              "      <th>순위</th>\n",
              "      <th>연도</th>\n",
              "      <th>매출액</th>\n",
              "    </tr>\n",
              "  </thead>\n",
              "  <tbody>\n",
              "    <tr>\n",
              "      <th>0</th>\n",
              "      <td>영업1팀</td>\n",
              "      <td>1</td>\n",
              "      <td>2014</td>\n",
              "      <td>876</td>\n",
              "    </tr>\n",
              "    <tr>\n",
              "      <th>1</th>\n",
              "      <td>영업1팀</td>\n",
              "      <td>2</td>\n",
              "      <td>2015</td>\n",
              "      <td>788</td>\n",
              "    </tr>\n",
              "    <tr>\n",
              "      <th>2</th>\n",
              "      <td>영업2팀</td>\n",
              "      <td>1</td>\n",
              "      <td>2016</td>\n",
              "      <td>900</td>\n",
              "    </tr>\n",
              "    <tr>\n",
              "      <th>5</th>\n",
              "      <td>영업1팀</td>\n",
              "      <td>1</td>\n",
              "      <td>2015</td>\n",
              "      <td>910</td>\n",
              "    </tr>\n",
              "    <tr>\n",
              "      <th>7</th>\n",
              "      <td>영업1팀</td>\n",
              "      <td>1</td>\n",
              "      <td>2019</td>\n",
              "      <td>980</td>\n",
              "    </tr>\n",
              "    <tr>\n",
              "      <th>9</th>\n",
              "      <td>영업2팀</td>\n",
              "      <td>2</td>\n",
              "      <td>2016</td>\n",
              "      <td>800</td>\n",
              "    </tr>\n",
              "    <tr>\n",
              "      <th>10</th>\n",
              "      <td>영업2팀</td>\n",
              "      <td>1</td>\n",
              "      <td>2015</td>\n",
              "      <td>877</td>\n",
              "    </tr>\n",
              "  </tbody>\n",
              "</table>\n",
              "</div>"
            ],
            "text/plain": [
              "      부서  순위    연도  매출액\n",
              "0   영업1팀   1  2014  876\n",
              "1   영업1팀   2  2015  788\n",
              "2   영업2팀   1  2016  900\n",
              "5   영업1팀   1  2015  910\n",
              "7   영업1팀   1  2019  980\n",
              "9   영업2팀   2  2016  800\n",
              "10  영업2팀   1  2015  877"
            ]
          },
          "metadata": {
            "tags": []
          },
          "execution_count": 41
        }
      ]
    },
    {
      "cell_type": "code",
      "metadata": {
        "colab": {
          "base_uri": "https://localhost:8080/",
          "height": 168
        },
        "id": "KpdWjGyVs1yY",
        "outputId": "77c1c3c4-476e-4072-bbe8-fe5329be2a67"
      },
      "source": [
        "data.groupby('부서').filter(lambda x : x['매출액'].mean() > 880)\n",
        "#data.groupby('부서')['매출액'].mean()랑 비교"
      ],
      "execution_count": 43,
      "outputs": [
        {
          "output_type": "execute_result",
          "data": {
            "text/html": [
              "<div>\n",
              "<style scoped>\n",
              "    .dataframe tbody tr th:only-of-type {\n",
              "        vertical-align: middle;\n",
              "    }\n",
              "\n",
              "    .dataframe tbody tr th {\n",
              "        vertical-align: top;\n",
              "    }\n",
              "\n",
              "    .dataframe thead th {\n",
              "        text-align: right;\n",
              "    }\n",
              "</style>\n",
              "<table border=\"1\" class=\"dataframe\">\n",
              "  <thead>\n",
              "    <tr style=\"text-align: right;\">\n",
              "      <th></th>\n",
              "      <th>부서</th>\n",
              "      <th>순위</th>\n",
              "      <th>연도</th>\n",
              "      <th>매출액</th>\n",
              "    </tr>\n",
              "  </thead>\n",
              "  <tbody>\n",
              "    <tr>\n",
              "      <th>0</th>\n",
              "      <td>영업1팀</td>\n",
              "      <td>1</td>\n",
              "      <td>2014</td>\n",
              "      <td>876</td>\n",
              "    </tr>\n",
              "    <tr>\n",
              "      <th>1</th>\n",
              "      <td>영업1팀</td>\n",
              "      <td>2</td>\n",
              "      <td>2015</td>\n",
              "      <td>788</td>\n",
              "    </tr>\n",
              "    <tr>\n",
              "      <th>5</th>\n",
              "      <td>영업1팀</td>\n",
              "      <td>1</td>\n",
              "      <td>2015</td>\n",
              "      <td>910</td>\n",
              "    </tr>\n",
              "    <tr>\n",
              "      <th>7</th>\n",
              "      <td>영업1팀</td>\n",
              "      <td>1</td>\n",
              "      <td>2019</td>\n",
              "      <td>980</td>\n",
              "    </tr>\n",
              "  </tbody>\n",
              "</table>\n",
              "</div>"
            ],
            "text/plain": [
              "     부서  순위    연도  매출액\n",
              "0  영업1팀   1  2014  876\n",
              "1  영업1팀   2  2015  788\n",
              "5  영업1팀   1  2015  910\n",
              "7  영업1팀   1  2019  980"
            ]
          },
          "metadata": {
            "tags": []
          },
          "execution_count": 43
        }
      ]
    },
    {
      "cell_type": "code",
      "metadata": {
        "colab": {
          "base_uri": "https://localhost:8080/",
          "height": 198
        },
        "id": "z35jU-qds1v1",
        "outputId": "9c6d2fa4-7afb-4240-c936-2334d89bf740"
      },
      "source": [
        "#2015년도 초과하는 연도별 데이터  결과\n",
        "data.groupby('연도').filter(lambda x : x['연도'].min() > 2015)"
      ],
      "execution_count": 50,
      "outputs": [
        {
          "output_type": "execute_result",
          "data": {
            "text/html": [
              "<div>\n",
              "<style scoped>\n",
              "    .dataframe tbody tr th:only-of-type {\n",
              "        vertical-align: middle;\n",
              "    }\n",
              "\n",
              "    .dataframe tbody tr th {\n",
              "        vertical-align: top;\n",
              "    }\n",
              "\n",
              "    .dataframe thead th {\n",
              "        text-align: right;\n",
              "    }\n",
              "</style>\n",
              "<table border=\"1\" class=\"dataframe\">\n",
              "  <thead>\n",
              "    <tr style=\"text-align: right;\">\n",
              "      <th></th>\n",
              "      <th>부서</th>\n",
              "      <th>순위</th>\n",
              "      <th>연도</th>\n",
              "      <th>매출액</th>\n",
              "    </tr>\n",
              "  </thead>\n",
              "  <tbody>\n",
              "    <tr>\n",
              "      <th>2</th>\n",
              "      <td>영업2팀</td>\n",
              "      <td>1</td>\n",
              "      <td>2016</td>\n",
              "      <td>900</td>\n",
              "    </tr>\n",
              "    <tr>\n",
              "      <th>4</th>\n",
              "      <td>해외영업팀</td>\n",
              "      <td>2</td>\n",
              "      <td>2017</td>\n",
              "      <td>770</td>\n",
              "    </tr>\n",
              "    <tr>\n",
              "      <th>7</th>\n",
              "      <td>영업1팀</td>\n",
              "      <td>1</td>\n",
              "      <td>2019</td>\n",
              "      <td>980</td>\n",
              "    </tr>\n",
              "    <tr>\n",
              "      <th>8</th>\n",
              "      <td>해외영업팀</td>\n",
              "      <td>3</td>\n",
              "      <td>2017</td>\n",
              "      <td>910</td>\n",
              "    </tr>\n",
              "    <tr>\n",
              "      <th>9</th>\n",
              "      <td>영업2팀</td>\n",
              "      <td>2</td>\n",
              "      <td>2016</td>\n",
              "      <td>800</td>\n",
              "    </tr>\n",
              "  </tbody>\n",
              "</table>\n",
              "</div>"
            ],
            "text/plain": [
              "      부서  순위    연도  매출액\n",
              "2   영업2팀   1  2016  900\n",
              "4  해외영업팀   2  2017  770\n",
              "7   영업1팀   1  2019  980\n",
              "8  해외영업팀   3  2017  910\n",
              "9   영업2팀   2  2016  800"
            ]
          },
          "metadata": {
            "tags": []
          },
          "execution_count": 50
        }
      ]
    },
    {
      "cell_type": "markdown",
      "metadata": {
        "id": "bWvnW-0q04gc"
      },
      "source": [
        "# **Pivot Table**"
      ]
    },
    {
      "cell_type": "markdown",
      "metadata": {
        "id": "GtJoXH69dnUW"
      },
      "source": [
        ""
      ]
    }
  ]
}