{
  "nbformat": 4,
  "nbformat_minor": 0,
  "metadata": {
    "colab": {
      "name": "Day0329_Pandas_GroupBy.ipynb",
      "provenance": [],
      "collapsed_sections": [],
      "authorship_tag": "ABX9TyMN7TJaqZRJD1T45r05oIdB",
      "include_colab_link": true
    },
    "kernelspec": {
      "name": "python3",
      "display_name": "Python 3"
    },
    "language_info": {
      "name": "python"
    }
  },
  "cells": [
    {
      "cell_type": "markdown",
      "metadata": {
        "id": "view-in-github",
        "colab_type": "text"
      },
      "source": [
        "<a href=\"https://colab.research.google.com/github/kdstheace/Python-Study/blob/main/Day0329_Pandas_GroupBy.ipynb\" target=\"_parent\"><img src=\"https://colab.research.google.com/assets/colab-badge.svg\" alt=\"Open In Colab\"/></a>"
      ]
    },
    {
      "cell_type": "markdown",
      "metadata": {
        "id": "b_x5sDN0dtr2"
      },
      "source": [
        "# **GroupBy의 사용**\n",
        "- SQL문의 groupby와 유사"
      ]
    },
    {
      "cell_type": "code",
      "metadata": {
        "id": "yohUDhRHdsy3"
      },
      "source": [
        "from pandas import Series, DataFrame\n",
        "import pandas as pd\n",
        "import numpy as np"
      ],
      "execution_count": 3,
      "outputs": []
    },
    {
      "cell_type": "code",
      "metadata": {
        "colab": {
          "base_uri": "https://localhost:8080/",
          "height": 408
        },
        "id": "xZvXyMZKds1N",
        "outputId": "137f002b-66ef-4038-c94f-3aea57e48c2f"
      },
      "source": [
        "data = DataFrame({\n",
        "    '부서' : [\"영업1팀\", \"영업1팀\", \"영업2팀\", \"해외영업팀\", \"해외영업팀\",\"영업1팀\",\\\n",
        "            \"해외영업팀\", \"영업1팀\", \"해외영업팀\", \"영업2팀\", \"영업2팀\", \"해외영업팀\"],\n",
        "    '순위' : [1, 2, 1, 3, 2, 1, 1, 1, 3, 2, 1, 2],\n",
        "    '연도' : [2014, 2015, 2016, 2014, 2017, 2015, 2014, 2019, 2017, 2016, 2015, 2015],\n",
        "    '매출액' : [876, 788, 900, 670, 770, 910, 760, 980, 910, 800, 877, 788]\n",
        "\n",
        "})\n",
        "data"
      ],
      "execution_count": 4,
      "outputs": [
        {
          "output_type": "execute_result",
          "data": {
            "text/html": [
              "<div>\n",
              "<style scoped>\n",
              "    .dataframe tbody tr th:only-of-type {\n",
              "        vertical-align: middle;\n",
              "    }\n",
              "\n",
              "    .dataframe tbody tr th {\n",
              "        vertical-align: top;\n",
              "    }\n",
              "\n",
              "    .dataframe thead th {\n",
              "        text-align: right;\n",
              "    }\n",
              "</style>\n",
              "<table border=\"1\" class=\"dataframe\">\n",
              "  <thead>\n",
              "    <tr style=\"text-align: right;\">\n",
              "      <th></th>\n",
              "      <th>부서</th>\n",
              "      <th>순위</th>\n",
              "      <th>연도</th>\n",
              "      <th>매출액</th>\n",
              "    </tr>\n",
              "  </thead>\n",
              "  <tbody>\n",
              "    <tr>\n",
              "      <th>0</th>\n",
              "      <td>영업1팀</td>\n",
              "      <td>1</td>\n",
              "      <td>2014</td>\n",
              "      <td>876</td>\n",
              "    </tr>\n",
              "    <tr>\n",
              "      <th>1</th>\n",
              "      <td>영업1팀</td>\n",
              "      <td>2</td>\n",
              "      <td>2015</td>\n",
              "      <td>788</td>\n",
              "    </tr>\n",
              "    <tr>\n",
              "      <th>2</th>\n",
              "      <td>영업2팀</td>\n",
              "      <td>1</td>\n",
              "      <td>2016</td>\n",
              "      <td>900</td>\n",
              "    </tr>\n",
              "    <tr>\n",
              "      <th>3</th>\n",
              "      <td>해외영업팀</td>\n",
              "      <td>3</td>\n",
              "      <td>2014</td>\n",
              "      <td>670</td>\n",
              "    </tr>\n",
              "    <tr>\n",
              "      <th>4</th>\n",
              "      <td>해외영업팀</td>\n",
              "      <td>2</td>\n",
              "      <td>2017</td>\n",
              "      <td>770</td>\n",
              "    </tr>\n",
              "    <tr>\n",
              "      <th>5</th>\n",
              "      <td>영업1팀</td>\n",
              "      <td>1</td>\n",
              "      <td>2015</td>\n",
              "      <td>910</td>\n",
              "    </tr>\n",
              "    <tr>\n",
              "      <th>6</th>\n",
              "      <td>해외영업팀</td>\n",
              "      <td>1</td>\n",
              "      <td>2014</td>\n",
              "      <td>760</td>\n",
              "    </tr>\n",
              "    <tr>\n",
              "      <th>7</th>\n",
              "      <td>영업1팀</td>\n",
              "      <td>1</td>\n",
              "      <td>2019</td>\n",
              "      <td>980</td>\n",
              "    </tr>\n",
              "    <tr>\n",
              "      <th>8</th>\n",
              "      <td>해외영업팀</td>\n",
              "      <td>3</td>\n",
              "      <td>2017</td>\n",
              "      <td>910</td>\n",
              "    </tr>\n",
              "    <tr>\n",
              "      <th>9</th>\n",
              "      <td>영업2팀</td>\n",
              "      <td>2</td>\n",
              "      <td>2016</td>\n",
              "      <td>800</td>\n",
              "    </tr>\n",
              "    <tr>\n",
              "      <th>10</th>\n",
              "      <td>영업2팀</td>\n",
              "      <td>1</td>\n",
              "      <td>2015</td>\n",
              "      <td>877</td>\n",
              "    </tr>\n",
              "    <tr>\n",
              "      <th>11</th>\n",
              "      <td>해외영업팀</td>\n",
              "      <td>2</td>\n",
              "      <td>2015</td>\n",
              "      <td>788</td>\n",
              "    </tr>\n",
              "  </tbody>\n",
              "</table>\n",
              "</div>"
            ],
            "text/plain": [
              "       부서  순위    연도  매출액\n",
              "0    영업1팀   1  2014  876\n",
              "1    영업1팀   2  2015  788\n",
              "2    영업2팀   1  2016  900\n",
              "3   해외영업팀   3  2014  670\n",
              "4   해외영업팀   2  2017  770\n",
              "5    영업1팀   1  2015  910\n",
              "6   해외영업팀   1  2014  760\n",
              "7    영업1팀   1  2019  980\n",
              "8   해외영업팀   3  2017  910\n",
              "9    영업2팀   2  2016  800\n",
              "10   영업2팀   1  2015  877\n",
              "11  해외영업팀   2  2015  788"
            ]
          },
          "metadata": {
            "tags": []
          },
          "execution_count": 4
        }
      ]
    },
    {
      "cell_type": "code",
      "metadata": {
        "id": "SsQ9rO1Hds30"
      },
      "source": [
        ""
      ],
      "execution_count": null,
      "outputs": []
    },
    {
      "cell_type": "code",
      "metadata": {
        "id": "GjmkZkoods6d"
      },
      "source": [
        ""
      ],
      "execution_count": null,
      "outputs": []
    },
    {
      "cell_type": "code",
      "metadata": {
        "id": "Q1thzBkcds9C"
      },
      "source": [
        ""
      ],
      "execution_count": null,
      "outputs": []
    },
    {
      "cell_type": "code",
      "metadata": {
        "id": "q44saQ35ds_U"
      },
      "source": [
        ""
      ],
      "execution_count": null,
      "outputs": []
    },
    {
      "cell_type": "code",
      "metadata": {
        "id": "l7T2nqctdtB8"
      },
      "source": [
        ""
      ],
      "execution_count": null,
      "outputs": []
    },
    {
      "cell_type": "markdown",
      "metadata": {
        "id": "GtJoXH69dnUW"
      },
      "source": [
        ""
      ]
    }
  ]
}