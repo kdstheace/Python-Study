{
  "nbformat": 4,
  "nbformat_minor": 0,
  "metadata": {
    "colab": {
      "name": "Day0329_Pandas_GroupBy.ipynb",
      "provenance": [],
      "collapsed_sections": [],
      "mount_file_id": "1jacTvgllM09f9uL4mVt_Lp1vWgELjbJG",
      "authorship_tag": "ABX9TyOA23qyJIjmeqMgMlybRxLG",
      "include_colab_link": true
    },
    "kernelspec": {
      "name": "python3",
      "display_name": "Python 3"
    },
    "language_info": {
      "name": "python"
    }
  },
  "cells": [
    {
      "cell_type": "markdown",
      "metadata": {
        "id": "view-in-github",
        "colab_type": "text"
      },
      "source": [
        "<a href=\"https://colab.research.google.com/github/kdstheace/Python-Study/blob/main/Day0329_Pandas_GroupBy.ipynb\" target=\"_parent\"><img src=\"https://colab.research.google.com/assets/colab-badge.svg\" alt=\"Open In Colab\"/></a>"
      ]
    },
    {
      "cell_type": "markdown",
      "metadata": {
        "id": "b_x5sDN0dtr2"
      },
      "source": [
        "# **GroupBy의 사용**\n",
        "- SQL문의 groupby와 유사"
      ]
    },
    {
      "cell_type": "code",
      "metadata": {
        "id": "yohUDhRHdsy3"
      },
      "source": [
        "from pandas import Series, DataFrame\n",
        "import pandas as pd\n",
        "import numpy as np"
      ],
      "execution_count": null,
      "outputs": []
    },
    {
      "cell_type": "code",
      "metadata": {
        "colab": {
          "base_uri": "https://localhost:8080/",
          "height": 408
        },
        "id": "xZvXyMZKds1N",
        "outputId": "3016f8ed-720a-4c2a-9c0e-0ea2d896afb5"
      },
      "source": [
        "data = DataFrame({\n",
        "    '부서' : [\"영업1팀\", \"영업1팀\", \"영업2팀\", \"해외영업팀\", \"해외영업팀\",\"영업1팀\",\\\n",
        "            \"해외영업팀\", \"영업1팀\", \"해외영업팀\", \"영업2팀\", \"영업2팀\", \"해외영업팀\"],\n",
        "    '순위' : [1, 2, 1, 3, 2, 1, 1, 1, 3, 2, 1, 2],\n",
        "    '연도' : [2014, 2015, 2016, 2014, 2017, 2015, 2014, 2019, 2017, 2016, 2015, 2015],\n",
        "    '매출액' : [876, 788, 900, 670, 770, 910, 760, 980, 910, 800, 877, 788]\n",
        "\n",
        "})\n",
        "data"
      ],
      "execution_count": null,
      "outputs": [
        {
          "output_type": "execute_result",
          "data": {
            "text/html": [
              "<div>\n",
              "<style scoped>\n",
              "    .dataframe tbody tr th:only-of-type {\n",
              "        vertical-align: middle;\n",
              "    }\n",
              "\n",
              "    .dataframe tbody tr th {\n",
              "        vertical-align: top;\n",
              "    }\n",
              "\n",
              "    .dataframe thead th {\n",
              "        text-align: right;\n",
              "    }\n",
              "</style>\n",
              "<table border=\"1\" class=\"dataframe\">\n",
              "  <thead>\n",
              "    <tr style=\"text-align: right;\">\n",
              "      <th></th>\n",
              "      <th>부서</th>\n",
              "      <th>순위</th>\n",
              "      <th>연도</th>\n",
              "      <th>매출액</th>\n",
              "    </tr>\n",
              "  </thead>\n",
              "  <tbody>\n",
              "    <tr>\n",
              "      <th>0</th>\n",
              "      <td>영업1팀</td>\n",
              "      <td>1</td>\n",
              "      <td>2014</td>\n",
              "      <td>876</td>\n",
              "    </tr>\n",
              "    <tr>\n",
              "      <th>1</th>\n",
              "      <td>영업1팀</td>\n",
              "      <td>2</td>\n",
              "      <td>2015</td>\n",
              "      <td>788</td>\n",
              "    </tr>\n",
              "    <tr>\n",
              "      <th>2</th>\n",
              "      <td>영업2팀</td>\n",
              "      <td>1</td>\n",
              "      <td>2016</td>\n",
              "      <td>900</td>\n",
              "    </tr>\n",
              "    <tr>\n",
              "      <th>3</th>\n",
              "      <td>해외영업팀</td>\n",
              "      <td>3</td>\n",
              "      <td>2014</td>\n",
              "      <td>670</td>\n",
              "    </tr>\n",
              "    <tr>\n",
              "      <th>4</th>\n",
              "      <td>해외영업팀</td>\n",
              "      <td>2</td>\n",
              "      <td>2017</td>\n",
              "      <td>770</td>\n",
              "    </tr>\n",
              "    <tr>\n",
              "      <th>5</th>\n",
              "      <td>영업1팀</td>\n",
              "      <td>1</td>\n",
              "      <td>2015</td>\n",
              "      <td>910</td>\n",
              "    </tr>\n",
              "    <tr>\n",
              "      <th>6</th>\n",
              "      <td>해외영업팀</td>\n",
              "      <td>1</td>\n",
              "      <td>2014</td>\n",
              "      <td>760</td>\n",
              "    </tr>\n",
              "    <tr>\n",
              "      <th>7</th>\n",
              "      <td>영업1팀</td>\n",
              "      <td>1</td>\n",
              "      <td>2019</td>\n",
              "      <td>980</td>\n",
              "    </tr>\n",
              "    <tr>\n",
              "      <th>8</th>\n",
              "      <td>해외영업팀</td>\n",
              "      <td>3</td>\n",
              "      <td>2017</td>\n",
              "      <td>910</td>\n",
              "    </tr>\n",
              "    <tr>\n",
              "      <th>9</th>\n",
              "      <td>영업2팀</td>\n",
              "      <td>2</td>\n",
              "      <td>2016</td>\n",
              "      <td>800</td>\n",
              "    </tr>\n",
              "    <tr>\n",
              "      <th>10</th>\n",
              "      <td>영업2팀</td>\n",
              "      <td>1</td>\n",
              "      <td>2015</td>\n",
              "      <td>877</td>\n",
              "    </tr>\n",
              "    <tr>\n",
              "      <th>11</th>\n",
              "      <td>해외영업팀</td>\n",
              "      <td>2</td>\n",
              "      <td>2015</td>\n",
              "      <td>788</td>\n",
              "    </tr>\n",
              "  </tbody>\n",
              "</table>\n",
              "</div>"
            ],
            "text/plain": [
              "       부서  순위    연도  매출액\n",
              "0    영업1팀   1  2014  876\n",
              "1    영업1팀   2  2015  788\n",
              "2    영업2팀   1  2016  900\n",
              "3   해외영업팀   3  2014  670\n",
              "4   해외영업팀   2  2017  770\n",
              "5    영업1팀   1  2015  910\n",
              "6   해외영업팀   1  2014  760\n",
              "7    영업1팀   1  2019  980\n",
              "8   해외영업팀   3  2017  910\n",
              "9    영업2팀   2  2016  800\n",
              "10   영업2팀   1  2015  877\n",
              "11  해외영업팀   2  2015  788"
            ]
          },
          "metadata": {
            "tags": []
          },
          "execution_count": 4
        }
      ]
    },
    {
      "cell_type": "code",
      "metadata": {
        "id": "SsQ9rO1Hds30",
        "colab": {
          "base_uri": "https://localhost:8080/"
        },
        "outputId": "0c357bb8-81b6-4d30-f120-dbac5c93f0ea"
      },
      "source": [
        "#부서별로 매출액의 합계를 구할 때.\n",
        "data.groupby('부서')['매출액'].sum()"
      ],
      "execution_count": null,
      "outputs": [
        {
          "output_type": "execute_result",
          "data": {
            "text/plain": [
              "연도\n",
              "2014    2306\n",
              "2015    3363\n",
              "2016    1700\n",
              "2017    1680\n",
              "2019     980\n",
              "Name: 매출액, dtype: int64"
            ]
          },
          "metadata": {
            "tags": []
          },
          "execution_count": 9
        }
      ]
    },
    {
      "cell_type": "code",
      "metadata": {
        "id": "GjmkZkoods6d"
      },
      "source": [
        "#연도별로 매출액의 합\n",
        "data.groupby('연도')['매출액'].sum()"
      ],
      "execution_count": null,
      "outputs": []
    },
    {
      "cell_type": "code",
      "metadata": {
        "id": "Q1thzBkcds9C",
        "colab": {
          "base_uri": "https://localhost:8080/"
        },
        "outputId": "7e9ea409-6b5d-4703-a4dc-9b0d2d55b446"
      },
      "source": [
        "#각 부서별로 특정 연도의 매출액의 합계를 구하시오.\n",
        "data.groupby(['부서', '연도'])['매출액'].sum()"
      ],
      "execution_count": null,
      "outputs": [
        {
          "output_type": "execute_result",
          "data": {
            "text/plain": [
              "부서     연도  \n",
              "영업1팀   2014     876\n",
              "       2015    1698\n",
              "       2019     980\n",
              "영업2팀   2015     877\n",
              "       2016    1700\n",
              "해외영업팀  2014    1430\n",
              "       2015     788\n",
              "       2017    1680\n",
              "Name: 매출액, dtype: int64"
            ]
          },
          "metadata": {
            "tags": []
          },
          "execution_count": 11
        }
      ]
    },
    {
      "cell_type": "code",
      "metadata": {
        "id": "q44saQ35ds_U",
        "colab": {
          "base_uri": "https://localhost:8080/"
        },
        "outputId": "eb14b35e-54fb-4e60-bece-170a444bfa6f"
      },
      "source": [
        "#(멀티인덱스)각 부서별로 특정 연도의 매출액의 합계를 구하시오.\n",
        "grouped = data.groupby(['부서', '연도'])['매출액'].sum()\n",
        "print(grouped)\n",
        "grouped.index"
      ],
      "execution_count": null,
      "outputs": [
        {
          "output_type": "stream",
          "text": [
            "부서     연도  \n",
            "영업1팀   2014     876\n",
            "       2015    1698\n",
            "       2019     980\n",
            "영업2팀   2015     877\n",
            "       2016    1700\n",
            "해외영업팀  2014    1430\n",
            "       2015     788\n",
            "       2017    1680\n",
            "Name: 매출액, dtype: int64\n"
          ],
          "name": "stdout"
        },
        {
          "output_type": "execute_result",
          "data": {
            "text/plain": [
              "MultiIndex([( '영업1팀', 2014),\n",
              "            ( '영업1팀', 2015),\n",
              "            ( '영업1팀', 2019),\n",
              "            ( '영업2팀', 2015),\n",
              "            ( '영업2팀', 2016),\n",
              "            ('해외영업팀', 2014),\n",
              "            ('해외영업팀', 2015),\n",
              "            ('해외영업팀', 2017)],\n",
              "           names=['부서', '연도'])"
            ]
          },
          "metadata": {
            "tags": []
          },
          "execution_count": 13
        }
      ]
    },
    {
      "cell_type": "code",
      "metadata": {
        "id": "l7T2nqctdtB8",
        "colab": {
          "base_uri": "https://localhost:8080/"
        },
        "outputId": "61649cc0-635d-40be-90e6-6ea1b76f72d1"
      },
      "source": [
        "grouped['해외영업팀']"
      ],
      "execution_count": null,
      "outputs": [
        {
          "output_type": "execute_result",
          "data": {
            "text/plain": [
              "연도\n",
              "2014    1430\n",
              "2015     788\n",
              "2017    1680\n",
              "Name: 매출액, dtype: int64"
            ]
          },
          "metadata": {
            "tags": []
          },
          "execution_count": 15
        }
      ]
    },
    {
      "cell_type": "code",
      "metadata": {
        "colab": {
          "base_uri": "https://localhost:8080/"
        },
        "id": "1_l6hAf0s2Nk",
        "outputId": "ce0c7392-7566-4eb1-eeb3-5403253b4ae2"
      },
      "source": [
        "grouped[['영업1팀','영업2팀']]"
      ],
      "execution_count": null,
      "outputs": [
        {
          "output_type": "execute_result",
          "data": {
            "text/plain": [
              "부서    연도  \n",
              "영업1팀  2014     876\n",
              "      2015    1698\n",
              "      2019     980\n",
              "영업2팀  2015     877\n",
              "      2016    1700\n",
              "Name: 매출액, dtype: int64"
            ]
          },
          "metadata": {
            "tags": []
          },
          "execution_count": 17
        }
      ]
    },
    {
      "cell_type": "code",
      "metadata": {
        "colab": {
          "base_uri": "https://localhost:8080/"
        },
        "id": "oa71V35-s2K_",
        "outputId": "51e0901b-ef92-43ba-c7b7-886b3f2d4b81"
      },
      "source": [
        "grouped['영업1팀':'해외영업팀']"
      ],
      "execution_count": null,
      "outputs": [
        {
          "output_type": "execute_result",
          "data": {
            "text/plain": [
              "부서     연도  \n",
              "영업1팀   2014     876\n",
              "       2015    1698\n",
              "       2019     980\n",
              "영업2팀   2015     877\n",
              "       2016    1700\n",
              "해외영업팀  2014    1430\n",
              "       2015     788\n",
              "       2017    1680\n",
              "Name: 매출액, dtype: int64"
            ]
          },
          "metadata": {
            "tags": []
          },
          "execution_count": 19
        }
      ]
    },
    {
      "cell_type": "code",
      "metadata": {
        "colab": {
          "base_uri": "https://localhost:8080/",
          "height": 168
        },
        "id": "FsCAvS-qs2I6",
        "outputId": "4ce8895e-3ebd-4772-b095-fb8ac33fc316"
      },
      "source": [
        "grouped.unstack()"
      ],
      "execution_count": null,
      "outputs": [
        {
          "output_type": "execute_result",
          "data": {
            "text/html": [
              "<div>\n",
              "<style scoped>\n",
              "    .dataframe tbody tr th:only-of-type {\n",
              "        vertical-align: middle;\n",
              "    }\n",
              "\n",
              "    .dataframe tbody tr th {\n",
              "        vertical-align: top;\n",
              "    }\n",
              "\n",
              "    .dataframe thead th {\n",
              "        text-align: right;\n",
              "    }\n",
              "</style>\n",
              "<table border=\"1\" class=\"dataframe\">\n",
              "  <thead>\n",
              "    <tr style=\"text-align: right;\">\n",
              "      <th>연도</th>\n",
              "      <th>2014</th>\n",
              "      <th>2015</th>\n",
              "      <th>2016</th>\n",
              "      <th>2017</th>\n",
              "      <th>2019</th>\n",
              "    </tr>\n",
              "    <tr>\n",
              "      <th>부서</th>\n",
              "      <th></th>\n",
              "      <th></th>\n",
              "      <th></th>\n",
              "      <th></th>\n",
              "      <th></th>\n",
              "    </tr>\n",
              "  </thead>\n",
              "  <tbody>\n",
              "    <tr>\n",
              "      <th>영업1팀</th>\n",
              "      <td>876.0</td>\n",
              "      <td>1698.0</td>\n",
              "      <td>NaN</td>\n",
              "      <td>NaN</td>\n",
              "      <td>980.0</td>\n",
              "    </tr>\n",
              "    <tr>\n",
              "      <th>영업2팀</th>\n",
              "      <td>NaN</td>\n",
              "      <td>877.0</td>\n",
              "      <td>1700.0</td>\n",
              "      <td>NaN</td>\n",
              "      <td>NaN</td>\n",
              "    </tr>\n",
              "    <tr>\n",
              "      <th>해외영업팀</th>\n",
              "      <td>1430.0</td>\n",
              "      <td>788.0</td>\n",
              "      <td>NaN</td>\n",
              "      <td>1680.0</td>\n",
              "      <td>NaN</td>\n",
              "    </tr>\n",
              "  </tbody>\n",
              "</table>\n",
              "</div>"
            ],
            "text/plain": [
              "연도       2014    2015    2016    2017   2019\n",
              "부서                                          \n",
              "영업1팀    876.0  1698.0     NaN     NaN  980.0\n",
              "영업2팀      NaN   877.0  1700.0     NaN    NaN\n",
              "해외영업팀  1430.0   788.0     NaN  1680.0    NaN"
            ]
          },
          "metadata": {
            "tags": []
          },
          "execution_count": 27
        }
      ]
    },
    {
      "cell_type": "code",
      "metadata": {
        "id": "GhVDSor9s2Di"
      },
      "source": [
        "#NaN을 전부 0으로 처리하자\n",
        "updated = grouped.unstack().fillna(0)\n"
      ],
      "execution_count": null,
      "outputs": []
    },
    {
      "cell_type": "markdown",
      "metadata": {
        "id": "GmJRdNi0vdbf"
      },
      "source": [
        "# **Aggregation**"
      ]
    },
    {
      "cell_type": "code",
      "metadata": {
        "colab": {
          "base_uri": "https://localhost:8080/"
        },
        "id": "H3QxDjJms2BD",
        "outputId": "f3ed53a7-4729-4350-baf1-d3fe9712ccbd"
      },
      "source": [
        "grouped2 = data.groupby('부서')\n",
        "for name, group in grouped2:\n",
        "  print(name)\n",
        "  print(group)"
      ],
      "execution_count": null,
      "outputs": [
        {
          "output_type": "stream",
          "text": [
            "영업1팀\n",
            "     부서  순위    연도  매출액\n",
            "0  영업1팀   1  2014  876\n",
            "1  영업1팀   2  2015  788\n",
            "5  영업1팀   1  2015  910\n",
            "7  영업1팀   1  2019  980\n",
            "영업2팀\n",
            "      부서  순위    연도  매출액\n",
            "2   영업2팀   1  2016  900\n",
            "9   영업2팀   2  2016  800\n",
            "10  영업2팀   1  2015  877\n",
            "해외영업팀\n",
            "       부서  순위    연도  매출액\n",
            "3   해외영업팀   3  2014  670\n",
            "4   해외영업팀   2  2017  770\n",
            "6   해외영업팀   1  2014  760\n",
            "8   해외영업팀   3  2017  910\n",
            "11  해외영업팀   2  2015  788\n"
          ],
          "name": "stdout"
        }
      ]
    },
    {
      "cell_type": "code",
      "metadata": {
        "colab": {
          "base_uri": "https://localhost:8080/",
          "height": 198
        },
        "id": "RrVFIyo1s1-r",
        "outputId": "0910859c-b503-459f-9904-98cec0c3367d"
      },
      "source": [
        "grouped2.agg([np.sum, np.mean])"
      ],
      "execution_count": null,
      "outputs": [
        {
          "output_type": "execute_result",
          "data": {
            "text/html": [
              "<div>\n",
              "<style scoped>\n",
              "    .dataframe tbody tr th:only-of-type {\n",
              "        vertical-align: middle;\n",
              "    }\n",
              "\n",
              "    .dataframe tbody tr th {\n",
              "        vertical-align: top;\n",
              "    }\n",
              "\n",
              "    .dataframe thead tr th {\n",
              "        text-align: left;\n",
              "    }\n",
              "\n",
              "    .dataframe thead tr:last-of-type th {\n",
              "        text-align: right;\n",
              "    }\n",
              "</style>\n",
              "<table border=\"1\" class=\"dataframe\">\n",
              "  <thead>\n",
              "    <tr>\n",
              "      <th></th>\n",
              "      <th colspan=\"2\" halign=\"left\">순위</th>\n",
              "      <th colspan=\"2\" halign=\"left\">연도</th>\n",
              "      <th colspan=\"2\" halign=\"left\">매출액</th>\n",
              "    </tr>\n",
              "    <tr>\n",
              "      <th></th>\n",
              "      <th>sum</th>\n",
              "      <th>mean</th>\n",
              "      <th>sum</th>\n",
              "      <th>mean</th>\n",
              "      <th>sum</th>\n",
              "      <th>mean</th>\n",
              "    </tr>\n",
              "    <tr>\n",
              "      <th>부서</th>\n",
              "      <th></th>\n",
              "      <th></th>\n",
              "      <th></th>\n",
              "      <th></th>\n",
              "      <th></th>\n",
              "      <th></th>\n",
              "    </tr>\n",
              "  </thead>\n",
              "  <tbody>\n",
              "    <tr>\n",
              "      <th>영업1팀</th>\n",
              "      <td>5</td>\n",
              "      <td>1.250000</td>\n",
              "      <td>8063</td>\n",
              "      <td>2015.750000</td>\n",
              "      <td>3554</td>\n",
              "      <td>888.5</td>\n",
              "    </tr>\n",
              "    <tr>\n",
              "      <th>영업2팀</th>\n",
              "      <td>4</td>\n",
              "      <td>1.333333</td>\n",
              "      <td>6047</td>\n",
              "      <td>2015.666667</td>\n",
              "      <td>2577</td>\n",
              "      <td>859.0</td>\n",
              "    </tr>\n",
              "    <tr>\n",
              "      <th>해외영업팀</th>\n",
              "      <td>11</td>\n",
              "      <td>2.200000</td>\n",
              "      <td>10077</td>\n",
              "      <td>2015.400000</td>\n",
              "      <td>3898</td>\n",
              "      <td>779.6</td>\n",
              "    </tr>\n",
              "  </tbody>\n",
              "</table>\n",
              "</div>"
            ],
            "text/plain": [
              "       순위               연도                매출액       \n",
              "      sum      mean    sum         mean   sum   mean\n",
              "부서                                                  \n",
              "영업1팀    5  1.250000   8063  2015.750000  3554  888.5\n",
              "영업2팀    4  1.333333   6047  2015.666667  2577  859.0\n",
              "해외영업팀  11  2.200000  10077  2015.400000  3898  779.6"
            ]
          },
          "metadata": {
            "tags": []
          },
          "execution_count": 35
        }
      ]
    },
    {
      "cell_type": "code",
      "metadata": {
        "colab": {
          "base_uri": "https://localhost:8080/"
        },
        "id": "FqTQTVq-s18G",
        "outputId": "fde3ea70-328e-4ed9-ae37-a6726ee557ec"
      },
      "source": [
        "data.groupby('부서')['매출액'].sum()"
      ],
      "execution_count": null,
      "outputs": [
        {
          "output_type": "execute_result",
          "data": {
            "text/plain": [
              "부서\n",
              "영업1팀     3554\n",
              "영업2팀     2577\n",
              "해외영업팀    3898\n",
              "Name: 매출액, dtype: int64"
            ]
          },
          "metadata": {
            "tags": []
          },
          "execution_count": 36
        }
      ]
    },
    {
      "cell_type": "code",
      "metadata": {
        "colab": {
          "base_uri": "https://localhost:8080/"
        },
        "id": "0ZnIWuLKs15r",
        "outputId": "29c97fbf-3b45-4aa6-d825-1992b7ec436e"
      },
      "source": [
        "data.groupby('부서')['매출액'].agg(np.sum)"
      ],
      "execution_count": null,
      "outputs": [
        {
          "output_type": "execute_result",
          "data": {
            "text/plain": [
              "부서\n",
              "영업1팀     3554\n",
              "영업2팀     2577\n",
              "해외영업팀    3898\n",
              "Name: 매출액, dtype: int64"
            ]
          },
          "metadata": {
            "tags": []
          },
          "execution_count": 37
        }
      ]
    },
    {
      "cell_type": "code",
      "metadata": {
        "colab": {
          "base_uri": "https://localhost:8080/",
          "height": 318
        },
        "id": "bA-n5h8ds13P",
        "outputId": "16238809-7fa6-4f7f-b31e-4cf1d7398d1a"
      },
      "source": [
        "#filter와 함께 사용하기.\n",
        "data.groupby('부서').filter(lambda x : len(x) > 3) #행의 갯수가 3개 이상인 데이터 출력"
      ],
      "execution_count": null,
      "outputs": [
        {
          "output_type": "execute_result",
          "data": {
            "text/html": [
              "<div>\n",
              "<style scoped>\n",
              "    .dataframe tbody tr th:only-of-type {\n",
              "        vertical-align: middle;\n",
              "    }\n",
              "\n",
              "    .dataframe tbody tr th {\n",
              "        vertical-align: top;\n",
              "    }\n",
              "\n",
              "    .dataframe thead th {\n",
              "        text-align: right;\n",
              "    }\n",
              "</style>\n",
              "<table border=\"1\" class=\"dataframe\">\n",
              "  <thead>\n",
              "    <tr style=\"text-align: right;\">\n",
              "      <th></th>\n",
              "      <th>부서</th>\n",
              "      <th>순위</th>\n",
              "      <th>연도</th>\n",
              "      <th>매출액</th>\n",
              "    </tr>\n",
              "  </thead>\n",
              "  <tbody>\n",
              "    <tr>\n",
              "      <th>0</th>\n",
              "      <td>영업1팀</td>\n",
              "      <td>1</td>\n",
              "      <td>2014</td>\n",
              "      <td>876</td>\n",
              "    </tr>\n",
              "    <tr>\n",
              "      <th>1</th>\n",
              "      <td>영업1팀</td>\n",
              "      <td>2</td>\n",
              "      <td>2015</td>\n",
              "      <td>788</td>\n",
              "    </tr>\n",
              "    <tr>\n",
              "      <th>3</th>\n",
              "      <td>해외영업팀</td>\n",
              "      <td>3</td>\n",
              "      <td>2014</td>\n",
              "      <td>670</td>\n",
              "    </tr>\n",
              "    <tr>\n",
              "      <th>4</th>\n",
              "      <td>해외영업팀</td>\n",
              "      <td>2</td>\n",
              "      <td>2017</td>\n",
              "      <td>770</td>\n",
              "    </tr>\n",
              "    <tr>\n",
              "      <th>5</th>\n",
              "      <td>영업1팀</td>\n",
              "      <td>1</td>\n",
              "      <td>2015</td>\n",
              "      <td>910</td>\n",
              "    </tr>\n",
              "    <tr>\n",
              "      <th>6</th>\n",
              "      <td>해외영업팀</td>\n",
              "      <td>1</td>\n",
              "      <td>2014</td>\n",
              "      <td>760</td>\n",
              "    </tr>\n",
              "    <tr>\n",
              "      <th>7</th>\n",
              "      <td>영업1팀</td>\n",
              "      <td>1</td>\n",
              "      <td>2019</td>\n",
              "      <td>980</td>\n",
              "    </tr>\n",
              "    <tr>\n",
              "      <th>8</th>\n",
              "      <td>해외영업팀</td>\n",
              "      <td>3</td>\n",
              "      <td>2017</td>\n",
              "      <td>910</td>\n",
              "    </tr>\n",
              "    <tr>\n",
              "      <th>11</th>\n",
              "      <td>해외영업팀</td>\n",
              "      <td>2</td>\n",
              "      <td>2015</td>\n",
              "      <td>788</td>\n",
              "    </tr>\n",
              "  </tbody>\n",
              "</table>\n",
              "</div>"
            ],
            "text/plain": [
              "       부서  순위    연도  매출액\n",
              "0    영업1팀   1  2014  876\n",
              "1    영업1팀   2  2015  788\n",
              "3   해외영업팀   3  2014  670\n",
              "4   해외영업팀   2  2017  770\n",
              "5    영업1팀   1  2015  910\n",
              "6   해외영업팀   1  2014  760\n",
              "7    영업1팀   1  2019  980\n",
              "8   해외영업팀   3  2017  910\n",
              "11  해외영업팀   2  2015  788"
            ]
          },
          "metadata": {
            "tags": []
          },
          "execution_count": 40
        }
      ]
    },
    {
      "cell_type": "code",
      "metadata": {
        "colab": {
          "base_uri": "https://localhost:8080/",
          "height": 258
        },
        "id": "-D_PZifNs10m",
        "outputId": "dbadc879-6a60-4070-8ad9-7bbe9d6616d2"
      },
      "source": [
        "#각 부서별로 매출액의 평균이 850이상인 데이터만 보자.\n",
        "data.groupby('부서').filter(lambda x : x['매출액'].mean() > 850)"
      ],
      "execution_count": null,
      "outputs": [
        {
          "output_type": "execute_result",
          "data": {
            "text/html": [
              "<div>\n",
              "<style scoped>\n",
              "    .dataframe tbody tr th:only-of-type {\n",
              "        vertical-align: middle;\n",
              "    }\n",
              "\n",
              "    .dataframe tbody tr th {\n",
              "        vertical-align: top;\n",
              "    }\n",
              "\n",
              "    .dataframe thead th {\n",
              "        text-align: right;\n",
              "    }\n",
              "</style>\n",
              "<table border=\"1\" class=\"dataframe\">\n",
              "  <thead>\n",
              "    <tr style=\"text-align: right;\">\n",
              "      <th></th>\n",
              "      <th>부서</th>\n",
              "      <th>순위</th>\n",
              "      <th>연도</th>\n",
              "      <th>매출액</th>\n",
              "    </tr>\n",
              "  </thead>\n",
              "  <tbody>\n",
              "    <tr>\n",
              "      <th>0</th>\n",
              "      <td>영업1팀</td>\n",
              "      <td>1</td>\n",
              "      <td>2014</td>\n",
              "      <td>876</td>\n",
              "    </tr>\n",
              "    <tr>\n",
              "      <th>1</th>\n",
              "      <td>영업1팀</td>\n",
              "      <td>2</td>\n",
              "      <td>2015</td>\n",
              "      <td>788</td>\n",
              "    </tr>\n",
              "    <tr>\n",
              "      <th>2</th>\n",
              "      <td>영업2팀</td>\n",
              "      <td>1</td>\n",
              "      <td>2016</td>\n",
              "      <td>900</td>\n",
              "    </tr>\n",
              "    <tr>\n",
              "      <th>5</th>\n",
              "      <td>영업1팀</td>\n",
              "      <td>1</td>\n",
              "      <td>2015</td>\n",
              "      <td>910</td>\n",
              "    </tr>\n",
              "    <tr>\n",
              "      <th>7</th>\n",
              "      <td>영업1팀</td>\n",
              "      <td>1</td>\n",
              "      <td>2019</td>\n",
              "      <td>980</td>\n",
              "    </tr>\n",
              "    <tr>\n",
              "      <th>9</th>\n",
              "      <td>영업2팀</td>\n",
              "      <td>2</td>\n",
              "      <td>2016</td>\n",
              "      <td>800</td>\n",
              "    </tr>\n",
              "    <tr>\n",
              "      <th>10</th>\n",
              "      <td>영업2팀</td>\n",
              "      <td>1</td>\n",
              "      <td>2015</td>\n",
              "      <td>877</td>\n",
              "    </tr>\n",
              "  </tbody>\n",
              "</table>\n",
              "</div>"
            ],
            "text/plain": [
              "      부서  순위    연도  매출액\n",
              "0   영업1팀   1  2014  876\n",
              "1   영업1팀   2  2015  788\n",
              "2   영업2팀   1  2016  900\n",
              "5   영업1팀   1  2015  910\n",
              "7   영업1팀   1  2019  980\n",
              "9   영업2팀   2  2016  800\n",
              "10  영업2팀   1  2015  877"
            ]
          },
          "metadata": {
            "tags": []
          },
          "execution_count": 41
        }
      ]
    },
    {
      "cell_type": "code",
      "metadata": {
        "colab": {
          "base_uri": "https://localhost:8080/",
          "height": 168
        },
        "id": "KpdWjGyVs1yY",
        "outputId": "77c1c3c4-476e-4072-bbe8-fe5329be2a67"
      },
      "source": [
        "data.groupby('부서').filter(lambda x : x['매출액'].mean() > 880)\n",
        "#data.groupby('부서')['매출액'].mean()랑 비교"
      ],
      "execution_count": null,
      "outputs": [
        {
          "output_type": "execute_result",
          "data": {
            "text/html": [
              "<div>\n",
              "<style scoped>\n",
              "    .dataframe tbody tr th:only-of-type {\n",
              "        vertical-align: middle;\n",
              "    }\n",
              "\n",
              "    .dataframe tbody tr th {\n",
              "        vertical-align: top;\n",
              "    }\n",
              "\n",
              "    .dataframe thead th {\n",
              "        text-align: right;\n",
              "    }\n",
              "</style>\n",
              "<table border=\"1\" class=\"dataframe\">\n",
              "  <thead>\n",
              "    <tr style=\"text-align: right;\">\n",
              "      <th></th>\n",
              "      <th>부서</th>\n",
              "      <th>순위</th>\n",
              "      <th>연도</th>\n",
              "      <th>매출액</th>\n",
              "    </tr>\n",
              "  </thead>\n",
              "  <tbody>\n",
              "    <tr>\n",
              "      <th>0</th>\n",
              "      <td>영업1팀</td>\n",
              "      <td>1</td>\n",
              "      <td>2014</td>\n",
              "      <td>876</td>\n",
              "    </tr>\n",
              "    <tr>\n",
              "      <th>1</th>\n",
              "      <td>영업1팀</td>\n",
              "      <td>2</td>\n",
              "      <td>2015</td>\n",
              "      <td>788</td>\n",
              "    </tr>\n",
              "    <tr>\n",
              "      <th>5</th>\n",
              "      <td>영업1팀</td>\n",
              "      <td>1</td>\n",
              "      <td>2015</td>\n",
              "      <td>910</td>\n",
              "    </tr>\n",
              "    <tr>\n",
              "      <th>7</th>\n",
              "      <td>영업1팀</td>\n",
              "      <td>1</td>\n",
              "      <td>2019</td>\n",
              "      <td>980</td>\n",
              "    </tr>\n",
              "  </tbody>\n",
              "</table>\n",
              "</div>"
            ],
            "text/plain": [
              "     부서  순위    연도  매출액\n",
              "0  영업1팀   1  2014  876\n",
              "1  영업1팀   2  2015  788\n",
              "5  영업1팀   1  2015  910\n",
              "7  영업1팀   1  2019  980"
            ]
          },
          "metadata": {
            "tags": []
          },
          "execution_count": 43
        }
      ]
    },
    {
      "cell_type": "code",
      "metadata": {
        "colab": {
          "base_uri": "https://localhost:8080/",
          "height": 198
        },
        "id": "z35jU-qds1v1",
        "outputId": "9c6d2fa4-7afb-4240-c936-2334d89bf740"
      },
      "source": [
        "#2015년도 초과하는 연도별 데이터  결과\n",
        "data.groupby('연도').filter(lambda x : x['연도'].min() > 2015)"
      ],
      "execution_count": null,
      "outputs": [
        {
          "output_type": "execute_result",
          "data": {
            "text/html": [
              "<div>\n",
              "<style scoped>\n",
              "    .dataframe tbody tr th:only-of-type {\n",
              "        vertical-align: middle;\n",
              "    }\n",
              "\n",
              "    .dataframe tbody tr th {\n",
              "        vertical-align: top;\n",
              "    }\n",
              "\n",
              "    .dataframe thead th {\n",
              "        text-align: right;\n",
              "    }\n",
              "</style>\n",
              "<table border=\"1\" class=\"dataframe\">\n",
              "  <thead>\n",
              "    <tr style=\"text-align: right;\">\n",
              "      <th></th>\n",
              "      <th>부서</th>\n",
              "      <th>순위</th>\n",
              "      <th>연도</th>\n",
              "      <th>매출액</th>\n",
              "    </tr>\n",
              "  </thead>\n",
              "  <tbody>\n",
              "    <tr>\n",
              "      <th>2</th>\n",
              "      <td>영업2팀</td>\n",
              "      <td>1</td>\n",
              "      <td>2016</td>\n",
              "      <td>900</td>\n",
              "    </tr>\n",
              "    <tr>\n",
              "      <th>4</th>\n",
              "      <td>해외영업팀</td>\n",
              "      <td>2</td>\n",
              "      <td>2017</td>\n",
              "      <td>770</td>\n",
              "    </tr>\n",
              "    <tr>\n",
              "      <th>7</th>\n",
              "      <td>영업1팀</td>\n",
              "      <td>1</td>\n",
              "      <td>2019</td>\n",
              "      <td>980</td>\n",
              "    </tr>\n",
              "    <tr>\n",
              "      <th>8</th>\n",
              "      <td>해외영업팀</td>\n",
              "      <td>3</td>\n",
              "      <td>2017</td>\n",
              "      <td>910</td>\n",
              "    </tr>\n",
              "    <tr>\n",
              "      <th>9</th>\n",
              "      <td>영업2팀</td>\n",
              "      <td>2</td>\n",
              "      <td>2016</td>\n",
              "      <td>800</td>\n",
              "    </tr>\n",
              "  </tbody>\n",
              "</table>\n",
              "</div>"
            ],
            "text/plain": [
              "      부서  순위    연도  매출액\n",
              "2   영업2팀   1  2016  900\n",
              "4  해외영업팀   2  2017  770\n",
              "7   영업1팀   1  2019  980\n",
              "8  해외영업팀   3  2017  910\n",
              "9   영업2팀   2  2016  800"
            ]
          },
          "metadata": {
            "tags": []
          },
          "execution_count": 50
        }
      ]
    },
    {
      "cell_type": "markdown",
      "metadata": {
        "id": "bWvnW-0q04gc"
      },
      "source": [
        "# **Pivot Table**\n",
        "- Pandas에서 제공하는 Pivot기능은 엑셀의 피봇테이블과 동일한 기능을 제공한다."
      ]
    },
    {
      "cell_type": "code",
      "metadata": {
        "colab": {
          "base_uri": "https://localhost:8080/"
        },
        "id": "qae4B77Z4pOc",
        "outputId": "5583bdb7-17ea-4c99-ff32-74d7df8488a4"
      },
      "source": [
        "from google.colab import drive\n",
        "drive.mount('/content/drive')"
      ],
      "execution_count": 58,
      "outputs": [
        {
          "output_type": "stream",
          "text": [
            "Drive already mounted at /content/drive; to attempt to forcibly remount, call drive.mount(\"/content/drive\", force_remount=True).\n"
          ],
          "name": "stdout"
        }
      ]
    },
    {
      "cell_type": "code",
      "metadata": {
        "id": "tWZdivkT2Xa1"
      },
      "source": [
        "from pandas import DataFrame, Series\n",
        "import pandas as pd\n",
        "import numpy as np\n"
      ],
      "execution_count": 51,
      "outputs": []
    },
    {
      "cell_type": "code",
      "metadata": {
        "colab": {
          "base_uri": "https://localhost:8080/",
          "height": 407
        },
        "id": "ee3h9eN-2XXG",
        "outputId": "4a0baca7-0359-4435-a2a8-561a2faa0bf0"
      },
      "source": [
        "path = 'drive/MyDrive/Colab Notebooks/data/'\n",
        "\n",
        "phone = pd.read_csv(path + 'phone_data.csv')\n",
        "phone"
      ],
      "execution_count": 60,
      "outputs": [
        {
          "output_type": "execute_result",
          "data": {
            "text/html": [
              "<div>\n",
              "<style scoped>\n",
              "    .dataframe tbody tr th:only-of-type {\n",
              "        vertical-align: middle;\n",
              "    }\n",
              "\n",
              "    .dataframe tbody tr th {\n",
              "        vertical-align: top;\n",
              "    }\n",
              "\n",
              "    .dataframe thead th {\n",
              "        text-align: right;\n",
              "    }\n",
              "</style>\n",
              "<table border=\"1\" class=\"dataframe\">\n",
              "  <thead>\n",
              "    <tr style=\"text-align: right;\">\n",
              "      <th></th>\n",
              "      <th>index</th>\n",
              "      <th>date</th>\n",
              "      <th>duration</th>\n",
              "      <th>item</th>\n",
              "      <th>month</th>\n",
              "      <th>network</th>\n",
              "      <th>network_type</th>\n",
              "    </tr>\n",
              "  </thead>\n",
              "  <tbody>\n",
              "    <tr>\n",
              "      <th>0</th>\n",
              "      <td>0</td>\n",
              "      <td>15/10/14 06:58</td>\n",
              "      <td>34.429</td>\n",
              "      <td>data</td>\n",
              "      <td>2014-11</td>\n",
              "      <td>data</td>\n",
              "      <td>data</td>\n",
              "    </tr>\n",
              "    <tr>\n",
              "      <th>1</th>\n",
              "      <td>1</td>\n",
              "      <td>15/10/14 06:58</td>\n",
              "      <td>13.000</td>\n",
              "      <td>call</td>\n",
              "      <td>2014-11</td>\n",
              "      <td>Vodafone</td>\n",
              "      <td>mobile</td>\n",
              "    </tr>\n",
              "    <tr>\n",
              "      <th>2</th>\n",
              "      <td>2</td>\n",
              "      <td>15/10/14 14:46</td>\n",
              "      <td>23.000</td>\n",
              "      <td>call</td>\n",
              "      <td>2014-11</td>\n",
              "      <td>Meteor</td>\n",
              "      <td>mobile</td>\n",
              "    </tr>\n",
              "    <tr>\n",
              "      <th>3</th>\n",
              "      <td>3</td>\n",
              "      <td>15/10/14 14:48</td>\n",
              "      <td>4.000</td>\n",
              "      <td>call</td>\n",
              "      <td>2014-11</td>\n",
              "      <td>Tesco</td>\n",
              "      <td>mobile</td>\n",
              "    </tr>\n",
              "    <tr>\n",
              "      <th>4</th>\n",
              "      <td>4</td>\n",
              "      <td>15/10/14 17:27</td>\n",
              "      <td>4.000</td>\n",
              "      <td>call</td>\n",
              "      <td>2014-11</td>\n",
              "      <td>Tesco</td>\n",
              "      <td>mobile</td>\n",
              "    </tr>\n",
              "    <tr>\n",
              "      <th>...</th>\n",
              "      <td>...</td>\n",
              "      <td>...</td>\n",
              "      <td>...</td>\n",
              "      <td>...</td>\n",
              "      <td>...</td>\n",
              "      <td>...</td>\n",
              "      <td>...</td>\n",
              "    </tr>\n",
              "    <tr>\n",
              "      <th>825</th>\n",
              "      <td>825</td>\n",
              "      <td>13/03/15 00:38</td>\n",
              "      <td>1.000</td>\n",
              "      <td>sms</td>\n",
              "      <td>2015-03</td>\n",
              "      <td>world</td>\n",
              "      <td>world</td>\n",
              "    </tr>\n",
              "    <tr>\n",
              "      <th>826</th>\n",
              "      <td>826</td>\n",
              "      <td>13/03/15 00:39</td>\n",
              "      <td>1.000</td>\n",
              "      <td>sms</td>\n",
              "      <td>2015-03</td>\n",
              "      <td>Vodafone</td>\n",
              "      <td>mobile</td>\n",
              "    </tr>\n",
              "    <tr>\n",
              "      <th>827</th>\n",
              "      <td>827</td>\n",
              "      <td>13/03/15 06:58</td>\n",
              "      <td>34.429</td>\n",
              "      <td>data</td>\n",
              "      <td>2015-03</td>\n",
              "      <td>data</td>\n",
              "      <td>data</td>\n",
              "    </tr>\n",
              "    <tr>\n",
              "      <th>828</th>\n",
              "      <td>828</td>\n",
              "      <td>14/03/15 00:13</td>\n",
              "      <td>1.000</td>\n",
              "      <td>sms</td>\n",
              "      <td>2015-03</td>\n",
              "      <td>world</td>\n",
              "      <td>world</td>\n",
              "    </tr>\n",
              "    <tr>\n",
              "      <th>829</th>\n",
              "      <td>829</td>\n",
              "      <td>14/03/15 00:16</td>\n",
              "      <td>1.000</td>\n",
              "      <td>sms</td>\n",
              "      <td>2015-03</td>\n",
              "      <td>world</td>\n",
              "      <td>world</td>\n",
              "    </tr>\n",
              "  </tbody>\n",
              "</table>\n",
              "<p>830 rows × 7 columns</p>\n",
              "</div>"
            ],
            "text/plain": [
              "     index            date  duration  item    month   network network_type\n",
              "0        0  15/10/14 06:58    34.429  data  2014-11      data         data\n",
              "1        1  15/10/14 06:58    13.000  call  2014-11  Vodafone       mobile\n",
              "2        2  15/10/14 14:46    23.000  call  2014-11    Meteor       mobile\n",
              "3        3  15/10/14 14:48     4.000  call  2014-11     Tesco       mobile\n",
              "4        4  15/10/14 17:27     4.000  call  2014-11     Tesco       mobile\n",
              "..     ...             ...       ...   ...      ...       ...          ...\n",
              "825    825  13/03/15 00:38     1.000   sms  2015-03     world        world\n",
              "826    826  13/03/15 00:39     1.000   sms  2015-03  Vodafone       mobile\n",
              "827    827  13/03/15 06:58    34.429  data  2015-03      data         data\n",
              "828    828  14/03/15 00:13     1.000   sms  2015-03     world        world\n",
              "829    829  14/03/15 00:16     1.000   sms  2015-03     world        world\n",
              "\n",
              "[830 rows x 7 columns]"
            ]
          },
          "metadata": {
            "tags": []
          },
          "execution_count": 60
        }
      ]
    },
    {
      "cell_type": "code",
      "metadata": {
        "colab": {
          "base_uri": "https://localhost:8080/",
          "height": 558
        },
        "id": "shGA6czL2XTy",
        "outputId": "724f9688-3549-449d-8e2b-489498f5b9cb"
      },
      "source": [
        "phone.pivot_table(['duration'], \n",
        "                  index=[phone.month, phone.item], \n",
        "                  columns = phone.network,\n",
        "                  aggfunc = np.mean, #나타내고자 하는 agg연산 값\n",
        "                  fill_value = 0 #크로스되는 부분에 아무 것도 없을때 뭐로 채울래\n",
        "                  )"
      ],
      "execution_count": 61,
      "outputs": [
        {
          "output_type": "execute_result",
          "data": {
            "text/html": [
              "<div>\n",
              "<style scoped>\n",
              "    .dataframe tbody tr th:only-of-type {\n",
              "        vertical-align: middle;\n",
              "    }\n",
              "\n",
              "    .dataframe tbody tr th {\n",
              "        vertical-align: top;\n",
              "    }\n",
              "\n",
              "    .dataframe thead tr th {\n",
              "        text-align: left;\n",
              "    }\n",
              "\n",
              "    .dataframe thead tr:last-of-type th {\n",
              "        text-align: right;\n",
              "    }\n",
              "</style>\n",
              "<table border=\"1\" class=\"dataframe\">\n",
              "  <thead>\n",
              "    <tr>\n",
              "      <th></th>\n",
              "      <th></th>\n",
              "      <th colspan=\"9\" halign=\"left\">duration</th>\n",
              "    </tr>\n",
              "    <tr>\n",
              "      <th></th>\n",
              "      <th>network</th>\n",
              "      <th>Meteor</th>\n",
              "      <th>Tesco</th>\n",
              "      <th>Three</th>\n",
              "      <th>Vodafone</th>\n",
              "      <th>data</th>\n",
              "      <th>landline</th>\n",
              "      <th>special</th>\n",
              "      <th>voicemail</th>\n",
              "      <th>world</th>\n",
              "    </tr>\n",
              "    <tr>\n",
              "      <th>month</th>\n",
              "      <th>item</th>\n",
              "      <th></th>\n",
              "      <th></th>\n",
              "      <th></th>\n",
              "      <th></th>\n",
              "      <th></th>\n",
              "      <th></th>\n",
              "      <th></th>\n",
              "      <th></th>\n",
              "      <th></th>\n",
              "    </tr>\n",
              "  </thead>\n",
              "  <tbody>\n",
              "    <tr>\n",
              "      <th rowspan=\"3\" valign=\"top\">2014-11</th>\n",
              "      <th>call</th>\n",
              "      <td>117.000000</td>\n",
              "      <td>202.250000</td>\n",
              "      <td>319.435897</td>\n",
              "      <td>179.833333</td>\n",
              "      <td>0.000</td>\n",
              "      <td>581.200000</td>\n",
              "      <td>0</td>\n",
              "      <td>50.166667</td>\n",
              "      <td>0</td>\n",
              "    </tr>\n",
              "    <tr>\n",
              "      <th>data</th>\n",
              "      <td>0.000000</td>\n",
              "      <td>0.000000</td>\n",
              "      <td>0.000000</td>\n",
              "      <td>0.000000</td>\n",
              "      <td>34.429</td>\n",
              "      <td>0.000000</td>\n",
              "      <td>0</td>\n",
              "      <td>0.000000</td>\n",
              "      <td>0</td>\n",
              "    </tr>\n",
              "    <tr>\n",
              "      <th>sms</th>\n",
              "      <td>1.000000</td>\n",
              "      <td>1.000000</td>\n",
              "      <td>1.000000</td>\n",
              "      <td>1.000000</td>\n",
              "      <td>0.000</td>\n",
              "      <td>0.000000</td>\n",
              "      <td>1</td>\n",
              "      <td>0.000000</td>\n",
              "      <td>0</td>\n",
              "    </tr>\n",
              "    <tr>\n",
              "      <th rowspan=\"3\" valign=\"top\">2014-12</th>\n",
              "      <th>call</th>\n",
              "      <td>167.500000</td>\n",
              "      <td>151.583333</td>\n",
              "      <td>210.533333</td>\n",
              "      <td>130.200000</td>\n",
              "      <td>0.000</td>\n",
              "      <td>203.428571</td>\n",
              "      <td>0</td>\n",
              "      <td>86.250000</td>\n",
              "      <td>0</td>\n",
              "    </tr>\n",
              "    <tr>\n",
              "      <th>data</th>\n",
              "      <td>0.000000</td>\n",
              "      <td>0.000000</td>\n",
              "      <td>0.000000</td>\n",
              "      <td>0.000000</td>\n",
              "      <td>34.429</td>\n",
              "      <td>0.000000</td>\n",
              "      <td>0</td>\n",
              "      <td>0.000000</td>\n",
              "      <td>0</td>\n",
              "    </tr>\n",
              "    <tr>\n",
              "      <th>sms</th>\n",
              "      <td>1.000000</td>\n",
              "      <td>1.000000</td>\n",
              "      <td>1.000000</td>\n",
              "      <td>1.000000</td>\n",
              "      <td>0.000</td>\n",
              "      <td>0.000000</td>\n",
              "      <td>0</td>\n",
              "      <td>0.000000</td>\n",
              "      <td>1</td>\n",
              "    </tr>\n",
              "    <tr>\n",
              "      <th rowspan=\"3\" valign=\"top\">2015-01</th>\n",
              "      <th>call</th>\n",
              "      <td>105.095238</td>\n",
              "      <td>242.000000</td>\n",
              "      <td>247.884615</td>\n",
              "      <td>241.733333</td>\n",
              "      <td>0.000</td>\n",
              "      <td>145.727273</td>\n",
              "      <td>0</td>\n",
              "      <td>95.000000</td>\n",
              "      <td>0</td>\n",
              "    </tr>\n",
              "    <tr>\n",
              "      <th>data</th>\n",
              "      <td>0.000000</td>\n",
              "      <td>0.000000</td>\n",
              "      <td>0.000000</td>\n",
              "      <td>0.000000</td>\n",
              "      <td>34.429</td>\n",
              "      <td>0.000000</td>\n",
              "      <td>0</td>\n",
              "      <td>0.000000</td>\n",
              "      <td>0</td>\n",
              "    </tr>\n",
              "    <tr>\n",
              "      <th>sms</th>\n",
              "      <td>1.000000</td>\n",
              "      <td>1.000000</td>\n",
              "      <td>1.000000</td>\n",
              "      <td>1.000000</td>\n",
              "      <td>0.000</td>\n",
              "      <td>0.000000</td>\n",
              "      <td>0</td>\n",
              "      <td>0.000000</td>\n",
              "      <td>0</td>\n",
              "    </tr>\n",
              "    <tr>\n",
              "      <th rowspan=\"3\" valign=\"top\">2015-02</th>\n",
              "      <th>call</th>\n",
              "      <td>297.000000</td>\n",
              "      <td>204.350000</td>\n",
              "      <td>285.409091</td>\n",
              "      <td>266.285714</td>\n",
              "      <td>0.000</td>\n",
              "      <td>91.250000</td>\n",
              "      <td>0</td>\n",
              "      <td>44.666667</td>\n",
              "      <td>0</td>\n",
              "    </tr>\n",
              "    <tr>\n",
              "      <th>data</th>\n",
              "      <td>0.000000</td>\n",
              "      <td>0.000000</td>\n",
              "      <td>0.000000</td>\n",
              "      <td>0.000000</td>\n",
              "      <td>34.429</td>\n",
              "      <td>0.000000</td>\n",
              "      <td>0</td>\n",
              "      <td>0.000000</td>\n",
              "      <td>0</td>\n",
              "    </tr>\n",
              "    <tr>\n",
              "      <th>sms</th>\n",
              "      <td>1.000000</td>\n",
              "      <td>1.000000</td>\n",
              "      <td>1.000000</td>\n",
              "      <td>1.000000</td>\n",
              "      <td>0.000</td>\n",
              "      <td>0.000000</td>\n",
              "      <td>1</td>\n",
              "      <td>0.000000</td>\n",
              "      <td>0</td>\n",
              "    </tr>\n",
              "    <tr>\n",
              "      <th rowspan=\"3\" valign=\"top\">2015-03</th>\n",
              "      <th>call</th>\n",
              "      <td>68.500000</td>\n",
              "      <td>139.000000</td>\n",
              "      <td>451.454545</td>\n",
              "      <td>351.300000</td>\n",
              "      <td>0.000</td>\n",
              "      <td>1070.000000</td>\n",
              "      <td>0</td>\n",
              "      <td>57.750000</td>\n",
              "      <td>0</td>\n",
              "    </tr>\n",
              "    <tr>\n",
              "      <th>data</th>\n",
              "      <td>0.000000</td>\n",
              "      <td>0.000000</td>\n",
              "      <td>0.000000</td>\n",
              "      <td>0.000000</td>\n",
              "      <td>34.429</td>\n",
              "      <td>0.000000</td>\n",
              "      <td>0</td>\n",
              "      <td>0.000000</td>\n",
              "      <td>0</td>\n",
              "    </tr>\n",
              "    <tr>\n",
              "      <th>sms</th>\n",
              "      <td>0.000000</td>\n",
              "      <td>1.000000</td>\n",
              "      <td>1.000000</td>\n",
              "      <td>1.000000</td>\n",
              "      <td>0.000</td>\n",
              "      <td>0.000000</td>\n",
              "      <td>0</td>\n",
              "      <td>0.000000</td>\n",
              "      <td>1</td>\n",
              "    </tr>\n",
              "  </tbody>\n",
              "</table>\n",
              "</div>"
            ],
            "text/plain": [
              "                duration                          ...                         \n",
              "network           Meteor       Tesco       Three  ... special  voicemail world\n",
              "month   item                                      ...                         \n",
              "2014-11 call  117.000000  202.250000  319.435897  ...       0  50.166667     0\n",
              "        data    0.000000    0.000000    0.000000  ...       0   0.000000     0\n",
              "        sms     1.000000    1.000000    1.000000  ...       1   0.000000     0\n",
              "2014-12 call  167.500000  151.583333  210.533333  ...       0  86.250000     0\n",
              "        data    0.000000    0.000000    0.000000  ...       0   0.000000     0\n",
              "        sms     1.000000    1.000000    1.000000  ...       0   0.000000     1\n",
              "2015-01 call  105.095238  242.000000  247.884615  ...       0  95.000000     0\n",
              "        data    0.000000    0.000000    0.000000  ...       0   0.000000     0\n",
              "        sms     1.000000    1.000000    1.000000  ...       0   0.000000     0\n",
              "2015-02 call  297.000000  204.350000  285.409091  ...       0  44.666667     0\n",
              "        data    0.000000    0.000000    0.000000  ...       0   0.000000     0\n",
              "        sms     1.000000    1.000000    1.000000  ...       1   0.000000     0\n",
              "2015-03 call   68.500000  139.000000  451.454545  ...       0  57.750000     0\n",
              "        data    0.000000    0.000000    0.000000  ...       0   0.000000     0\n",
              "        sms     0.000000    1.000000    1.000000  ...       0   0.000000     1\n",
              "\n",
              "[15 rows x 9 columns]"
            ]
          },
          "metadata": {
            "tags": []
          },
          "execution_count": 61
        }
      ]
    },
    {
      "cell_type": "code",
      "metadata": {
        "colab": {
          "base_uri": "https://localhost:8080/",
          "height": 168
        },
        "id": "2UYuCo0i2XRe",
        "outputId": "ba6f7a23-eca9-4598-d01a-e425be2052f1"
      },
      "source": [
        "phone.pivot_table('duration', index=phone.item, columns=phone.network_type, aggfunc=np.sum, fill_value=0)"
      ],
      "execution_count": 71,
      "outputs": [
        {
          "output_type": "execute_result",
          "data": {
            "text/html": [
              "<div>\n",
              "<style scoped>\n",
              "    .dataframe tbody tr th:only-of-type {\n",
              "        vertical-align: middle;\n",
              "    }\n",
              "\n",
              "    .dataframe tbody tr th {\n",
              "        vertical-align: top;\n",
              "    }\n",
              "\n",
              "    .dataframe thead th {\n",
              "        text-align: right;\n",
              "    }\n",
              "</style>\n",
              "<table border=\"1\" class=\"dataframe\">\n",
              "  <thead>\n",
              "    <tr style=\"text-align: right;\">\n",
              "      <th>network_type</th>\n",
              "      <th>data</th>\n",
              "      <th>landline</th>\n",
              "      <th>mobile</th>\n",
              "      <th>special</th>\n",
              "      <th>voicemail</th>\n",
              "      <th>world</th>\n",
              "    </tr>\n",
              "    <tr>\n",
              "      <th>item</th>\n",
              "      <th></th>\n",
              "      <th></th>\n",
              "      <th></th>\n",
              "      <th></th>\n",
              "      <th></th>\n",
              "      <th></th>\n",
              "    </tr>\n",
              "  </thead>\n",
              "  <tbody>\n",
              "    <tr>\n",
              "      <th>call</th>\n",
              "      <td>0.00</td>\n",
              "      <td>18433</td>\n",
              "      <td>72113</td>\n",
              "      <td>0</td>\n",
              "      <td>1775</td>\n",
              "      <td>0</td>\n",
              "    </tr>\n",
              "    <tr>\n",
              "      <th>data</th>\n",
              "      <td>5164.35</td>\n",
              "      <td>0</td>\n",
              "      <td>0</td>\n",
              "      <td>0</td>\n",
              "      <td>0</td>\n",
              "      <td>0</td>\n",
              "    </tr>\n",
              "    <tr>\n",
              "      <th>sms</th>\n",
              "      <td>0.00</td>\n",
              "      <td>0</td>\n",
              "      <td>282</td>\n",
              "      <td>3</td>\n",
              "      <td>0</td>\n",
              "      <td>7</td>\n",
              "    </tr>\n",
              "  </tbody>\n",
              "</table>\n",
              "</div>"
            ],
            "text/plain": [
              "network_type     data  landline  mobile  special  voicemail  world\n",
              "item                                                              \n",
              "call             0.00     18433   72113        0       1775      0\n",
              "data          5164.35         0       0        0          0      0\n",
              "sms              0.00         0     282        3          0      7"
            ]
          },
          "metadata": {
            "tags": []
          },
          "execution_count": 71
        }
      ]
    },
    {
      "cell_type": "code",
      "metadata": {
        "id": "WNognLYm2XOt"
      },
      "source": [
        ""
      ],
      "execution_count": null,
      "outputs": []
    },
    {
      "cell_type": "code",
      "metadata": {
        "id": "6potNKkz2XMP"
      },
      "source": [
        ""
      ],
      "execution_count": null,
      "outputs": []
    },
    {
      "cell_type": "code",
      "metadata": {
        "id": "0KlxLgUl2XIH"
      },
      "source": [
        ""
      ],
      "execution_count": null,
      "outputs": []
    },
    {
      "cell_type": "code",
      "metadata": {
        "id": "IezVmxw32XE8"
      },
      "source": [
        ""
      ],
      "execution_count": null,
      "outputs": []
    },
    {
      "cell_type": "code",
      "metadata": {
        "id": "YCQtWTci2XCU"
      },
      "source": [
        ""
      ],
      "execution_count": null,
      "outputs": []
    },
    {
      "cell_type": "code",
      "metadata": {
        "id": "9TlhpiXS2W_Q"
      },
      "source": [
        ""
      ],
      "execution_count": null,
      "outputs": []
    },
    {
      "cell_type": "code",
      "metadata": {
        "id": "GsW1K-ov2W8g"
      },
      "source": [
        ""
      ],
      "execution_count": null,
      "outputs": []
    },
    {
      "cell_type": "code",
      "metadata": {
        "id": "qw9qCbLY2W5-"
      },
      "source": [
        ""
      ],
      "execution_count": null,
      "outputs": []
    },
    {
      "cell_type": "code",
      "metadata": {
        "id": "l5HKKDgY2W3G"
      },
      "source": [
        ""
      ],
      "execution_count": null,
      "outputs": []
    },
    {
      "cell_type": "code",
      "metadata": {
        "id": "o5ahIFWm2W0r"
      },
      "source": [
        ""
      ],
      "execution_count": null,
      "outputs": []
    },
    {
      "cell_type": "code",
      "metadata": {
        "id": "40c2ON932Wxn"
      },
      "source": [
        ""
      ],
      "execution_count": null,
      "outputs": []
    },
    {
      "cell_type": "code",
      "metadata": {
        "id": "EBwfqv0H2Wuz"
      },
      "source": [
        ""
      ],
      "execution_count": null,
      "outputs": []
    }
  ]
}